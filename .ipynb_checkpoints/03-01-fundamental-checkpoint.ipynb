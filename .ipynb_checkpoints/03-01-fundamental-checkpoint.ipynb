{
 "cells": [
  {
   "cell_type": "markdown",
   "id": "a77cd6d2-beb6-4443-bee8-ca90d6921a76",
   "metadata": {},
   "source": [
    "# API를 이용해 ChatGPT API 활용하기"
   ]
  },
  {
   "cell_type": "markdown",
   "id": "c8ad58bf-49fd-4dab-b3b2-fefe939e89d9",
   "metadata": {},
   "source": [
    "현재 Python이 실행 중인 가상환경과 일치하는지 확인하기 위해 실행하는 코드이다.  \n",
    "정상적이라면 /Path/가상환경명/bin/python과 같은 형태로 출력된다."
   ]
  },
  {
   "cell_type": "code",
   "execution_count": 1,
   "id": "7da8b73a-f321-4acc-aa78-0f34c198e3cc",
   "metadata": {},
   "outputs": [
    {
     "name": "stdout",
     "output_type": "stream",
     "text": [
      "Python 3.11.5\n"
     ]
    }
   ],
   "source": [
    "!python --version"
   ]
  },
  {
   "cell_type": "code",
   "execution_count": 2,
   "id": "a8382e88",
   "metadata": {},
   "outputs": [
    {
     "data": {
      "text/plain": [
       "'/Users/heavenly/opt/anaconda3/envs/mqed/bin/python'"
      ]
     },
     "execution_count": 2,
     "metadata": {},
     "output_type": "execute_result"
    }
   ],
   "source": [
    "import sys\n",
    "sys.executable"
   ]
  },
  {
   "cell_type": "markdown",
   "id": "e1f8abb0",
   "metadata": {},
   "source": [
    "## ChatGPT API 사용을 위해 미리 해야 할 일"
   ]
  },
  {
   "cell_type": "markdown",
   "id": "c371e56a",
   "metadata": {},
   "source": [
    "<h3>1. ChatGPT API 키 발급받기</h3>\n",
    "<h3>2. 가상환경 설치하기(anaconda)</h3>\n",
    "Anaconda는 가상환경을 설치하고 지원하는 프로그램이며, 이를 설치하면 별도의 파이썬을 설치하지 않아도 된다.<br>\n",
    "설치 링크 <a href=\"https://www.anaconda.com/download/\">click</a>\n",
    "<h3>3. 나만의 가상환경 만들기</h3>\n",
    "명령 프롬프트나 터미널을 열어서 아래의 명령어를 입력한다.<br>\n",
    "<b>conda create -n llm python=3.11.5</b><br>\n",
    "<b>conda activate llm</b><br>\n",
    "<b>pip install -r requirements.txt</b><br>\n",
    "깃허브 레포지토리에서 다운로드 받으면 requirements.txt를 받을 수 있으며, 해당 폴더로 이동해 명령어를 실행해야 한다.<br>"
   ]
  },
  {
   "cell_type": "markdown",
   "id": "0780b707-62f8-472b-aeb6-19fd9056be27",
   "metadata": {},
   "source": [
    ".env 파일을 만들어야 한다.  \n",
    "메모장이나 텍스트 편집기로 만든 다음, 저장할 때, '.env'로 이름을 지정한다.  \n",
    ".env 파일은 실행하는 파이썬 파일과 같은 경로에 위치하도록 한다.  \n",
    ".env에 들어가야 할 내용은 다음과 같다.  \n",
    "\n",
    "<B>OPENAI_API_KEY=<I>내가 복사한 api key</I></B>"
   ]
  },
  {
   "cell_type": "code",
   "execution_count": null,
   "id": "61be9b2e-6f65-42d3-adc6-06c275dfad98",
   "metadata": {},
   "outputs": [],
   "source": [
    "!pip install openai python-dotenv"
   ]
  },
  {
   "cell_type": "code",
   "execution_count": 3,
   "id": "86e91cf5-7e8f-41a0-8a25-3d9e419274e1",
   "metadata": {},
   "outputs": [
    {
     "data": {
      "text/plain": [
       "'/Users/heavenly/Dropbox/Code/llm_api'"
      ]
     },
     "execution_count": 3,
     "metadata": {},
     "output_type": "execute_result"
    }
   ],
   "source": [
    "import os\n",
    "\n",
    "os.getcwd()"
   ]
  },
  {
   "cell_type": "code",
   "execution_count": 2,
   "id": "58ab5b15",
   "metadata": {
    "scrolled": true
   },
   "outputs": [
    {
     "data": {
      "text/plain": [
       "True"
      ]
     },
     "execution_count": 2,
     "metadata": {},
     "output_type": "execute_result"
    }
   ],
   "source": [
    "import os\n",
    "import time\n",
    "import re\n",
    "import json\n",
    "import openai\n",
    "from openai._client import OpenAI #ChatGPT API 이용을 위한 라이브러리\n",
    "from dotenv import load_dotenv #.env에서 파일을 읽어오기 위한 환경변수 처리 라이브러리\n",
    "\n",
    "load_dotenv() # 환경 파일 불러오기"
   ]
  },
  {
   "cell_type": "code",
   "execution_count": 4,
   "id": "f6724723-30bd-4e14-858c-9b90749cf3dc",
   "metadata": {},
   "outputs": [],
   "source": [
    "client = OpenAI(api_key = os.getenv('OPENAI_API_KEY'))\n",
    "#client = OpenAI(api_key = '')"
   ]
  },
  {
   "cell_type": "code",
   "execution_count": 5,
   "id": "2010ad33",
   "metadata": {},
   "outputs": [],
   "source": [
    "TEMPERATURE = 0.0\n",
    "MAX_TOKENS = 16000\n",
    "MODEL = 'gpt-4o'\n",
    "context = [] # 리스트\n",
    "\n",
    "def check_tokens(items):\n",
    "    cnt = 0\n",
    "\n",
    "    if items is None:\n",
    "        return cnt\n",
    "\n",
    "    for item in items:\n",
    "        cnt += len(item['content'])\n",
    "\n",
    "    return cnt"
   ]
  },
  {
   "cell_type": "markdown",
   "id": "3ac1ef78",
   "metadata": {},
   "source": [
    "## Chatbot"
   ]
  },
  {
   "cell_type": "code",
   "execution_count": 6,
   "id": "aa6312c3",
   "metadata": {},
   "outputs": [],
   "source": [
    "def conversate():\n",
    "    while(1):\n",
    "        message = input('Chat:')\n",
    "        message = message.strip()\n",
    "    \n",
    "        if message == '':\n",
    "            print('Input your talk.')\n",
    "            continue\n",
    "        elif message == 'exit':\n",
    "            break\n",
    "    \n",
    "        # Examine if the size of check is over the maximum tokens\n",
    "        total_cnt = check_tokens(context) + len(message)\n",
    "\n",
    "        if total_cnt >= MAX_TOKENS:\n",
    "            context.clear()\n",
    "            print('context cleared.')\n",
    "\n",
    "        # Setup up for message to call ChatGPT\n",
    "        if len(context) == 0:\n",
    "            context.append({\"role\": \"system\", \"content\": \"You are a helpful assistant.\"})\n",
    "            context.append({\"role\": \"user\", \"content\": message})\n",
    "        else:\n",
    "            context.append({\"role\": \"user\", \"content\": message})\n",
    "\n",
    "        response = client.chat.completions.create(model=MODEL, messages=context, temperature=TEMPERATURE)\n",
    "        answer = response.choices[0].message.content\n",
    "        print(f\"AI: {answer}\")\n",
    "        #codes = markdown.markdown(answer, extensions=['fenced_code', 'codehilite'])\n",
    "        context.append({'role': 'assistant', 'content': answer})\n",
    "\n",
    "        if check_tokens(context) >= MAX_TOKENS:\n",
    "            context.clear()"
   ]
  },
  {
   "cell_type": "code",
   "execution_count": 7,
   "id": "6f9d66a3-aecd-4bbc-b75b-6fd7163e9195",
   "metadata": {},
   "outputs": [
    {
     "name": "stdin",
     "output_type": "stream",
     "text": [
      "Chat: 안녕\n"
     ]
    },
    {
     "name": "stdout",
     "output_type": "stream",
     "text": [
      "AI: 안녕하세요! 어떻게 도와드릴까요?\n"
     ]
    },
    {
     "name": "stdin",
     "output_type": "stream",
     "text": [
      "Chat: 1+1 은 영어로 계산하는 과정을 알려 줘.\n"
     ]
    },
    {
     "name": "stdout",
     "output_type": "stream",
     "text": [
      "AI: 물론입니다! \"1 + 1\"을 영어로 계산하는 과정을 설명해 드릴게요.\n",
      "\n",
      "1. **Identify the numbers**: First, we identify the numbers we are working with. In this case, we have the number \"one\" (1) and another \"one\" (1).\n",
      "\n",
      "2. **Use the addition operation**: We are performing an addition operation. In English, we say \"plus\" for addition.\n",
      "\n",
      "3. **State the equation**: We can say, \"One plus one.\"\n",
      "\n",
      "4. **Calculate the sum**: Now we add the two numbers together. One (1) plus one (1) equals two (2).\n",
      "\n",
      "5. **State the result**: Finally, we can say, \"One plus one equals two.\"\n",
      "\n",
      "So, the entire process in English would be:\n",
      "\"One plus one equals two.\" \n",
      "\n",
      "이해가 되셨나요? 추가로 궁금한 점이 있으면 말씀해 주세요!\n"
     ]
    },
    {
     "name": "stdin",
     "output_type": "stream",
     "text": [
      "Chat: 그럼 1부터 100까지 숫자 중에 소수는 몇 개 있어?\n"
     ]
    },
    {
     "name": "stdout",
     "output_type": "stream",
     "text": [
      "AI: 1부터 100까지의 소수를 찾아보면, 소수는 1보다 큰 자연수 중에서 1과 자기 자신만으로 나누어 떨어지는 수를 말합니다. \n",
      "\n",
      "1부터 100까지의 소수는 다음과 같습니다:\n",
      "\n",
      "- 2\n",
      "- 3\n",
      "- 5\n",
      "- 7\n",
      "- 11\n",
      "- 13\n",
      "- 17\n",
      "- 19\n",
      "- 23\n",
      "- 29\n",
      "- 31\n",
      "- 37\n",
      "- 41\n",
      "- 43\n",
      "- 47\n",
      "- 53\n",
      "- 59\n",
      "- 61\n",
      "- 67\n",
      "- 71\n",
      "- 73\n",
      "- 79\n",
      "- 83\n",
      "- 89\n",
      "- 97\n",
      "\n",
      "이렇게 총 25개의 소수가 있습니다.\n"
     ]
    },
    {
     "name": "stdin",
     "output_type": "stream",
     "text": [
      "Chat: exit\n"
     ]
    }
   ],
   "source": [
    "conversate()"
   ]
  },
  {
   "cell_type": "code",
   "execution_count": 8,
   "id": "352e9241-a631-4c73-9c93-1e147c59f583",
   "metadata": {},
   "outputs": [
    {
     "data": {
      "text/plain": [
       "[{'role': 'system', 'content': 'You are a helpful assistant.'},\n",
       " {'role': 'user', 'content': '안녕'},\n",
       " {'role': 'assistant', 'content': '안녕하세요! 어떻게 도와드릴까요?'},\n",
       " {'role': 'user', 'content': '1+1 은 영어로 계산하는 과정을 알려 줘.'},\n",
       " {'role': 'assistant',\n",
       "  'content': '물론입니다! \"1 + 1\"을 영어로 계산하는 과정을 설명해 드릴게요.\\n\\n1. **Identify the numbers**: First, we identify the numbers we are working with. In this case, we have the number \"one\" (1) and another \"one\" (1).\\n\\n2. **Use the addition operation**: We are performing an addition operation. In English, we say \"plus\" for addition.\\n\\n3. **State the equation**: We can say, \"One plus one.\"\\n\\n4. **Calculate the sum**: Now we add the two numbers together. One (1) plus one (1) equals two (2).\\n\\n5. **State the result**: Finally, we can say, \"One plus one equals two.\"\\n\\nSo, the entire process in English would be:\\n\"One plus one equals two.\" \\n\\n이해가 되셨나요? 추가로 궁금한 점이 있으면 말씀해 주세요!'},\n",
       " {'role': 'user', 'content': '그럼 1부터 100까지 숫자 중에 소수는 몇 개 있어?'},\n",
       " {'role': 'assistant',\n",
       "  'content': '1부터 100까지의 소수를 찾아보면, 소수는 1보다 큰 자연수 중에서 1과 자기 자신만으로 나누어 떨어지는 수를 말합니다. \\n\\n1부터 100까지의 소수는 다음과 같습니다:\\n\\n- 2\\n- 3\\n- 5\\n- 7\\n- 11\\n- 13\\n- 17\\n- 19\\n- 23\\n- 29\\n- 31\\n- 37\\n- 41\\n- 43\\n- 47\\n- 53\\n- 59\\n- 61\\n- 67\\n- 71\\n- 73\\n- 79\\n- 83\\n- 89\\n- 97\\n\\n이렇게 총 25개의 소수가 있습니다.'}]"
      ]
     },
     "execution_count": 8,
     "metadata": {},
     "output_type": "execute_result"
    }
   ],
   "source": [
    "context"
   ]
  },
  {
   "cell_type": "code",
   "execution_count": 8,
   "id": "fa1054f4-24c8-43b4-8f40-1239761b96b7",
   "metadata": {},
   "outputs": [
    {
     "name": "stdout",
     "output_type": "stream",
     "text": [
      "파이썬을 공부하기 위한 좋은 책은 여러 가지가 있습니다. 아래는 초보자부터 중급자까지 추천할 만한 몇 가지 책입니다.\n",
      "\n",
      "1. **\"파이썬 Crash Course\" (Eric Matthes 저)**  \n",
      "   - 초보자를 위한 실용적인 입문서로, 기본 개념부터 시작해 프로젝트를 통해 실력을 쌓을 수 있도록 구성되어 있습니다.\n",
      "\n",
      "2. **\"Automate the Boring Stuff with Python\" (Al Sweigart 저)**  \n",
      "   - 일상적인 작업을 자동화하는 방법을 배우는 책으로, 실용적인 예제와 함께 파이썬을 쉽게 배울 수 있습니다.\n",
      "\n",
      "3. **\"Learning Python\" (Mark Lutz 저)**  \n",
      "   - 파이썬의 기초부터 심화 개념까지 폭넓게 다루는 책으로, 깊이 있는 이해를 원하는 분들에게 적합합니다.\n",
      "\n",
      "4. **\"Python for Data Analysis\" (Wes McKinney 저)**  \n",
      "   - 데이터 분석에 중점을 둔 책으로, 파이썬을 사용하여 데이터 조작 및 분석을 배우고 싶은 분들에게 추천합니다.\n",
      "\n",
      "5. **\"Fluent Python\" (Luciano Ramalho 저)**  \n",
      "   - 중급 이상의 개발자를 위한 책으로, 파이썬의 고급 기능과 모범 사례를 다룹니다.\n",
      "\n",
      "이 외에도 온라인 강의나 튜토리얼, 커뮤니티 포럼 등을 활용하면 더욱 효과적으로 학습할 수 있습니다. 자신에게 맞는 학습 방법을 찾아보세요!\n"
     ]
    }
   ],
   "source": [
    "message = '파이썬을 공부하려면 어떤 책을 읽으면 좋을까?'\n",
    "\n",
    "messages = []\n",
    "messages.append({\"role\": \"system\", \"content\": \"너는 훌륭한 비서야.\"})\n",
    "messages.append({\"role\": \"user\", \"content\": message})\n",
    "\n",
    "response = client.chat.completions.create(model=MODEL, messages=messages, temperature=TEMPERATURE)\n",
    "answer = response.choices[0].message.content\n",
    "print(answer)"
   ]
  },
  {
   "cell_type": "code",
   "execution_count": 12,
   "id": "fa5d227c-2110-4b20-90a6-adccccc1a74c",
   "metadata": {},
   "outputs": [
    {
     "data": {
      "text/markdown": [
       "파이썬을 공부하기 위한 좋은 책은 여러 가지가 있습니다. 아래는 초보자부터 중급자까지 추천할 만한 몇 가지 책입니다.\n",
       "\n",
       "1. **\"파이썬 Crash Course\" (Eric Matthes 저)**  \n",
       "   - 초보자를 위한 실용적인 입문서로, 기본 개념부터 시작해 프로젝트를 통해 실력을 쌓을 수 있도록 구성되어 있습니다.\n",
       "\n",
       "2. **\"Automate the Boring Stuff with Python\" (Al Sweigart 저)**  \n",
       "   - 일상적인 작업을 자동화하는 방법을 배우는 책으로, 실용적인 예제와 함께 파이썬을 쉽게 배울 수 있습니다.\n",
       "\n",
       "3. **\"Learning Python\" (Mark Lutz 저)**  \n",
       "   - 파이썬의 기초부터 심화 개념까지 폭넓게 다루는 책으로, 깊이 있는 이해를 원하는 분들에게 적합합니다.\n",
       "\n",
       "4. **\"Python for Data Analysis\" (Wes McKinney 저)**  \n",
       "   - 데이터 분석에 중점을 둔 책으로, 파이썬을 사용하여 데이터 조작 및 분석을 배우고 싶은 분들에게 추천합니다.\n",
       "\n",
       "5. **\"Fluent Python\" (Luciano Ramalho 저)**  \n",
       "   - 중급 이상의 개발자를 위한 책으로, 파이썬의 고급 기능과 모범 사례를 다룹니다.\n",
       "\n",
       "이 외에도 온라인 강의나 튜토리얼, 커뮤니티 포럼 등을 활용하면 더욱 효과적으로 학습할 수 있습니다. 자신에게 맞는 학습 방법을 찾아보세요!"
      ],
      "text/plain": [
       "<IPython.core.display.Markdown object>"
      ]
     },
     "metadata": {},
     "output_type": "display_data"
    }
   ],
   "source": [
    "from IPython.display import Markdown, display\n",
    "\n",
    "display(Markdown(answer))"
   ]
  },
  {
   "cell_type": "code",
   "execution_count": 29,
   "id": "42c57dbf-a925-496b-962e-c761f63d34a6",
   "metadata": {},
   "outputs": [
    {
     "data": {
      "text/plain": [
       "[{'role': 'system', 'content': '너는 훌륭한 비서야.'},\n",
       " {'role': 'user', 'content': '파이썬을 공부하려면 어떤 책을 읽으면 좋을까?'}]"
      ]
     },
     "execution_count": 29,
     "metadata": {},
     "output_type": "execute_result"
    }
   ],
   "source": [
    "messages"
   ]
  },
  {
   "cell_type": "code",
   "execution_count": 30,
   "id": "5a2387aa-1d7e-48ae-9485-49f9db0c30ae",
   "metadata": {},
   "outputs": [
    {
     "name": "stdout",
     "output_type": "stream",
     "text": [
      "파이썬을 공부하기 위한 책은 많이 있지만, 여러분의 학습 목표와 수준에 따라 적합한 책이 달라질 수 있습니다. 다음은 파이썬 학습을 위해 널리 추천되는 몇 가지 책들입니다:\n",
      "\n",
      "1. **파이썬 코딩의 기술** (Brett Slatkin 저) - 이 책은 파이썬의 고급 기능과 효율적인 코딩 방법을 다루며, 보다 효과적인 파이썬 코드를 작성하는 데 도움을 줍니다.\n",
      "\n",
      "2. **파이썬 프로그래밍 완벽 가이드** (Mark Lutz 저) - 파이썬의 기초부터 고급 주제까지 폭넓게 다루며, 초보자부터 경험 있는 개발자까지 모두에게 유용합니다.\n",
      "\n",
      "3. **파이썬 라이브러리를 활용한 데이터 분석** (Wes McKinney 저) - 데이터 분석에 특화된 책으로, pandas와 같은 데이터 분석 라이브러리 사용법을 자세히 설명합니다.\n",
      "\n",
      "4. **러닝 파이썬** (Mark Lutz 저) - 파이썬의 기본 개념과 기능을 체계적으로 배울 수 있는 책으로, 초보자가 중급 레벨로 넘어가는 데 도움을 줍니다.\n",
      "\n",
      "5. **Automate the Boring Stuff with Python** (Al Sweigart 저) - 일상적인 작업을 자동화하는 파이썬 스크립트를 작성하는 방법을 배울 수 있으며, 실용적인 프로젝트를 통해 학습할 수 있습니다.\n",
      "\n",
      "학습 목표와 선호하는 학습 스타일에 맞는 책을 선택하시면 좋을 것 같습니다. 또한, 온라인 리소스와 강좌도 많이 있으니 책과 함께 활용하면 학습 효과를 높일 수 있습니다.\n"
     ]
    }
   ],
   "source": [
    "print(answer)"
   ]
  },
  {
   "cell_type": "code",
   "execution_count": 7,
   "id": "6d5c70bc",
   "metadata": {},
   "outputs": [
    {
     "name": "stdin",
     "output_type": "stream",
     "text": [
      "Chat: 안녕\n"
     ]
    },
    {
     "name": "stdout",
     "output_type": "stream",
     "text": [
      "AI: 안녕하세요! 무엇을 도와드릴까요?\n"
     ]
    },
    {
     "name": "stdin",
     "output_type": "stream",
     "text": [
      "Chat: 1부터 100까지 더하면 얼마야?\n"
     ]
    },
    {
     "name": "stdout",
     "output_type": "stream",
     "text": [
      "AI: 1부터 100까지의 합은 공식을 사용하여 쉽게 구할 수 있습니다. 이 공식은 \\( \\frac{n(n + 1)}{2} \\) 입니다. 여기서 \\( n \\)은 100이 됩니다.\n",
      "\n",
      "계산하면:\n",
      "\n",
      "\\[\n",
      "\\frac{100 \\times (100 + 1)}{2} = \\frac{100 \\times 101}{2} = 5050\n",
      "\\]\n",
      "\n",
      "따라서, 1부터 100까지 더하면 5050이 됩니다.\n"
     ]
    },
    {
     "name": "stdin",
     "output_type": "stream",
     "text": [
      "Chat: 200까지는?\n"
     ]
    },
    {
     "name": "stdout",
     "output_type": "stream",
     "text": [
      "AI: 1부터 200까지의 합을 구하는 공식은 동일하게 \\( \\frac{n(n + 1)}{2} \\) 입니다. 여기서 \\( n \\)은 200이 됩니다.\n",
      "\n",
      "계산하면:\n",
      "\n",
      "\\[\n",
      "\\frac{200 \\times (200 + 1)}{2} = \\frac{200 \\times 201}{2} = 20100\n",
      "\\]\n",
      "\n",
      "따라서, 1부터 200까지 더하면 20100이 됩니다.\n"
     ]
    },
    {
     "name": "stdin",
     "output_type": "stream",
     "text": [
      "Chat: exit\n"
     ]
    }
   ],
   "source": [
    "conversate()"
   ]
  },
  {
   "cell_type": "code",
   "execution_count": 13,
   "id": "4ce03015",
   "metadata": {},
   "outputs": [],
   "source": [
    "from IPython.display import display, Markdown\n",
    "context = []\n",
    "\n",
    "def single_ask(message):\n",
    "    message = message.strip()\n",
    "\n",
    "    if message == '':\n",
    "        print('대화 내용을 입력하세요.')\n",
    "    elif message == 'exit':\n",
    "        return\n",
    "\n",
    "    # 대화 맥락을 고려하여 전체 최대 토큰을 초과하는지 체크하도록 한다.\n",
    "    total_cnt = check_tokens(context) + len(message)\n",
    "\n",
    "    if total_cnt >= MAX_TOKENS:\n",
    "        context.clear()\n",
    "        print('context cleared.')\n",
    "\n",
    "    # ChatGPT 대화를 위한 메시지 형태 설정하기\n",
    "    if len(context) == 0:\n",
    "        context.append({\"role\": \"system\", \"content\": \"You are a helpful assistant.\"})\n",
    "        context.append({\"role\": \"user\", \"content\": message})\n",
    "    else:\n",
    "        context.append({\"role\": \"user\", \"content\": message})\n",
    "\n",
    "    response = client.chat.completions.create(model=MODEL, messages=context, temperature=TEMPERATURE)\n",
    "    answer = response.choices[0].message.content\n",
    "    display(Markdown(answer))  # 마크다운 형태로 해석하여 출력\n",
    "    \n",
    "    context.append({'role': 'assistant', 'content': answer})\n",
    "\n",
    "    if check_tokens(context) >= MAX_TOKENS:\n",
    "        context.clear()"
   ]
  },
  {
   "cell_type": "code",
   "execution_count": 14,
   "id": "3926a7fa",
   "metadata": {},
   "outputs": [
    {
     "data": {
      "text/markdown": [
       "1부터 100까지의 소수를 찾는 파이썬 코드는 다음과 같습니다:\n",
       "\n",
       "```python\n",
       "def is_prime(n):\n",
       "    if n <= 1:\n",
       "        return False\n",
       "    for i in range(2, int(n**0.5) + 1):\n",
       "        if n % i == 0:\n",
       "            return False\n",
       "    return True\n",
       "\n",
       "primes = [num for num in range(1, 101) if is_prime(num)]\n",
       "print(primes)\n",
       "```\n",
       "\n",
       "이 코드는 `is_prime` 함수를 사용하여 주어진 숫자가 소수인지 확인하고, 리스트 컴프리헨션을 통해 1부터 100까지의 소수를 찾아 `primes` 리스트에 저장합니다. 마지막으로 소수 리스트를 출력합니다."
      ],
      "text/plain": [
       "<IPython.core.display.Markdown object>"
      ]
     },
     "metadata": {},
     "output_type": "display_data"
    }
   ],
   "source": [
    "single_ask(\"1부터 100까지 소수를 찾는 파이썬 코드를 알려 줘.\")"
   ]
  },
  {
   "cell_type": "code",
   "execution_count": 10,
   "id": "3f489e16-0836-4fcf-bfce-5046d7775a1a",
   "metadata": {
    "scrolled": true
   },
   "outputs": [
    {
     "data": {
      "text/markdown": [
       "1부터 100까지의 소수는 다음과 같습니다:\n",
       "\n",
       "2, 3, 5, 7, 11, 13, 17, 19, 23, 29, 31, 37, 41, 43, 47, 53, 59, 61, 67, 71, 73, 79, 83, 89, 97\n",
       "\n",
       "이 숫자들은 1과 자기 자신 외에는 어떤 수로도 나누어 떨어지지 않는 수들입니다. 위에서 제공한 파이썬 코드를 실행하면 이 소수들을 얻을 수 있습니다."
      ],
      "text/plain": [
       "<IPython.core.display.Markdown object>"
      ]
     },
     "metadata": {},
     "output_type": "display_data"
    }
   ],
   "source": [
    "single_ask(\"그래서 1부터 100까지 소수는 어떤 것들이 있어?\")"
   ]
  },
  {
   "cell_type": "code",
   "execution_count": 15,
   "id": "6265c471-2a8b-454d-8d6b-540bbd323c09",
   "metadata": {},
   "outputs": [
    {
     "name": "stdout",
     "output_type": "stream",
     "text": [
      "[2, 3, 5, 7, 11, 13, 17, 19, 23, 29, 31, 37, 41, 43, 47, 53, 59, 61, 67, 71, 73, 79, 83, 89, 97]\n"
     ]
    }
   ],
   "source": [
    "def is_prime(n):\n",
    "    if n <= 1:\n",
    "        return False\n",
    "    for i in range(2, int(n**0.5) + 1):\n",
    "        if n % i == 0:\n",
    "            return False\n",
    "    return True\n",
    "\n",
    "primes = [num for num in range(1, 101) if is_prime(num)]\n",
    "print(primes)"
   ]
  },
  {
   "cell_type": "code",
   "execution_count": 34,
   "id": "a9bf002c",
   "metadata": {},
   "outputs": [],
   "source": [
    "context = [] # 리스트\n",
    "init_msg = \"\"\"\n",
    "아래의 기사를 토대로 코로나19 백신에 대한 부작용에 대해 나와 토론하려고 해.\n",
    "먼저 네가 \"안녕. 너의 의견은 뭐니?\"라고 시작해 줘.\n",
    "서로 한 번씩 의견을 돌아가면서 제시하게 될 거야.\n",
    "그리고 내가 자신의 의견을 말하면 너는 그것에 반대해서 계속해서 증거를 제시하면서 토론해.\n",
    "자 이제 시작해.\n",
    "\n",
    "기사: 코로나19 백신이 심장 관련 염증이나 뇌혈전 등의 부작용과 연관이 있다는 연구 결과가 나왔다. \n",
    "19일(이하 현지시간) 블룸버그에 따르면 글로벌 백신 데이터 네트워크(GVDN)가 코로나19 백신 접종과 관련해 소수가 신경계, 혈액, 심장 관련 부작용과 연관이 있다고 전했다. \n",
    "이 연구는 8개국 9900만명의 백신 접종자를 대상으로 진행됐다. 연구진은 접종자들에게서 코로나19 백신 주요 부작용으로 간주되는 13가지 질환을 집중 조사해 코로나 백신접종과 \n",
    "부작용 간의 상관관계를 연구했다. 그 결과 심장 근육의 염증을 뜻하는 '심근염'은 mRNA(메신저 리보핵산) 백신을 1차~3차 접종한 환자들에게서 지속적으로 확인됐다. \n",
    "이 증상은 모더나 백신 주사를 두 번째 접종한 후 가장 많이 나타났다. '박제브리아'라 일컫는 아스트라제네카 백신은 길랑-바레 증후군과 연관이 있었다. \n",
    "이외 뇌혈전의 일종인 뇌정맥동 혈전증의 증가와도 연관이 있었다. 당초 연구진은 이 질환의 발병 건수를 66건으로 예상했지만 이를 상회하는 190건의 사례를 확인했다. \n",
    "블룸버그에 따르면 코로나19 백신은 지난 3년 동안 총 135억회 이상 투여됐다. 유럽에서만 100만명 이상의 고위험군 환자들이 코로나19 팬데믹 중에도 생명을 건질 수 있었다. \n",
    "그럼에도 백신 접종자 중 소수는 여전히 부작용을 호소하고 있는 만큼 코로나19 백신과 관련한 논쟁은 지속되고 있다.\n",
    "\"\"\"\n",
    "client = OpenAI(api_key = os.getenv('OPENAI_API_KEY'))\n",
    "\n",
    "def debate():\n",
    "    is_start = True\n",
    "    \n",
    "    while(1):\n",
    "        if not is_start:\n",
    "            message = input('Human: ')\n",
    "            message = message.strip()\n",
    "    \n",
    "            if message == '':\n",
    "                print('Input your text.')\n",
    "                continue\n",
    "            elif message == 'exit':\n",
    "                break\n",
    "    \n",
    "            # 대화 맥락을 고려하여 전체 최대 토큰을 초과하는지 체크하도록 한다.\n",
    "            total_cnt = check_tokens(context) + len(message)\n",
    "\n",
    "            if total_cnt >= MAX_TOKENS:\n",
    "                context.clear()\n",
    "                print('context cleared.')\n",
    "        else:\n",
    "            is_start = False\n",
    "\n",
    "        # ChatGPT 대화를 위한 메시지 형태 설정하기\n",
    "        if len(context) == 0:\n",
    "            context.append({\"role\": \"system\", \"content\": \"너는 훌륭한 토론 선생님이야.\"})\n",
    "            context.append({\"role\": \"user\", \"content\": init_msg})\n",
    "        else:\n",
    "            context.append({\"role\": \"user\", \"content\": message})\n",
    "\n",
    "        response = client.chat.completions.create(model=MODEL, messages=context, temperature=TEMPERATURE)\n",
    "        answer = response.choices[0].message.content\n",
    "        print(f\"AI: {answer}\")\n",
    "        \n",
    "        context.append({'role': 'assistant', 'content': answer})\n",
    "        \n",
    "        if check_tokens(context) >= MAX_TOKENS:\n",
    "            context.clear()"
   ]
  },
  {
   "cell_type": "code",
   "execution_count": null,
   "id": "22dc33e9",
   "metadata": {},
   "outputs": [
    {
     "name": "stdout",
     "output_type": "stream",
     "text": [
      "AI: 안녕. 너의 의견은 뭐니?\n"
     ]
    }
   ],
   "source": [
    "debate()"
   ]
  },
  {
   "cell_type": "markdown",
   "id": "1b1951c5",
   "metadata": {},
   "source": [
    "## How to use ChatGPT for textual data analysis"
   ]
  },
  {
   "cell_type": "code",
   "execution_count": 18,
   "id": "a3c98db6-8a33-4102-a937-29b38d71f00e",
   "metadata": {},
   "outputs": [],
   "source": [
    "query = '''\n",
    "보기는 학생이 작성한 글이야. \n",
    "툴민의 논증(Toulmin's Argumentation Pattern)에 따라 글에 포함되어 있는 주장(claim), 반박(rebuttal), 자료(data), 보장(warrant), 뒷받침(backing), 제한 조건(qualifer)이 명시적으로 포함되어 있는지 확인하고 추출해. \n",
    "만약 관련된 요소가 글 속에 포함되어 있지 않다면 '없음'으로 표시해. \n",
    "논증 요소의 정의는 다음과 같아.\n",
    "주장(claim): Assertions about what exists or values that people hold. \n",
    "자료(data): Statements that are used as evidence to support the claim. \n",
    "보장(warrant): Statements that explain the relationship of the data to the claim. \n",
    "제한 조건(qualifier): Special conditions under which the claim holds true. \n",
    "뒷받침(backing): Underlying assumptions that are often not made explicit. \n",
    "반박(rebuttal): Statements that contradict either the data, warrant, backing or qualifier of an argument. \n",
    "'''"
   ]
  },
  {
   "cell_type": "code",
   "execution_count": 19,
   "id": "015e691f",
   "metadata": {},
   "outputs": [],
   "source": [
    "def inspect_data(text):\n",
    "    is_first = True\n",
    "    \n",
    "    try:\n",
    "        text = text.strip()\n",
    "        print('Original:', text)\n",
    "        query_msg = query + '\\nText:' + text\n",
    "\n",
    "        # 메시지 설정하기\n",
    "        messages = [\n",
    "                {\"role\": \"system\", \"content\": \"You are a helpful assistant.\"},\n",
    "                {\"role\": \"user\", \"content\": query_msg}\n",
    "        ]\n",
    "\n",
    "        # ChatGPT API 호출하기\n",
    "        response = client.chat.completions.create(model=MODEL, messages=messages, temperature=TEMPERATURE)\n",
    "        answer = response.choices[0].message.content\n",
    "        answer = answer.strip()\n",
    "\n",
    "        print(answer)\n",
    "        \n",
    "        return answer\n",
    "        \n",
    "    except openai.APIError as e:\n",
    "        #Handle API error here, e.g. retry or log\n",
    "        print(f\"OpenAI API returned an API Error: {e}\")\n",
    "        return 'Error'\n",
    "        \n",
    "    except openai.APIConnectionError as e:\n",
    "        #Handle connection error here\n",
    "        print(f\"Failed to connect to OpenAI API: {e}\")\n",
    "        return 'Error'\n",
    "        \n",
    "    except openai.RateLimitError as e:\n",
    "        #Handle rate limit error (we recommend using exponential backoff)\n",
    "        print(f\"OpenAI API request exceeded rate limit: {e}\")\n",
    "        return 'Error'"
   ]
  },
  {
   "cell_type": "code",
   "execution_count": 22,
   "id": "b51ce3d0",
   "metadata": {},
   "outputs": [],
   "source": [
    "sents = '''\n",
    "챗GPT 같은 생성 AI에 관심이 커지는 가운데 부작용 우려도 함꼐 늘고 있다. 생성 AI 기술이 발전할수록 사람이 직접 창작한 것과 결과물을 구분하기 어려워서다. 미국 등 선거를 앞둔 국가에서는 생성 AI를 악용해 제작된 그럴듯한 가짜뉴스 우려도 커지고 있다.\n",
    "\n",
    "무하유는 이런 상황에서 논문에 챗GPT가 쓴 문장을 찾아내는 ‘GPT킬러’ 솔루션을 개발했다. AI 기술로 생성 AI 부작용을 예방하기 위해서다. GPT킬러는 콘텐츠를 AI로 분석해 생성 AI가 만든 것인지를 역으로 검증한다.\n",
    "\n",
    "무하유는 2011년 신동호 대표가 설립한 실용 AI 솔루션 기업이다. 무하유는 보유한 자연어 처리 AI 기술을 바탕으로 2011년부터 논문 표절 검사 솔루션 ‘카피킬러’를 서비스하고 있다. IT조선은 신동호 무하유 대표와 AI가 생성한 콘텐츠 역검증에 대해 이야기를 나눴다.\n",
    "\n",
    "출처 : IT조선(https://it.chosun.com)\n",
    "'''"
   ]
  },
  {
   "cell_type": "code",
   "execution_count": 23,
   "id": "6bec6315",
   "metadata": {},
   "outputs": [
    {
     "name": "stdout",
     "output_type": "stream",
     "text": [
      "Original: 챗GPT 같은 생성 AI에 관심이 커지는 가운데 부작용 우려도 함꼐 늘고 있다. 생성 AI 기술이 발전할수록 사람이 직접 창작한 것과 결과물을 구분하기 어려워서다. 미국 등 선거를 앞둔 국가에서는 생성 AI를 악용해 제작된 그럴듯한 가짜뉴스 우려도 커지고 있다.\n",
      "\n",
      "무하유는 이런 상황에서 논문에 챗GPT가 쓴 문장을 찾아내는 ‘GPT킬러’ 솔루션을 개발했다. AI 기술로 생성 AI 부작용을 예방하기 위해서다. GPT킬러는 콘텐츠를 AI로 분석해 생성 AI가 만든 것인지를 역으로 검증한다.\n",
      "\n",
      "무하유는 2011년 신동호 대표가 설립한 실용 AI 솔루션 기업이다. 무하유는 보유한 자연어 처리 AI 기술을 바탕으로 2011년부터 논문 표절 검사 솔루션 ‘카피킬러’를 서비스하고 있다. IT조선은 신동호 무하유 대표와 AI가 생성한 콘텐츠 역검증에 대해 이야기를 나눴다.\n",
      "\n",
      "출처 : IT조선(https://it.chosun.com)\n",
      "주장(claim): 생성 AI 기술이 발전할수록 사람이 직접 창작한 것과 결과물을 구분하기 어려워지고, 이로 인해 부작용 우려가 커지고 있다.\n",
      "\n",
      "자료(data): 미국 등 선거를 앞둔 국가에서는 생성 AI를 악용해 제작된 그럴듯한 가짜뉴스 우려도 커지고 있다.\n",
      "\n",
      "보장(warrant): 생성 AI의 발전이 사람의 창작물과 AI의 결과물을 구분하기 어렵게 만들고, 이는 정보의 신뢰성을 저하시킬 수 있다.\n",
      "\n",
      "제한 조건(qualifier): 특정 상황(예: 선거를 앞둔 국가)에서 생성 AI의 악용 가능성이 높아진다.\n",
      "\n",
      "뒷받침(backing): 무하유는 AI 기술로 생성 AI 부작용을 예방하기 위한 솔루션을 개발하고 있으며, 이는 AI 기술의 발전에 대한 대응으로 볼 수 있다.\n",
      "\n",
      "반박(rebuttal): 없음.\n",
      "CPU times: user 15.6 ms, sys: 5.01 ms, total: 20.6 ms\n",
      "Wall time: 2.51 s\n"
     ]
    }
   ],
   "source": [
    "%%time\n",
    "\n",
    "result = inspect_data(sents)"
   ]
  },
  {
   "cell_type": "markdown",
   "id": "45e03383-8dfa-4b3a-bb70-94d575b2b0f1",
   "metadata": {},
   "source": [
    "### Using Function Calling"
   ]
  },
  {
   "cell_type": "code",
   "execution_count": 24,
   "id": "1fcca729-4b79-4a18-b5ce-61a53f86a78a",
   "metadata": {},
   "outputs": [],
   "source": [
    "functions = [\n",
    "    {\n",
    "        \"name\" : \"extract_element\",\n",
    "        \"description\": \"Extract the elements of argumentation from the text.\",\n",
    "        \"parameters\": {\n",
    "            \"type\": \"object\", \n",
    "            \"properties\": {\n",
    "                \"Claim\": {\n",
    "                    \"type\": \"string\",\n",
    "                    \"description\": \"Find claim from the text.\"\n",
    "                },\n",
    "                \"Data\": {\n",
    "                    \"type\": \"string\",\n",
    "                    \"description\": \"Find data from the text.\"\n",
    "                },\n",
    "                \"Warrant\": {\n",
    "                    \"type\": \"string\",\n",
    "                    \"description\": \"Find warrant from the text.\"\n",
    "                },\n",
    "                \"Backing\": {\n",
    "                    \"type\": \"string\",\n",
    "                    \"description\": \"Find backing from the text.\"\n",
    "                },\n",
    "                \"Qualifier\": {\n",
    "                    \"type\": \"string\",\n",
    "                    \"description\": \"Find qualifier from the text.\"\n",
    "                },\n",
    "                \"Rebuttal\": {\n",
    "                    \"type\": \"string\",\n",
    "                    \"description\": \"Find rebuttal from the text.\"\n",
    "                }\n",
    "            }\n",
    "        }\n",
    "    }\n",
    "]"
   ]
  },
  {
   "cell_type": "code",
   "execution_count": 25,
   "id": "83badabc-c5eb-4e49-a294-b469c6b3151e",
   "metadata": {},
   "outputs": [],
   "source": [
    "def inspect_data(text):\n",
    "    \n",
    "    start_time = time.time()\n",
    "    sent = text\n",
    "    sent = sent.replace('\\n', ' ').strip()\n",
    "\n",
    "    query_msg = query + '\\nText:' + sent\n",
    "    #query_msg = query + txt_def + '\\nText:' + sent\n",
    "\n",
    "    messages = [\n",
    "            {\"role\": \"system\", \"content\": \"너는 텍스트로부터 논증 요소를 분석하는 훌륭한 전문가야.\"},\n",
    "            {\"role\": \"user\", \"content\": query_msg}\n",
    "    ]\n",
    "        \n",
    "    response = client.chat.completions.create(model=MODEL,\n",
    "                                              messages=messages,\n",
    "                                              temperature=TEMPERATURE,\n",
    "                                              functions=functions, \n",
    "                                              function_call = {\"name\": functions[0][\"name\"]})\n",
    "    answer = response.choices[0].message.function_call.arguments\n",
    "    answer = json.loads(answer)\n",
    "\n",
    "    arguments = {}\n",
    "\n",
    "    arguments['Answer'] = sent\n",
    "    arguments['Claim'] = answer.get('Claim', '')\n",
    "    arguments['Data'] = answer.get('Data', '')\n",
    "    arguments['Warrant'] = answer.get('Warrant', '')\n",
    "    arguments['Backing'] = answer.get('Backing', '')\n",
    "    arguments['Qualifier'] = answer.get('Qualifier', '')\n",
    "    arguments['Rebuttal'] = answer.get('Rebuttal', '')\n",
    "    \n",
    "    print('Elapsed time:', \"{:.2f}\".format(time.time() - start_time))\n",
    "    \n",
    "    return arguments"
   ]
  },
  {
   "cell_type": "code",
   "execution_count": 26,
   "id": "6c4d49e3-518b-4efb-9524-746c1144b0c8",
   "metadata": {},
   "outputs": [
    {
     "name": "stdout",
     "output_type": "stream",
     "text": [
      "Elapsed time: 3.21\n"
     ]
    }
   ],
   "source": [
    "result_dict = inspect_data(sents)"
   ]
  },
  {
   "cell_type": "code",
   "execution_count": 27,
   "id": "f96d7d65-b97a-470c-aa40-741dd30859cd",
   "metadata": {},
   "outputs": [
    {
     "data": {
      "text/plain": [
       "{'Answer': '챗GPT 같은 생성 AI에 관심이 커지는 가운데 부작용 우려도 함꼐 늘고 있다. 생성 AI 기술이 발전할수록 사람이 직접 창작한 것과 결과물을 구분하기 어려워서다. 미국 등 선거를 앞둔 국가에서는 생성 AI를 악용해 제작된 그럴듯한 가짜뉴스 우려도 커지고 있다.  무하유는 이런 상황에서 논문에 챗GPT가 쓴 문장을 찾아내는 ‘GPT킬러’ 솔루션을 개발했다. AI 기술로 생성 AI 부작용을 예방하기 위해서다. GPT킬러는 콘텐츠를 AI로 분석해 생성 AI가 만든 것인지를 역으로 검증한다.  무하유는 2011년 신동호 대표가 설립한 실용 AI 솔루션 기업이다. 무하유는 보유한 자연어 처리 AI 기술을 바탕으로 2011년부터 논문 표절 검사 솔루션 ‘카피킬러’를 서비스하고 있다. IT조선은 신동호 무하유 대표와 AI가 생성한 콘텐츠 역검증에 대해 이야기를 나눴다.  출처 : IT조선(https://it.chosun.com)',\n",
       " 'Claim': '생성 AI 기술이 발전할수록 사람이 직접 창작한 것과 결과물을 구분하기 어려워진다.',\n",
       " 'Data': '생성 AI에 대한 부작용 우려가 커지고 있다.',\n",
       " 'Warrant': '생성 AI를 악용해 제작된 그럴듯한 가짜뉴스 우려가 커지고 있다.',\n",
       " 'Backing': '무하유는 2011년 신동호 대표가 설립한 실용 AI 솔루션 기업이다.',\n",
       " 'Qualifier': '없음',\n",
       " 'Rebuttal': '없음'}"
      ]
     },
     "execution_count": 27,
     "metadata": {},
     "output_type": "execute_result"
    }
   ],
   "source": [
    "result_dict"
   ]
  },
  {
   "cell_type": "code",
   "execution_count": 29,
   "id": "6f1315b7-9c4c-4cdc-9ab4-693d8efbf179",
   "metadata": {},
   "outputs": [],
   "source": [
    "# 글에서 주장을 맞게 찾아 넣었는지 찾는 코드: 맞으면 1점, 틀리면 0점\n",
    "query = '''\n",
    "보기는 학생이 작성한 주장이야.\n",
    "해당 주장이 기사 속에 포함되어 있는지 확인해. 맞게 포함되어 있으면 1점, 틀리면 0점을 부여해.\n",
    "'''\n",
    "\n",
    "functions = [\n",
    "    {\n",
    "        \"name\" : \"eval_text\",\n",
    "        \"description\": \"Evaluate the right argument from text.\",\n",
    "        \"parameters\": {\n",
    "            \"type\": \"object\", \n",
    "            \"properties\": {\n",
    "                \"Score\": {\n",
    "                    \"type\": \"integer\",\n",
    "                    \"enum\": [0, 1],\n",
    "                    \"description\": \"Right or wrong argument is included.\" \n",
    "                },\n",
    "                \"Reason\": {\n",
    "                    \"type\": \"string\",\n",
    "                    \"description\": \"Provide feedback for a student.\"\n",
    "                }\n",
    "            }\n",
    "        }\n",
    "    }\n",
    "]\n",
    "\n",
    "def inspect_data2(text):\n",
    "    \n",
    "    start_time = time.time()\n",
    "    sent = text\n",
    "    sent = sent.replace('\\n', ' ').strip()\n",
    "\n",
    "    query_msg = f'기사: {sents}\\n'\n",
    "    query_msg += query\n",
    "    query_msg += \"\\n응답:\" + sent\n",
    "\n",
    "    messages = [\n",
    "            {\"role\": \"system\", \"content\": \"너는 텍스트로부터 논증 요소를 분석하는 훌륭한 전문가야.\"},\n",
    "            {\"role\": \"user\", \"content\": query_msg}\n",
    "    ]\n",
    "        \n",
    "    response = client.chat.completions.create(model=MODEL,\n",
    "                                              messages=messages,\n",
    "                                              temperature=TEMPERATURE,\n",
    "                                              functions=functions, \n",
    "                                              function_call = {\"name\": functions[0][\"name\"]})\n",
    "    answer = response.choices[0].message.function_call.arguments\n",
    "    answer = json.loads(answer)\n",
    "\n",
    "    arguments = {}\n",
    "\n",
    "    arguments['Answer'] = sent\n",
    "    arguments['Score'] = answer.get('Score', 0)\n",
    "    arguments['Reason'] = answer.get('Reason', '')\n",
    "    \n",
    "    print('Elapsed time:', \"{:.2f}\".format(time.time() - start_time))\n",
    "    \n",
    "    return arguments"
   ]
  },
  {
   "cell_type": "code",
   "execution_count": 32,
   "id": "c63a1c67-3854-47c2-8213-9e88108b1bd6",
   "metadata": {},
   "outputs": [
    {
     "name": "stdout",
     "output_type": "stream",
     "text": [
      "Elapsed time: 1.35\n"
     ]
    }
   ],
   "source": [
    "result = inspect_data2('AI는 위험하니까 쓰지 마.')"
   ]
  },
  {
   "cell_type": "code",
   "execution_count": 33,
   "id": "7a448501-d151-4055-bc40-d55c908a2663",
   "metadata": {},
   "outputs": [
    {
     "name": "stdout",
     "output_type": "stream",
     "text": [
      "{'Answer': 'AI는 위험하니까 쓰지 마.', 'Score': 0, 'Reason': \"주장 'AI는 위험하니까 쓰지 마'는 기사에서 언급된 내용과 일치하지 않습니다. 기사는 AI의 부작용 우려를 다루고 있지만, AI 사용을 전면적으로 금지하라는 주장은 포함되어 있지 않습니다.\"}\n"
     ]
    }
   ],
   "source": [
    "print(result)"
   ]
  }
 ],
 "metadata": {
  "kernelspec": {
   "display_name": "Python 3 (ipykernel)",
   "language": "python",
   "name": "python3"
  },
  "language_info": {
   "codemirror_mode": {
    "name": "ipython",
    "version": 3
   },
   "file_extension": ".py",
   "mimetype": "text/x-python",
   "name": "python",
   "nbconvert_exporter": "python",
   "pygments_lexer": "ipython3",
   "version": "3.11.5"
  }
 },
 "nbformat": 4,
 "nbformat_minor": 5
}
