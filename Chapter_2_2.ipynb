{
 "cells": [
  {
   "cell_type": "markdown",
   "id": "8605790e",
   "metadata": {},
   "source": [
    "# 다양한 조건문 활용하기"
   ]
  },
  {
   "cell_type": "markdown",
   "id": "bbfdc4e9",
   "metadata": {
    "id": "dr-_46w5zrR3"
   },
   "source": [
    "- if 조건문 (조건식: a 변수의 값을 2로 나눈 나머지가 0과 같다)"
   ]
  },
  {
   "cell_type": "code",
   "execution_count": 4,
   "id": "7b6ad6f2",
   "metadata": {
    "colab": {
     "base_uri": "https://localhost:8080/",
     "height": 52
    },
    "executionInfo": {
     "elapsed": 2766,
     "status": "ok",
     "timestamp": 1601453317627,
     "user": {
      "displayName": "오승환",
      "photoUrl": "https://lh3.googleusercontent.com/a-/AOh14GgBRB1w8bMEGhEpsp7aa7I9MQGz2D37o6hJeKeW=s64",
      "userId": "00933700884551564729"
     },
     "user_tz": -540
    },
    "id": "xBB2REKPBIOB",
    "outputId": "01112d18-eb0c-4e13-ada2-840ea6107d88"
   },
   "outputs": [
    {
     "name": "stdout",
     "output_type": "stream",
     "text": [
      "a는 홀수\n"
     ]
    }
   ],
   "source": [
    "a = 3\n",
    "\n",
    "if a % 2 == 0:\n",
    "    print(\"a는 짝수\")\n",
    "else:\n",
    "    print(\"a는 홀수\")    "
   ]
  },
  {
   "cell_type": "code",
   "execution_count": 21,
   "id": "f5bfde9a",
   "metadata": {},
   "outputs": [
    {
     "name": "stdout",
     "output_type": "stream",
     "text": [
      "숫자를 입력하세요.15\n",
      "좋습니다.\n"
     ]
    }
   ],
   "source": [
    "a = int(input(\"숫자를 입력하세요.\"))"
   ]
  },
  {
   "cell_type": "code",
   "execution_count": 22,
   "id": "dd2ece53",
   "metadata": {},
   "outputs": [
    {
     "name": "stdout",
     "output_type": "stream",
     "text": [
      "좋습니다.\n"
     ]
    }
   ],
   "source": [
    "if a < 10:\n",
    "    print(\"춥습니다.\")\n",
    "else:\n",
    "    if a <= 30:\n",
    "        print(\"좋습니다.\")\n",
    "    else:\n",
    "        print(\"덥습니다.\")"
   ]
  },
  {
   "cell_type": "markdown",
   "id": "a8812394",
   "metadata": {},
   "source": [
    "0~9 사이 수\n",
    "10~19 사이 수\n",
    "20~29 사이 수\n",
    "30~39 사이 수"
   ]
  },
  {
   "cell_type": "code",
   "execution_count": 25,
   "id": "8b56626d",
   "metadata": {},
   "outputs": [
    {
     "name": "stdout",
     "output_type": "stream",
     "text": [
      "숫자를 입력하세요.-3\n",
      "rest of them!\n"
     ]
    }
   ],
   "source": [
    "a = int(input(\"숫자를 입력하세요.\"))\n",
    "\n",
    "if a >= 0 and a < 10:\n",
    "    print ('between 0 and 9')\n",
    "elif a >= 10 and a < 20:\n",
    "    print ('between 10 and 19')\n",
    "elif a >= 20 and a < 30:\n",
    "    print ('between 20 and 29')\n",
    "elif a >= 30 and a < 40:\n",
    "    print ('between 30 and 39')\n",
    "else:\n",
    "    print ('rest of them!')"
   ]
  },
  {
   "cell_type": "markdown",
   "id": "3c3fe6be",
   "metadata": {
    "id": "5slS48Xl0b4c"
   },
   "source": [
    "- if 조건문 (조건식: a 변수의 값을 2로 나눈 나머지가 0이 아니다)"
   ]
  },
  {
   "cell_type": "code",
   "execution_count": 14,
   "id": "6f45c48a",
   "metadata": {
    "executionInfo": {
     "elapsed": 2758,
     "status": "ok",
     "timestamp": 1601453317630,
     "user": {
      "displayName": "오승환",
      "photoUrl": "https://lh3.googleusercontent.com/a-/AOh14GgBRB1w8bMEGhEpsp7aa7I9MQGz2D37o6hJeKeW=s64",
      "userId": "00933700884551564729"
     },
     "user_tz": -540
    },
    "id": "CHCTlT4llwZA"
   },
   "outputs": [
    {
     "name": "stdout",
     "output_type": "stream",
     "text": [
      "a는 홀수\n",
      "a는 2로 나누어지지 않아.\n",
      "그만해.\n"
     ]
    }
   ],
   "source": [
    "if True:\n",
    "    print(\"a는 홀수\")\n",
    "    print(\"a는 2로 나누어지지 않아.\")\n",
    "    print(\"그만해.\")"
   ]
  },
  {
   "cell_type": "markdown",
   "id": "cc769978",
   "metadata": {
    "id": "efpDNKrf0tUh"
   },
   "source": [
    "- if ~ else 조건문 (조건식: b 변수의 값을 2로 나눈 나머지가 0과 같다)"
   ]
  },
  {
   "cell_type": "code",
   "execution_count": 1,
   "id": "1f5e258b",
   "metadata": {
    "colab": {
     "base_uri": "https://localhost:8080/",
     "height": 34
    },
    "executionInfo": {
     "elapsed": 2730,
     "status": "ok",
     "timestamp": 1601453317633,
     "user": {
      "displayName": "오승환",
      "photoUrl": "https://lh3.googleusercontent.com/a-/AOh14GgBRB1w8bMEGhEpsp7aa7I9MQGz2D37o6hJeKeW=s64",
      "userId": "00933700884551564729"
     },
     "user_tz": -540
    },
    "id": "bhD66hVFusUP",
    "outputId": "1e7eda66-f9cc-4613-b4f1-d849a4d4db15"
   },
   "outputs": [
    {
     "name": "stdout",
     "output_type": "stream",
     "text": [
      "b는 홀수\n"
     ]
    }
   ],
   "source": [
    "b = 7\n",
    "if b % 2 == 0:\n",
    "    print(\"b는 짝수\")\n",
    "else:\n",
    "    print(\"b는 홀수\")"
   ]
  },
  {
   "cell_type": "markdown",
   "id": "297653da",
   "metadata": {
    "id": "YpcJtRKT1C9f"
   },
   "source": [
    "- if 조건식: c 변수의 값이 0보다 크다.\n",
    "- elif 조건식: c 변수의 값이 0보다 작다.\n",
    "- else 조건식: 없음 (c 변수의 값이 0이다)\n"
   ]
  },
  {
   "cell_type": "code",
   "execution_count": 26,
   "id": "37a5c6f1",
   "metadata": {
    "colab": {
     "base_uri": "https://localhost:8080/",
     "height": 34
    },
    "executionInfo": {
     "elapsed": 2716,
     "status": "ok",
     "timestamp": 1601453317635,
     "user": {
      "displayName": "오승환",
      "photoUrl": "https://lh3.googleusercontent.com/a-/AOh14GgBRB1w8bMEGhEpsp7aa7I9MQGz2D37o6hJeKeW=s64",
      "userId": "00933700884551564729"
     },
     "user_tz": -540
    },
    "id": "EiY29AU_vGAC",
    "outputId": "5f8d130e-f8bf-4ab8-91dc-25b69a6757f1"
   },
   "outputs": [
    {
     "name": "stdout",
     "output_type": "stream",
     "text": [
      "c는 0\n"
     ]
    }
   ],
   "source": [
    "c = 0\n",
    "\n",
    "if c > 0:\n",
    "    print(\"c는 양수\")\n",
    "elif c < 0:\n",
    "    print(\"c는 음수\")  \n",
    "else:\n",
    "    print(\"c는 0\")"
   ]
  },
  {
   "cell_type": "markdown",
   "id": "a0980096",
   "metadata": {
    "id": "lbFLJT-e2hL_"
   },
   "source": [
    "- for 반복문: num_list의 원소를 반복해서 출력한다"
   ]
  },
  {
   "cell_type": "markdown",
   "id": "4a9e2971",
   "metadata": {},
   "source": [
    "1부터 10까지의 숫자 중에서 짝수를 모두 더하면 얼마일까요?"
   ]
  },
  {
   "cell_type": "code",
   "execution_count": 41,
   "id": "653fbbfb",
   "metadata": {},
   "outputs": [
    {
     "name": "stdout",
     "output_type": "stream",
     "text": [
      "2 : 2\n",
      "4 : 6\n",
      "6 : 12\n",
      "8 : 20\n",
      "10 : 30\n",
      "30\n"
     ]
    }
   ],
   "source": [
    "tot = 0\n",
    "\n",
    "for i in range(1, 11):\n",
    "    if i % 2 == 0:\n",
    "        tot = tot + i\n",
    "        print(i, \":\", tot)\n",
    "\n",
    "print(tot)"
   ]
  },
  {
   "cell_type": "code",
   "execution_count": 42,
   "id": "936c73e0",
   "metadata": {},
   "outputs": [
    {
     "name": "stdout",
     "output_type": "stream",
     "text": [
      "2 : 2\n",
      "4 : 6\n",
      "6 : 12\n",
      "8 : 20\n",
      "10 : 30\n",
      "30\n"
     ]
    }
   ],
   "source": [
    "tot = 0\n",
    "\n",
    "for i in range(2, 11, 2):\n",
    "    tot = tot + i\n",
    "    print(i, \":\", tot)\n",
    "\n",
    "print(tot)"
   ]
  },
  {
   "cell_type": "code",
   "execution_count": 47,
   "id": "32ee0c0e",
   "metadata": {},
   "outputs": [
    {
     "name": "stdout",
     "output_type": "stream",
     "text": [
      "내 친구의 이름은 준현입니다.\n",
      "내 친구의 이름은 태린입니다.\n",
      "내 친구의 이름은 규민입니다.\n",
      "내 친구의 이름은 성범입니다.\n",
      "내 친구의 이름은 태희입니다.\n"
     ]
    }
   ],
   "source": [
    "names = ['태희', '성범', '규민', '태린', '준현']\n",
    "\n",
    "for name in names[::-1]:\n",
    "    print(f\"내 친구의 이름은 {name}입니다.\")"
   ]
  },
  {
   "cell_type": "code",
   "execution_count": 48,
   "id": "c2ce8990",
   "metadata": {
    "colab": {
     "base_uri": "https://localhost:8080/",
     "height": 70
    },
    "executionInfo": {
     "elapsed": 2714,
     "status": "ok",
     "timestamp": 1601454061977,
     "user": {
      "displayName": "오승환",
      "photoUrl": "https://lh3.googleusercontent.com/a-/AOh14GgBRB1w8bMEGhEpsp7aa7I9MQGz2D37o6hJeKeW=s64",
      "userId": "00933700884551564729"
     },
     "user_tz": -540
    },
    "id": "6yd-tGBV4neY",
    "outputId": "6484d44d-8deb-436e-9317-c8cbd93536ca"
   },
   "outputs": [
    {
     "name": "stdout",
     "output_type": "stream",
     "text": [
      "1\n",
      "4\n",
      "8\n",
      "16\n",
      "32\n"
     ]
    }
   ],
   "source": [
    "num_list = [1, 4, 8, 16, 32]\n",
    "for num in num_list:\n",
    "    print(num)"
   ]
  },
  {
   "cell_type": "code",
   "execution_count": 49,
   "id": "86163a50",
   "metadata": {},
   "outputs": [
    {
     "data": {
      "text/plain": [
       "True"
      ]
     },
     "execution_count": 49,
     "metadata": {},
     "output_type": "execute_result"
    }
   ],
   "source": [
    "range(3) == range(0, 3, 1)"
   ]
  },
  {
   "cell_type": "code",
   "execution_count": 4,
   "id": "38aadf3b",
   "metadata": {},
   "outputs": [
    {
     "data": {
      "text/plain": [
       "range(0, 5)"
      ]
     },
     "execution_count": 4,
     "metadata": {},
     "output_type": "execute_result"
    }
   ],
   "source": [
    "range(len(num_list))"
   ]
  },
  {
   "cell_type": "code",
   "execution_count": 6,
   "id": "54bea727",
   "metadata": {},
   "outputs": [
    {
     "name": "stdout",
     "output_type": "stream",
     "text": [
      "1 Bron\n",
      "2 Cron\n",
      "3 Dron\n"
     ]
    }
   ],
   "source": [
    "num_name = ['Bron', 'Cron', 'Dron']\n",
    "\n",
    "for i in range(len(num_list)):\n",
    "    print(num_list[i], num_name[i])"
   ]
  },
  {
   "cell_type": "code",
   "execution_count": null,
   "id": "db849645",
   "metadata": {},
   "outputs": [],
   "source": []
  },
  {
   "cell_type": "markdown",
   "id": "39a46ae7",
   "metadata": {
    "id": "c4eD6cqq2rCq"
   },
   "source": [
    "- for 반복문: 리스트의 원소를 반복해서 2의 배수와 함께 출력한다."
   ]
  },
  {
   "cell_type": "code",
   "execution_count": null,
   "id": "7a3dcdad",
   "metadata": {
    "colab": {
     "base_uri": "https://localhost:8080/",
     "height": 228
    },
    "executionInfo": {
     "elapsed": 2682,
     "status": "ok",
     "timestamp": 1601454061983,
     "user": {
      "displayName": "오승환",
      "photoUrl": "https://lh3.googleusercontent.com/a-/AOh14GgBRB1w8bMEGhEpsp7aa7I9MQGz2D37o6hJeKeW=s64",
      "userId": "00933700884551564729"
     },
     "user_tz": -540
    },
    "id": "xBB2REKPBIOB",
    "outputId": "53eb958c-71a1-4089-b61e-da36b32c75c8"
   },
   "outputs": [],
   "source": [
    "for num in [1, 2, 3]:\n",
    "    print(\"기존: \", num)\n",
    "    print(\"2배: \", num * 2)\n",
    "    print(\"\\n\")            "
   ]
  },
  {
   "cell_type": "markdown",
   "id": "29c53078",
   "metadata": {
    "id": "vXi4epuk3deJ"
   },
   "source": [
    "- for 반복문: 리스트의 원소를 반복해서 2의 배수를 계산하고, 빈 리스트(double)에 2의 배수를 원소로 추가한다"
   ]
  },
  {
   "cell_type": "code",
   "execution_count": null,
   "id": "5a6a4ad8",
   "metadata": {
    "colab": {
     "base_uri": "https://localhost:8080/",
     "height": 34
    },
    "executionInfo": {
     "elapsed": 2663,
     "status": "ok",
     "timestamp": 1601454061986,
     "user": {
      "displayName": "오승환",
      "photoUrl": "https://lh3.googleusercontent.com/a-/AOh14GgBRB1w8bMEGhEpsp7aa7I9MQGz2D37o6hJeKeW=s64",
      "userId": "00933700884551564729"
     },
     "user_tz": -540
    },
    "id": "CHCTlT4llwZA",
    "outputId": "15902b1f-4e59-4d73-9666-6da8cd010958"
   },
   "outputs": [],
   "source": [
    "double = []\n",
    "for num in [1, 2, 3]:\n",
    "    double.append(num * 2)\n",
    "\n",
    "print(double)            "
   ]
  },
  {
   "cell_type": "markdown",
   "id": "55f6bf72",
   "metadata": {
    "id": "KZPppArX4pn6"
   },
   "source": [
    "- while 반복문: 조건식(num 변수의 값이 4보다 작다)을 만족하는 경우, 반복해서 num을 출력하고 num에 1을 더한다."
   ]
  },
  {
   "cell_type": "code",
   "execution_count": 50,
   "id": "af7b0d0e",
   "metadata": {
    "colab": {
     "base_uri": "https://localhost:8080/",
     "height": 70
    },
    "executionInfo": {
     "elapsed": 1046,
     "status": "ok",
     "timestamp": 1601454183756,
     "user": {
      "displayName": "오승환",
      "photoUrl": "https://lh3.googleusercontent.com/a-/AOh14GgBRB1w8bMEGhEpsp7aa7I9MQGz2D37o6hJeKeW=s64",
      "userId": "00933700884551564729"
     },
     "user_tz": -540
    },
    "id": "6yd-tGBV4neY",
    "outputId": "3874b64d-3f6a-4a77-9de6-924d0d8019f9"
   },
   "outputs": [
    {
     "name": "stdout",
     "output_type": "stream",
     "text": [
      "1\n",
      "2\n",
      "3\n"
     ]
    }
   ],
   "source": [
    "num = 1\n",
    "\n",
    "while num < 4:\n",
    "    print(num)\n",
    "    num = num + 1"
   ]
  },
  {
   "cell_type": "code",
   "execution_count": 51,
   "id": "02b45528",
   "metadata": {},
   "outputs": [
    {
     "name": "stdout",
     "output_type": "stream",
     "text": [
      "1\n",
      "2\n",
      "3\n"
     ]
    }
   ],
   "source": [
    "for num in range(1, 4):\n",
    "    print(num)"
   ]
  },
  {
   "cell_type": "markdown",
   "id": "15b1d909",
   "metadata": {
    "id": "GKq23Kau460k"
   },
   "source": [
    "- while 반복문: 조건식(num 변수의 값이 4보다 작다)을 만족하는 경우, 반복해서 num과 2의 배수를 출력하고 num에 1을 더한다."
   ]
  },
  {
   "cell_type": "code",
   "execution_count": null,
   "id": "a852a5f7",
   "metadata": {
    "colab": {
     "base_uri": "https://localhost:8080/",
     "height": 228
    },
    "executionInfo": {
     "elapsed": 1021,
     "status": "ok",
     "timestamp": 1601454183759,
     "user": {
      "displayName": "오승환",
      "photoUrl": "https://lh3.googleusercontent.com/a-/AOh14GgBRB1w8bMEGhEpsp7aa7I9MQGz2D37o6hJeKeW=s64",
      "userId": "00933700884551564729"
     },
     "user_tz": -540
    },
    "id": "imG02c0fWzoh",
    "outputId": "2ccc0f42-35e0-4400-b69b-aa27d8f56f1d"
   },
   "outputs": [],
   "source": [
    "num = 1\n",
    "while num < 4:\n",
    "    print(\"기존: \", num)\n",
    "    print(\"2배: \", num * 2)\n",
    "    print(\"\\n\")    \n",
    "    num += 1"
   ]
  },
  {
   "cell_type": "markdown",
   "id": "3e98b0bd",
   "metadata": {
    "id": "sk5ed3bB5Dy2"
   },
   "source": [
    "- while True 반복문: 조건식(True)을 항상 만족하기 때문에 계속 반복 실행한다. \n",
    "- num의 2의 배수를 빈 리스트(double)에 추가한다. \n",
    "- break 명령: double의 원소 개수가 3개가 되면 while 반복문을 종료한다. \n",
    "- num에 1을 더한다."
   ]
  },
  {
   "cell_type": "code",
   "execution_count": null,
   "id": "9f3368c6",
   "metadata": {
    "colab": {
     "base_uri": "https://localhost:8080/",
     "height": 34
    },
    "executionInfo": {
     "elapsed": 1005,
     "status": "ok",
     "timestamp": 1601454183761,
     "user": {
      "displayName": "오승환",
      "photoUrl": "https://lh3.googleusercontent.com/a-/AOh14GgBRB1w8bMEGhEpsp7aa7I9MQGz2D37o6hJeKeW=s64",
      "userId": "00933700884551564729"
     },
     "user_tz": -540
    },
    "id": "CHCTlT4llwZA",
    "outputId": "3f25a15f-243b-4e13-d4de-7e0963b78dea"
   },
   "outputs": [],
   "source": [
    "num = 1\n",
    "double = []\n",
    "\n",
    "while True:\n",
    "    double.append(num * 2)    \n",
    "    if len(double) == 3:\n",
    "        break\n",
    "    num += 1\n",
    "\n",
    "print(double)            "
   ]
  },
  {
   "cell_type": "markdown",
   "id": "c0db7921",
   "metadata": {
    "id": "qG5-ZBC156oF"
   },
   "source": [
    "## 로또 번호 만들기"
   ]
  },
  {
   "cell_type": "markdown",
   "id": "751def30",
   "metadata": {
    "id": "b6Yf_a7h5izc"
   },
   "source": [
    "- range 함수로 1 ~ 45까지 정수를 원소로 갖는 배열을 만든다. \n",
    "- list 함수로 배열을 리스트로 변환한다.\n",
    "- 변환된 리스트를 출력한다."
   ]
  },
  {
   "cell_type": "code",
   "execution_count": 55,
   "id": "cf0df2c4",
   "metadata": {
    "colab": {
     "base_uri": "https://localhost:8080/",
     "height": 54
    },
    "executionInfo": {
     "elapsed": 993,
     "status": "ok",
     "timestamp": 1601454183762,
     "user": {
      "displayName": "오승환",
      "photoUrl": "https://lh3.googleusercontent.com/a-/AOh14GgBRB1w8bMEGhEpsp7aa7I9MQGz2D37o6hJeKeW=s64",
      "userId": "00933700884551564729"
     },
     "user_tz": -540
    },
    "id": "Uux0ebCeYItj",
    "outputId": "c60f6b9e-767e-4bcb-c1e4-22d8b67c665a"
   },
   "outputs": [
    {
     "name": "stdout",
     "output_type": "stream",
     "text": [
      "[1, 2, 3, 4, 5, 6, 7, 8, 9, 10, 11, 12, 13, 14, 15, 16, 17, 18, 19, 20, 21, 22, 23, 24, 25, 26, 27, 28, 29, 30, 31, 32, 33, 34, 35, 36, 37, 38, 39, 40, 41, 42, 43, 44, 45]\n"
     ]
    }
   ],
   "source": [
    "num_list = list(range(1, 46))\n",
    "print(num_list)"
   ]
  },
  {
   "cell_type": "markdown",
   "id": "46ab2dcc",
   "metadata": {
    "id": "igLWj-uj6BLP"
   },
   "source": [
    "- 리스트 안에 들어 있는 45개 숫자의 순서를 임의로 섞는다. (random 모듈의 shuffle 함수 사용)\n",
    "- 순서가 바뀐 리스트 객체를 출력한다. "
   ]
  },
  {
   "cell_type": "code",
   "execution_count": 59,
   "id": "b0aa027e",
   "metadata": {
    "colab": {
     "base_uri": "https://localhost:8080/",
     "height": 54
    },
    "executionInfo": {
     "elapsed": 980,
     "status": "ok",
     "timestamp": 1601454183764,
     "user": {
      "displayName": "오승환",
      "photoUrl": "https://lh3.googleusercontent.com/a-/AOh14GgBRB1w8bMEGhEpsp7aa7I9MQGz2D37o6hJeKeW=s64",
      "userId": "00933700884551564729"
     },
     "user_tz": -540
    },
    "id": "4kAr9VsIi8qU",
    "outputId": "59e272e2-41dd-4560-fcec-4b92797b6db8"
   },
   "outputs": [
    {
     "name": "stdout",
     "output_type": "stream",
     "text": [
      "[17, 18, 44, 33, 30, 29, 40, 9, 16, 34, 21, 20, 14, 26, 43, 42, 1, 36, 22, 24, 25, 8, 7, 19, 10, 31, 5, 15, 23, 32, 35, 45, 37, 38, 2, 3, 13, 11, 39, 6, 4, 12, 28, 27, 41]\n",
      "[17, 18, 44, 33, 30, 29]\n"
     ]
    }
   ],
   "source": [
    "import random as rd\n",
    "\n",
    "rd.shuffle(num_list)\n",
    "print(num_list)\n",
    "print(num_list[:6])"
   ]
  },
  {
   "cell_type": "code",
   "execution_count": null,
   "id": "98f7e6c7",
   "metadata": {},
   "outputs": [],
   "source": []
  },
  {
   "cell_type": "markdown",
   "id": "59e72f62",
   "metadata": {
    "id": "QH5YxewR6WH0"
   },
   "source": [
    "- 6개 번호를 담을 빈 리스트(lotto)를 만든다. \n",
    "- lotto 리스트의 원소 개수가 6개 미만일 때 while 반복문을 실행한다. \n",
    "- 45개 숫자 리스트의 순서를 shuffle 함수로 섞어 준다. 가장 앞에 위치한 원소를 추출하고 num_selected 변수에 저장한다.\n",
    "- if 조건문으로 추출한 숫자(num_selected)가 lotto 리스트에 들어 있는지 체크한다. 이미 추출한 숫자라면, 나머지 명령을 실행하지 않고 while 반복문의 처음으로 돌아가서 실행한다. \n",
    "- if 조건문을 충족하지 않는 경우, 즉 기존에 추출된 숫자가 아니라면 lotto 리스트의 원소로 추가한다. (append 활용)\n",
    "- 새로 추출한 숫자를 출력한다. (print 함수)\n",
    "- while 반복문이 종료되면 lotto 리스트를 출력한다. (6개 숫자 확인)"
   ]
  },
  {
   "cell_type": "code",
   "execution_count": 14,
   "id": "a321d988",
   "metadata": {
    "colab": {
     "base_uri": "https://localhost:8080/",
     "height": 140
    },
    "executionInfo": {
     "elapsed": 971,
     "status": "ok",
     "timestamp": 1601454183765,
     "user": {
      "displayName": "오승환",
      "photoUrl": "https://lh3.googleusercontent.com/a-/AOh14GgBRB1w8bMEGhEpsp7aa7I9MQGz2D37o6hJeKeW=s64",
      "userId": "00933700884551564729"
     },
     "user_tz": -540
    },
    "id": "bhD66hVFusUP",
    "outputId": "d659c903-39cd-47c6-dd6e-b24f3d930681",
    "scrolled": true
   },
   "outputs": [
    {
     "name": "stdout",
     "output_type": "stream",
     "text": [
      "3\n",
      "1\n",
      "1\n",
      "5\n",
      "2\n",
      "4\n",
      "2\n",
      "4\n",
      "4\n",
      "6\n",
      "6\n",
      "6\n",
      "2\n",
      "4\n",
      "5\n",
      "5\n",
      "3\n",
      "6\n",
      "3\n",
      "5\n",
      "5\n",
      "2\n",
      "6\n",
      "2\n",
      "6\n",
      "4\n",
      "3\n",
      "6\n",
      "4\n",
      "6\n",
      "6\n",
      "3\n",
      "1\n",
      "3\n",
      "6\n",
      "5\n",
      "3\n",
      "2\n",
      "1\n",
      "3\n",
      "6\n",
      "3\n",
      "6\n",
      "4\n",
      "1\n",
      "2\n",
      "1\n",
      "1\n",
      "3\n",
      "4\n",
      "2\n",
      "4\n",
      "1\n",
      "1\n",
      "1\n",
      "1\n",
      "1\n",
      "1\n",
      "4\n",
      "1\n",
      "5\n",
      "6\n",
      "5\n",
      "5\n",
      "6\n",
      "4\n",
      "4\n",
      "1\n",
      "5\n",
      "5\n",
      "5\n",
      "1\n",
      "3\n",
      "3\n",
      "1\n",
      "3\n",
      "4\n",
      "1\n",
      "6\n",
      "1\n",
      "1\n",
      "1\n",
      "3\n",
      "2\n",
      "3\n",
      "6\n",
      "5\n",
      "4\n",
      "2\n",
      "5\n",
      "5\n",
      "5\n",
      "2\n",
      "3\n",
      "1\n",
      "3\n",
      "2\n",
      "4\n",
      "6\n",
      "6\n",
      "[3, 1, 1, 5, 2, 4, 2, 4, 4, 6, 6, 6, 2, 4, 5, 5, 3, 6, 3, 5, 5, 2, 6, 2, 6, 4, 3, 6, 4, 6, 6, 3, 1, 3, 6, 5, 3, 2, 1, 3, 6, 3, 6, 4, 1, 2, 1, 1, 3, 4, 2, 4, 1, 1, 1, 1, 1, 1, 4, 1, 5, 6, 5, 5, 6, 4, 4, 1, 5, 5, 5, 1, 3, 3, 1, 3, 4, 1, 6, 1, 1, 1, 3, 2, 3, 6, 5, 4, 2, 5, 5, 5, 2, 3, 1, 3, 2, 4, 6, 6]\n"
     ]
    }
   ],
   "source": [
    "lotto = []\n",
    "\n",
    "while len(lotto) < 100:\n",
    "    rd.shuffle(num_list)\n",
    "    num_selected = num_list[0]\n",
    "    \n",
    "#    if num_selected in lotto:\n",
    "#        print('already have!')\n",
    "#        continue\n",
    "        \n",
    "    lotto.append(num_selected)  \n",
    "    print(num_selected)\n",
    "\n",
    "print(lotto)         "
   ]
  },
  {
   "cell_type": "code",
   "execution_count": 16,
   "id": "8999bd84",
   "metadata": {},
   "outputs": [
    {
     "data": {
      "text/plain": [
       "1    22\n",
       "6    18\n",
       "3    17\n",
       "5    16\n",
       "4    15\n",
       "2    12\n",
       "dtype: int64"
      ]
     },
     "execution_count": 16,
     "metadata": {},
     "output_type": "execute_result"
    }
   ],
   "source": [
    "import pandas as pd\n",
    "\n",
    "pd.Series(lotto).value_counts()"
   ]
  },
  {
   "cell_type": "code",
   "execution_count": 10,
   "id": "a95bcc7e",
   "metadata": {},
   "outputs": [
    {
     "data": {
      "text/plain": [
       "[4, 6, 20, 24, 41, 43]"
      ]
     },
     "execution_count": 10,
     "metadata": {},
     "output_type": "execute_result"
    }
   ],
   "source": [
    "lotto.sort()\n",
    "lotto"
   ]
  },
  {
   "cell_type": "code",
   "execution_count": null,
   "id": "832d87e2",
   "metadata": {},
   "outputs": [],
   "source": []
  },
  {
   "cell_type": "markdown",
   "id": "158e2952",
   "metadata": {
    "id": "nfJKVa058gPV"
   },
   "source": [
    "- 딕셔너리 만들기"
   ]
  },
  {
   "cell_type": "code",
   "execution_count": 17,
   "id": "ca7dfadc",
   "metadata": {
    "colab": {
     "base_uri": "https://localhost:8080/",
     "height": 34
    },
    "executionInfo": {
     "elapsed": 1056,
     "status": "ok",
     "timestamp": 1601456418141,
     "user": {
      "displayName": "오승환",
      "photoUrl": "https://lh3.googleusercontent.com/a-/AOh14GgBRB1w8bMEGhEpsp7aa7I9MQGz2D37o6hJeKeW=s64",
      "userId": "00933700884551564729"
     },
     "user_tz": -540
    },
    "id": "P7DsKs9y8klx",
    "outputId": "1265088a-7720-4315-da0f-e7ec0527ec0c"
   },
   "outputs": [
    {
     "data": {
      "text/plain": [
       "{'name': 'Jay', 'age': 20, 'grade': [3.0, 4.0, 3.5, 4.2]}"
      ]
     },
     "execution_count": 17,
     "metadata": {},
     "output_type": "execute_result"
    }
   ],
   "source": [
    "data = {'name': 'Jay', 'age': 20, 'grade': [3.0, 4.0, 3.5, 4.2]}\n",
    "data"
   ]
  },
  {
   "cell_type": "code",
   "execution_count": 18,
   "id": "67a42f75",
   "metadata": {},
   "outputs": [
    {
     "data": {
      "text/plain": [
       "dict_keys(['name', 'age', 'grade'])"
      ]
     },
     "execution_count": 18,
     "metadata": {},
     "output_type": "execute_result"
    }
   ],
   "source": [
    "data.keys()"
   ]
  },
  {
   "cell_type": "markdown",
   "id": "4f2e30ea",
   "metadata": {
    "id": "jPpkgQMq8tAz"
   },
   "source": [
    "- 'address'키에 매칭되는 값을 선택한다. (오류 메시지 발생)"
   ]
  },
  {
   "cell_type": "code",
   "execution_count": 19,
   "id": "345047d7",
   "metadata": {
    "colab": {
     "base_uri": "https://localhost:8080/",
     "height": 169
    },
    "executionInfo": {
     "elapsed": 1146,
     "status": "error",
     "timestamp": 1601456560407,
     "user": {
      "displayName": "오승환",
      "photoUrl": "https://lh3.googleusercontent.com/a-/AOh14GgBRB1w8bMEGhEpsp7aa7I9MQGz2D37o6hJeKeW=s64",
      "userId": "00933700884551564729"
     },
     "user_tz": -540
    },
    "id": "PFUZsaJjH-vt",
    "outputId": "7223cb79-b713-469c-9727-7941f0996384"
   },
   "outputs": [
    {
     "ename": "KeyError",
     "evalue": "'address'",
     "output_type": "error",
     "traceback": [
      "\u001b[0;31m---------------------------------------------------------------------------\u001b[0m",
      "\u001b[0;31mKeyError\u001b[0m                                  Traceback (most recent call last)",
      "\u001b[0;32m/tmp/ipykernel_42304/1309666588.py\u001b[0m in \u001b[0;36m<module>\u001b[0;34m\u001b[0m\n\u001b[0;32m----> 1\u001b[0;31m \u001b[0mdata\u001b[0m\u001b[0;34m[\u001b[0m\u001b[0;34m'address'\u001b[0m\u001b[0;34m]\u001b[0m\u001b[0;34m\u001b[0m\u001b[0;34m\u001b[0m\u001b[0m\n\u001b[0m",
      "\u001b[0;31mKeyError\u001b[0m: 'address'"
     ]
    }
   ],
   "source": [
    "data['address']"
   ]
  },
  {
   "cell_type": "markdown",
   "id": "4e771712",
   "metadata": {
    "id": "jsllkeU985rK"
   },
   "source": [
    "- try: 'address' 키와 매칭되는 값을 추출해서, \"주소: \" 문자열과 함께 출력한다.\n",
    "- except: try 구문에 오류가 발생되면 이 부분의 코드가 실행된다.(예외처리)"
   ]
  },
  {
   "cell_type": "code",
   "execution_count": 20,
   "id": "f7215675",
   "metadata": {
    "colab": {
     "base_uri": "https://localhost:8080/",
     "height": 34
    },
    "executionInfo": {
     "elapsed": 955,
     "status": "ok",
     "timestamp": 1601456564123,
     "user": {
      "displayName": "오승환",
      "photoUrl": "https://lh3.googleusercontent.com/a-/AOh14GgBRB1w8bMEGhEpsp7aa7I9MQGz2D37o6hJeKeW=s64",
      "userId": "00933700884551564729"
     },
     "user_tz": -540
    },
    "id": "BYnqszzVH_go",
    "outputId": "f712bc50-e224-42ea-89c6-2bc014230f5b"
   },
   "outputs": [
    {
     "name": "stdout",
     "output_type": "stream",
     "text": [
      "주소 정보가 없습니다\n"
     ]
    }
   ],
   "source": [
    "try:\n",
    "    print(\"주소:\", data['address'])\n",
    "except:\n",
    "    print(\"주소 정보가 없습니다\")"
   ]
  },
  {
   "cell_type": "markdown",
   "id": "9e2b2b84",
   "metadata": {
    "id": "QfqwWVNy9RPQ"
   },
   "source": [
    "- try: 'name' 키와 매칭되는 값을 추출해서, \"이름: \" 문자열과 함께 출력한다.\n",
    "- except: try 구문에 오류가 발생되면 이 부분의 코드가 실행된다.(예외처리)\n",
    "- finally: 이 부분의 코드는 무조건 실행된다. "
   ]
  },
  {
   "cell_type": "code",
   "execution_count": 21,
   "id": "d7620df7",
   "metadata": {
    "colab": {
     "base_uri": "https://localhost:8080/",
     "height": 52
    },
    "executionInfo": {
     "elapsed": 756,
     "status": "ok",
     "timestamp": 1601456642302,
     "user": {
      "displayName": "오승환",
      "photoUrl": "https://lh3.googleusercontent.com/a-/AOh14GgBRB1w8bMEGhEpsp7aa7I9MQGz2D37o6hJeKeW=s64",
      "userId": "00933700884551564729"
     },
     "user_tz": -540
    },
    "id": "yHM8fbVuJNsJ",
    "outputId": "4aa6a1d1-63c1-42ef-c21c-163274d2be20"
   },
   "outputs": [
    {
     "name": "stdout",
     "output_type": "stream",
     "text": [
      "이름: Jay\n",
      "모든 작업이 완료되었습니다\n"
     ]
    }
   ],
   "source": [
    "try:\n",
    "    print(\"이름:\", data['name'])\n",
    "except:\n",
    "    print(\"이름 정보가 없습니다\")\n",
    "finally:\n",
    "    print(\"모든 작업이 완료되었습니다\")      "
   ]
  },
  {
   "cell_type": "markdown",
   "id": "c058d6ce",
   "metadata": {},
   "source": [
    "# 함수 다루기"
   ]
  },
  {
   "cell_type": "markdown",
   "id": "53acbcc4",
   "metadata": {
    "id": "VdJBD3Yo-HMe"
   },
   "source": [
    "- cal_modulo라는 함수를 정의한다. (숫자 a, b를 입력 받고 a를 b로 나눈 나머지를 출력 값으로 내보낸다.)"
   ]
  },
  {
   "cell_type": "code",
   "execution_count": 60,
   "id": "19daef98",
   "metadata": {},
   "outputs": [
    {
     "data": {
      "text/plain": [
       "1"
      ]
     },
     "execution_count": 60,
     "metadata": {},
     "output_type": "execute_result"
    }
   ],
   "source": [
    "10 % 3"
   ]
  },
  {
   "cell_type": "code",
   "execution_count": 65,
   "id": "b96ea2a5",
   "metadata": {
    "executionInfo": {
     "elapsed": 1794,
     "status": "ok",
     "timestamp": 1601457066136,
     "user": {
      "displayName": "오승환",
      "photoUrl": "https://lh3.googleusercontent.com/a-/AOh14GgBRB1w8bMEGhEpsp7aa7I9MQGz2D37o6hJeKeW=s64",
      "userId": "00933700884551564729"
     },
     "user_tz": -540
    },
    "id": "oorQEIu0LpZ0"
   },
   "outputs": [],
   "source": [
    "def cal_modulo(a, b):\n",
    "    if a >= b:\n",
    "        temp = a % b\n",
    "    else:\n",
    "        temp = b % a\n",
    "\n",
    "    return temp"
   ]
  },
  {
   "cell_type": "code",
   "execution_count": 72,
   "id": "f1ad7fd8",
   "metadata": {},
   "outputs": [],
   "source": [
    "def cal_minus(a, b):\n",
    "    if a >= b:\n",
    "        return a - b\n",
    "    else:\n",
    "        return b - a"
   ]
  },
  {
   "cell_type": "code",
   "execution_count": 73,
   "id": "2f8cdc56",
   "metadata": {
    "scrolled": true
   },
   "outputs": [
    {
     "data": {
      "text/plain": [
       "5"
      ]
     },
     "execution_count": 73,
     "metadata": {},
     "output_type": "execute_result"
    }
   ],
   "source": [
    "cal_minus(15, 20)"
   ]
  },
  {
   "cell_type": "markdown",
   "id": "51df0ff0",
   "metadata": {},
   "source": [
    "a부터 b까지 사이에 있는 모든 수를 더한 합을 반환하는 함수 (a, b 포함)"
   ]
  },
  {
   "cell_type": "code",
   "execution_count": 74,
   "id": "b04d24d1",
   "metadata": {},
   "outputs": [],
   "source": [
    "def all_sum(a, b):\n",
    "    tot_sum = 0\n",
    "    \n",
    "    for i in range(a, b+1):\n",
    "        tot_sum = tot_sum + i\n",
    "    \n",
    "    return tot_sum"
   ]
  },
  {
   "cell_type": "code",
   "execution_count": 77,
   "id": "cba6e74a",
   "metadata": {},
   "outputs": [
    {
     "name": "stdout",
     "output_type": "stream",
     "text": [
      "45150\n"
     ]
    }
   ],
   "source": [
    "print(all_sum(1, 300))"
   ]
  },
  {
   "cell_type": "markdown",
   "id": "a9521925",
   "metadata": {
    "id": "Q99HBK7y-XXr"
   },
   "source": [
    "- cal_modulo 함수를 이용하여, 숫자 5를 3으로 나눈 나머지를 계산한다."
   ]
  },
  {
   "cell_type": "code",
   "execution_count": 68,
   "id": "b688b698",
   "metadata": {
    "colab": {
     "base_uri": "https://localhost:8080/",
     "height": 34
    },
    "executionInfo": {
     "elapsed": 4512,
     "status": "ok",
     "timestamp": 1601457068895,
     "user": {
      "displayName": "오승환",
      "photoUrl": "https://lh3.googleusercontent.com/a-/AOh14GgBRB1w8bMEGhEpsp7aa7I9MQGz2D37o6hJeKeW=s64",
      "userId": "00933700884551564729"
     },
     "user_tz": -540
    },
    "id": "0mXa8IIaOfaR",
    "outputId": "2a826b65-353b-4bb1-dfe3-5a0eee42c530"
   },
   "outputs": [],
   "source": [
    "c = cal_modulo(3, 10)"
   ]
  },
  {
   "cell_type": "code",
   "execution_count": 69,
   "id": "a01f6c47",
   "metadata": {},
   "outputs": [
    {
     "name": "stdout",
     "output_type": "stream",
     "text": [
      "1\n"
     ]
    }
   ],
   "source": [
    "print(c)"
   ]
  },
  {
   "cell_type": "markdown",
   "id": "16724a53",
   "metadata": {
    "id": "bSHZLnXV-efD"
   },
   "source": [
    "- cal_modulo 함수를 이용하여, 숫자 10을 3으로 나눈 나머지를 구한다. \n",
    "- 함수가 반환하는 나머지를 modulo 변수에 저장하고, 화면에 출력한다."
   ]
  },
  {
   "cell_type": "code",
   "execution_count": 35,
   "id": "950b9959",
   "metadata": {
    "colab": {
     "base_uri": "https://localhost:8080/",
     "height": 34
    },
    "executionInfo": {
     "elapsed": 4478,
     "status": "ok",
     "timestamp": 1601457068898,
     "user": {
      "displayName": "오승환",
      "photoUrl": "https://lh3.googleusercontent.com/a-/AOh14GgBRB1w8bMEGhEpsp7aa7I9MQGz2D37o6hJeKeW=s64",
      "userId": "00933700884551564729"
     },
     "user_tz": -540
    },
    "id": "JZiT1rB8OlIA",
    "outputId": "3a93c8f7-0f36-45ac-ea21-f9df0f6c2b6e"
   },
   "outputs": [
    {
     "name": "stdout",
     "output_type": "stream",
     "text": [
      "1\n"
     ]
    }
   ],
   "source": [
    "modulo = cal_modulo(10, 3)\n",
    "print(modulo)"
   ]
  },
  {
   "cell_type": "markdown",
   "id": "80fa7259",
   "metadata": {
    "id": "ThNBbWqK-uxK"
   },
   "source": [
    "- 3개의 숫자 쌍을 원소로 갖는 리스트(num_pairs)를 정의한다.\n",
    "- cal_modulo 함수를 이용하여, 리스트 원소인 숫자 쌍의 값들에 대한 나머지를 구한다.  \n",
    "- for 반복문으로 함수가 반환하는 나머지를 modulo 변수에 저장하고, 화면에 반복해서 출력한다."
   ]
  },
  {
   "cell_type": "code",
   "execution_count": 36,
   "id": "1d9ec212",
   "metadata": {
    "colab": {
     "base_uri": "https://localhost:8080/",
     "height": 70
    },
    "executionInfo": {
     "elapsed": 4455,
     "status": "ok",
     "timestamp": 1601457068900,
     "user": {
      "displayName": "오승환",
      "photoUrl": "https://lh3.googleusercontent.com/a-/AOh14GgBRB1w8bMEGhEpsp7aa7I9MQGz2D37o6hJeKeW=s64",
      "userId": "00933700884551564729"
     },
     "user_tz": -540
    },
    "id": "MKyKWeQ0NIft",
    "outputId": "4cae3858-aa86-43c3-d63f-47e883f31d76"
   },
   "outputs": [
    {
     "name": "stdout",
     "output_type": "stream",
     "text": [
      "2\n",
      "0\n",
      "1\n"
     ]
    }
   ],
   "source": [
    "num_pairs = [(5, 3), (2, 2), (10, 3)]\n",
    "for a, b in num_pairs: # (a, b)\n",
    "    modulo = cal_modulo(a, b)\n",
    "    print(modulo)"
   ]
  },
  {
   "cell_type": "markdown",
   "id": "9ff40b1b",
   "metadata": {
    "id": "Il50mSIv_M_2"
   },
   "source": [
    "- 숫자 쌍을 원소로 갖는 리스트(num_pair_list)를 입력 받아서, 나머지 연산을 해서 함께 출력하는 cal_paris_modulo 함수를 정의한다.\n",
    "\n",
    "    1) 숫자 쌍의 값들에 대한 나머지를 구해서, result 딕셔너리의 원소로 추가한다. 이때, 숫자 쌍(투플)이 키가 된다.\n",
    "    \n",
    "    2)for 반복문으로 함수가 반환하는 나머지를 modulo 변수에 저장하고, 화면에 반복해서 출력한다.\n",
    "\n",
    "-  num_paris 리스트를 cal_paris_modulo 함수에 입력한다. 함수가 반환하는 값을 mod_pairs 변수에 저장하고 출력한다. "
   ]
  },
  {
   "cell_type": "code",
   "execution_count": null,
   "id": "cf9ab87c",
   "metadata": {
    "colab": {
     "base_uri": "https://localhost:8080/",
     "height": 34
    },
    "executionInfo": {
     "elapsed": 4437,
     "status": "ok",
     "timestamp": 1601457068902,
     "user": {
      "displayName": "오승환",
      "photoUrl": "https://lh3.googleusercontent.com/a-/AOh14GgBRB1w8bMEGhEpsp7aa7I9MQGz2D37o6hJeKeW=s64",
      "userId": "00933700884551564729"
     },
     "user_tz": -540
    },
    "id": "l8FRcJwjLphQ",
    "outputId": "ed3e83f9-0178-47a1-b987-69749a47cf13"
   },
   "outputs": [],
   "source": [
    "def cal_pairs_modulo(num_pair_list):\n",
    "    result = {}\n",
    "    for a, b in num_pair_list:\n",
    "        modulo = cal_modulo(a, b)\n",
    "        result[(a,b)] = modulo\n",
    "    return result\n",
    "\n",
    "mod_pairs = cal_pairs_modulo(num_pairs)\n",
    "mod_pairs"
   ]
  },
  {
   "cell_type": "markdown",
   "id": "5eef50e6",
   "metadata": {
    "id": "82jA0RjC1xlI"
   },
   "source": [
    "-  num_paris 리스트를 cal_paris_modulo 함수에 입력하고, 함수가 반환하는 값을 화면에 출력하는 함수를 정의한다. 그리고 함수를 실행한다.  "
   ]
  },
  {
   "cell_type": "code",
   "execution_count": null,
   "id": "c45a749b",
   "metadata": {
    "colab": {
     "base_uri": "https://localhost:8080/",
     "height": 34
    },
    "executionInfo": {
     "elapsed": 4413,
     "status": "ok",
     "timestamp": 1601457068903,
     "user": {
      "displayName": "오승환",
      "photoUrl": "https://lh3.googleusercontent.com/a-/AOh14GgBRB1w8bMEGhEpsp7aa7I9MQGz2D37o6hJeKeW=s64",
      "userId": "00933700884551564729"
     },
     "user_tz": -540
    },
    "id": "Cy1foK9qOOyx",
    "outputId": "0fbef756-c7ae-4fda-da91-6051dfdc5b70"
   },
   "outputs": [],
   "source": [
    "def print_mod_pairs():\n",
    "    print(cal_pairs_modulo(num_pairs))\n",
    "\n",
    "print_mod_pairs()"
   ]
  },
  {
   "cell_type": "markdown",
   "id": "0c74461c",
   "metadata": {
    "id": "P3sxHBUB3nBr"
   },
   "source": [
    "- cal_pairs_modulo 함수를 정의할 때 사용한 지역변수 result 값을 출력해 본다."
   ]
  },
  {
   "cell_type": "code",
   "execution_count": null,
   "id": "7a067d61",
   "metadata": {
    "colab": {
     "base_uri": "https://localhost:8080/",
     "height": 169
    },
    "executionInfo": {
     "elapsed": 4393,
     "status": "error",
     "timestamp": 1601457068906,
     "user": {
      "displayName": "오승환",
      "photoUrl": "https://lh3.googleusercontent.com/a-/AOh14GgBRB1w8bMEGhEpsp7aa7I9MQGz2D37o6hJeKeW=s64",
      "userId": "00933700884551564729"
     },
     "user_tz": -540
    },
    "id": "A5T0taolLyM6",
    "outputId": "2e4c3fd2-36fa-4402-edcb-b56fc2399c71",
    "scrolled": true
   },
   "outputs": [],
   "source": [
    "result"
   ]
  },
  {
   "cell_type": "markdown",
   "id": "1f92fac0",
   "metadata": {
    "id": "MPJdBEPDF4nP"
   },
   "source": [
    "- add_one 함수 정의 (숫자를 입력받아서 1을 더한 값을 반환)"
   ]
  },
  {
   "cell_type": "code",
   "execution_count": null,
   "id": "13f4646e",
   "metadata": {
    "colab": {
     "base_uri": "https://localhost:8080/",
     "height": 34
    },
    "executionInfo": {
     "elapsed": 1519,
     "status": "ok",
     "timestamp": 1601457386798,
     "user": {
      "displayName": "오승환",
      "photoUrl": "https://lh3.googleusercontent.com/a-/AOh14GgBRB1w8bMEGhEpsp7aa7I9MQGz2D37o6hJeKeW=s64",
      "userId": "00933700884551564729"
     },
     "user_tz": -540
    },
    "id": "oorQEIu0LpZ0",
    "outputId": "2d586790-e417-4498-8a53-bfb1a7676738"
   },
   "outputs": [],
   "source": [
    "def add_one(num):\n",
    "    return num + 1\n",
    "\n",
    "answer = add_one(1)\n",
    "print(answer)"
   ]
  },
  {
   "cell_type": "markdown",
   "id": "0cb5519a",
   "metadata": {
    "id": "ER2qeLpbGChG"
   },
   "source": [
    "- 숫자 리스트의 원소에 각각 1을 더하기 (add_one 함수 사용)"
   ]
  },
  {
   "cell_type": "code",
   "execution_count": null,
   "id": "f62bd43f",
   "metadata": {
    "colab": {
     "base_uri": "https://localhost:8080/",
     "height": 34
    },
    "executionInfo": {
     "elapsed": 1490,
     "status": "ok",
     "timestamp": 1601457386805,
     "user": {
      "displayName": "오승환",
      "photoUrl": "https://lh3.googleusercontent.com/a-/AOh14GgBRB1w8bMEGhEpsp7aa7I9MQGz2D37o6hJeKeW=s64",
      "userId": "00933700884551564729"
     },
     "user_tz": -540
    },
    "id": "gAAwsjWglovU",
    "outputId": "648ded76-49b7-44f0-a14d-5085f8d0b6ea"
   },
   "outputs": [],
   "source": [
    "add_one_list = []\n",
    "for x in [1, 2, 3]:\n",
    "    y = add_one(x)\n",
    "    add_one_list.append(y)\n",
    "\n",
    "print(add_one_list)"
   ]
  },
  {
   "cell_type": "markdown",
   "id": "ac592bc5",
   "metadata": {
    "id": "D2UM4lHdGYh_"
   },
   "source": [
    "- 숫자 리스트의 원소에 각각 1을 더하기 (lambda 함수 사용)"
   ]
  },
  {
   "cell_type": "code",
   "execution_count": 78,
   "id": "eef3826d",
   "metadata": {
    "colab": {
     "base_uri": "https://localhost:8080/",
     "height": 34
    },
    "executionInfo": {
     "elapsed": 1468,
     "status": "ok",
     "timestamp": 1601457386811,
     "user": {
      "displayName": "오승환",
      "photoUrl": "https://lh3.googleusercontent.com/a-/AOh14GgBRB1w8bMEGhEpsp7aa7I9MQGz2D37o6hJeKeW=s64",
      "userId": "00933700884551564729"
     },
     "user_tz": -540
    },
    "id": "A5T0taolLyM6",
    "outputId": "4e3f4d7c-a5fc-4920-d4db-c99e36a61465"
   },
   "outputs": [
    {
     "name": "stdout",
     "output_type": "stream",
     "text": [
      "[2, 3, 4]\n"
     ]
    }
   ],
   "source": [
    "add_one_lambda = []\n",
    "\n",
    "def add_func2(x):\n",
    "    add_one_lambda.append(x+1)\n",
    "\n",
    "add_func = lambda x: add_one_lambda.append(x+1)\n",
    "\n",
    "for x in [1, 2, 3]:\n",
    "    add_func2(x)\n",
    "\n",
    "print(add_one_lambda)"
   ]
  },
  {
   "cell_type": "markdown",
   "id": "e0c0efc3",
   "metadata": {
    "id": "W5uOVt7SGrDn"
   },
   "source": [
    "- 두 숫자를 더하는 lambda 함수 만들기"
   ]
  },
  {
   "cell_type": "code",
   "execution_count": 39,
   "id": "94634e08",
   "metadata": {
    "colab": {
     "base_uri": "https://localhost:8080/",
     "height": 34
    },
    "executionInfo": {
     "elapsed": 1453,
     "status": "ok",
     "timestamp": 1601457386812,
     "user": {
      "displayName": "오승환",
      "photoUrl": "https://lh3.googleusercontent.com/a-/AOh14GgBRB1w8bMEGhEpsp7aa7I9MQGz2D37o6hJeKeW=s64",
      "userId": "00933700884551564729"
     },
     "user_tz": -540
    },
    "id": "sQ72weMFmNeE",
    "outputId": "db751b13-2310-4fea-d38a-b1541407b26e"
   },
   "outputs": [
    {
     "name": "stdout",
     "output_type": "stream",
     "text": [
      "5\n"
     ]
    }
   ],
   "source": [
    "new_add_func = lambda x, y: x+y\n",
    "answer = new_add_func(2, 3)\n",
    "print(answer)"
   ]
  },
  {
   "cell_type": "markdown",
   "id": "bb3a794d",
   "metadata": {
    "id": "ntvNL1CyHiK-"
   },
   "source": [
    "- 숫자 1~10을 원소로 갖는 리스트를 만들고, 원소의 합을 구한다. (sum 함수)"
   ]
  },
  {
   "cell_type": "code",
   "execution_count": 40,
   "id": "eec16fbb",
   "metadata": {
    "colab": {
     "base_uri": "https://localhost:8080/",
     "height": 34
    },
    "executionInfo": {
     "elapsed": 1779,
     "status": "ok",
     "timestamp": 1601457685182,
     "user": {
      "displayName": "오승환",
      "photoUrl": "https://lh3.googleusercontent.com/a-/AOh14GgBRB1w8bMEGhEpsp7aa7I9MQGz2D37o6hJeKeW=s64",
      "userId": "00933700884551564729"
     },
     "user_tz": -540
    },
    "id": "A5T0taolLyM6",
    "outputId": "02947346-7dce-4b68-bed2-09b18538f0a4"
   },
   "outputs": [
    {
     "data": {
      "text/plain": [
       "55"
      ]
     },
     "execution_count": 40,
     "metadata": {},
     "output_type": "execute_result"
    }
   ],
   "source": [
    "numbers = [1, 2, 3, 4, 5, 6, 7, 8, 9, 10]\n",
    "sum(numbers)"
   ]
  },
  {
   "cell_type": "code",
   "execution_count": 42,
   "id": "a72dce39",
   "metadata": {},
   "outputs": [
    {
     "name": "stdout",
     "output_type": "stream",
     "text": [
      "30\n"
     ]
    }
   ],
   "source": [
    "val = 0\n",
    "\n",
    "for i in numbers:\n",
    "    if (i % 2 == 0):\n",
    "        val = val + i\n",
    "\n",
    "print(val)"
   ]
  },
  {
   "cell_type": "code",
   "execution_count": 45,
   "id": "5d9cb13f",
   "metadata": {},
   "outputs": [
    {
     "data": {
      "text/plain": [
       "300"
      ]
     },
     "execution_count": 45,
     "metadata": {},
     "output_type": "execute_result"
    }
   ],
   "source": [
    "max(200, 300)"
   ]
  },
  {
   "cell_type": "code",
   "execution_count": 48,
   "id": "48a1567f",
   "metadata": {},
   "outputs": [
    {
     "name": "stdout",
     "output_type": "stream",
     "text": [
      "시작하는 숫자가 끝나는 숫자보다 큽니다. 다시 입력해 주세요.\n"
     ]
    },
    {
     "data": {
      "text/plain": [
       "-1"
      ]
     },
     "execution_count": 48,
     "metadata": {},
     "output_type": "execute_result"
    }
   ],
   "source": [
    "# sum_even(시작하는 숫자, 끝나는 숫자) : 짝수의 합을 출력하는 함수\n",
    "def sum_even(start, end):\n",
    "\n",
    "    i1 = min(start, end)\n",
    "    i2 = max(start, end)\n",
    "    \n",
    "    val = 0\n",
    "    \n",
    "    for i in range(i1, i2+1):\n",
    "        if (i % 2 == 0):\n",
    "            val = val + i\n",
    "            \n",
    "    return val\n",
    "\n",
    "sum_even(230, 200)"
   ]
  },
  {
   "cell_type": "markdown",
   "id": "46b92549",
   "metadata": {
    "id": "2VQtSDK9HzIV"
   },
   "source": [
    "- 최대값 (max)"
   ]
  },
  {
   "cell_type": "code",
   "execution_count": null,
   "id": "771fe418",
   "metadata": {
    "colab": {
     "base_uri": "https://localhost:8080/",
     "height": 34
    },
    "executionInfo": {
     "elapsed": 1744,
     "status": "ok",
     "timestamp": 1601457685186,
     "user": {
      "displayName": "오승환",
      "photoUrl": "https://lh3.googleusercontent.com/a-/AOh14GgBRB1w8bMEGhEpsp7aa7I9MQGz2D37o6hJeKeW=s64",
      "userId": "00933700884551564729"
     },
     "user_tz": -540
    },
    "id": "b8ITg3udyqdT",
    "outputId": "7c951fc1-dd19-4bb4-8a76-23c69692a9e7"
   },
   "outputs": [],
   "source": [
    "max(numbers)"
   ]
  },
  {
   "cell_type": "markdown",
   "id": "ba87bd3b",
   "metadata": {
    "id": "MWb0ovoxH3Ax"
   },
   "source": [
    "- 최소값(min)"
   ]
  },
  {
   "cell_type": "code",
   "execution_count": null,
   "id": "ccd5e610",
   "metadata": {
    "colab": {
     "base_uri": "https://localhost:8080/",
     "height": 34
    },
    "executionInfo": {
     "elapsed": 1709,
     "status": "ok",
     "timestamp": 1601457685187,
     "user": {
      "displayName": "오승환",
      "photoUrl": "https://lh3.googleusercontent.com/a-/AOh14GgBRB1w8bMEGhEpsp7aa7I9MQGz2D37o6hJeKeW=s64",
      "userId": "00933700884551564729"
     },
     "user_tz": -540
    },
    "id": "EooDoGWTys4L",
    "outputId": "30476bd1-34c6-4306-ec37-05eccaf3c788"
   },
   "outputs": [],
   "source": [
    "min(numbers)"
   ]
  },
  {
   "cell_type": "markdown",
   "id": "22e38d62",
   "metadata": {
    "id": "LfZzZlCFH6SC"
   },
   "source": [
    "- 원소의 개수 또는 길이 (len)"
   ]
  },
  {
   "cell_type": "code",
   "execution_count": null,
   "id": "d12c6db6",
   "metadata": {
    "colab": {
     "base_uri": "https://localhost:8080/",
     "height": 34
    },
    "executionInfo": {
     "elapsed": 1674,
     "status": "ok",
     "timestamp": 1601457685188,
     "user": {
      "displayName": "오승환",
      "photoUrl": "https://lh3.googleusercontent.com/a-/AOh14GgBRB1w8bMEGhEpsp7aa7I9MQGz2D37o6hJeKeW=s64",
      "userId": "00933700884551564729"
     },
     "user_tz": -540
    },
    "id": "pXjA6bSfyih8",
    "outputId": "185c3a53-3e88-41ed-9077-ac1c34f35c9d"
   },
   "outputs": [],
   "source": [
    "len(numbers)"
   ]
  },
  {
   "cell_type": "markdown",
   "id": "5476e53a",
   "metadata": {
    "id": "znQP7_bfIA8q"
   },
   "source": [
    "- enumerate 함수: 어떤 리스트나 변수들 속에서 아이템을 꺼내는 인덱스를 함께 부여할 때 필요한 함수이다."
   ]
  },
  {
   "cell_type": "code",
   "execution_count": 49,
   "id": "05177e73",
   "metadata": {
    "colab": {
     "base_uri": "https://localhost:8080/",
     "height": 193
    },
    "executionInfo": {
     "elapsed": 1644,
     "status": "ok",
     "timestamp": 1601457685191,
     "user": {
      "displayName": "오승환",
      "photoUrl": "https://lh3.googleusercontent.com/a-/AOh14GgBRB1w8bMEGhEpsp7aa7I9MQGz2D37o6hJeKeW=s64",
      "userId": "00933700884551564729"
     },
     "user_tz": -540
    },
    "id": "Iz-2qzEsyMyZ",
    "outputId": "a5bf140f-6d91-499a-f97f-cf32c1762031"
   },
   "outputs": [
    {
     "name": "stdout",
     "output_type": "stream",
     "text": [
      "0 1\n",
      "1 2\n",
      "2 3\n",
      "3 4\n",
      "4 5\n",
      "5 6\n",
      "6 7\n",
      "7 8\n",
      "8 9\n",
      "9 10\n"
     ]
    }
   ],
   "source": [
    "for i, num in enumerate(numbers):\n",
    "    print(i, num)"
   ]
  },
  {
   "cell_type": "markdown",
   "id": "8df84c55",
   "metadata": {
    "id": "A_9U08Z7IGZT"
   },
   "source": [
    "- range 함수: 어떤 연속된 값을 얻을 때 쓰는 함수이다."
   ]
  },
  {
   "cell_type": "code",
   "execution_count": null,
   "id": "69f3ea79",
   "metadata": {
    "colab": {
     "base_uri": "https://localhost:8080/",
     "height": 34
    },
    "executionInfo": {
     "elapsed": 1624,
     "status": "ok",
     "timestamp": 1601457685192,
     "user": {
      "displayName": "오승환",
      "photoUrl": "https://lh3.googleusercontent.com/a-/AOh14GgBRB1w8bMEGhEpsp7aa7I9MQGz2D37o6hJeKeW=s64",
      "userId": "00933700884551564729"
     },
     "user_tz": -540
    },
    "id": "zvPbVMxcy4nw",
    "outputId": "641d6a7c-0def-47b1-c67e-56578d96cb11"
   },
   "outputs": [],
   "source": [
    "range(10)"
   ]
  },
  {
   "cell_type": "markdown",
   "id": "27616bf4",
   "metadata": {
    "id": "JJBbMLgKIK8S"
   },
   "source": [
    "- list 함수: 어떤 변수를 리스트로 선언하고 싶을 때 사용하는 함수이다."
   ]
  },
  {
   "cell_type": "code",
   "execution_count": null,
   "id": "83a1ce5f",
   "metadata": {
    "colab": {
     "base_uri": "https://localhost:8080/",
     "height": 34
    },
    "executionInfo": {
     "elapsed": 1594,
     "status": "ok",
     "timestamp": 1601457685193,
     "user": {
      "displayName": "오승환",
      "photoUrl": "https://lh3.googleusercontent.com/a-/AOh14GgBRB1w8bMEGhEpsp7aa7I9MQGz2D37o6hJeKeW=s64",
      "userId": "00933700884551564729"
     },
     "user_tz": -540
    },
    "id": "EQ7mNwJix63q",
    "outputId": "33b3ba8b-a1c7-414e-bac2-2a26e726f814"
   },
   "outputs": [],
   "source": [
    "range(1, 10)\n",
    "list(range(1, 10))"
   ]
  },
  {
   "cell_type": "markdown",
   "id": "68edadfe",
   "metadata": {
    "id": "BpvXklcIIQA2"
   },
   "source": [
    "- print 함수"
   ]
  },
  {
   "cell_type": "code",
   "execution_count": null,
   "id": "c21f6d55",
   "metadata": {
    "colab": {
     "base_uri": "https://localhost:8080/",
     "height": 34
    },
    "executionInfo": {
     "elapsed": 1577,
     "status": "ok",
     "timestamp": 1601457685194,
     "user": {
      "displayName": "오승환",
      "photoUrl": "https://lh3.googleusercontent.com/a-/AOh14GgBRB1w8bMEGhEpsp7aa7I9MQGz2D37o6hJeKeW=s64",
      "userId": "00933700884551564729"
     },
     "user_tz": -540
    },
    "id": "bFsjP_WqzHPF",
    "outputId": "abf50a18-5850-46ad-c40d-3578a006b161"
   },
   "outputs": [],
   "source": [
    "print(list(range(10)))"
   ]
  },
  {
   "cell_type": "markdown",
   "id": "c9062b8c",
   "metadata": {
    "id": "oQ2M3b3xITtd"
   },
   "source": [
    "- eval 함수: 문자열을 입력받아서 실행시키는 함수이다."
   ]
  },
  {
   "cell_type": "code",
   "execution_count": 52,
   "id": "2194d6a2",
   "metadata": {
    "colab": {
     "base_uri": "https://localhost:8080/",
     "height": 34
    },
    "executionInfo": {
     "elapsed": 1550,
     "status": "ok",
     "timestamp": 1601457685195,
     "user": {
      "displayName": "오승환",
      "photoUrl": "https://lh3.googleusercontent.com/a-/AOh14GgBRB1w8bMEGhEpsp7aa7I9MQGz2D37o6hJeKeW=s64",
      "userId": "00933700884551564729"
     },
     "user_tz": -540
    },
    "id": "xy4bwjrpxtg3",
    "outputId": "0fd6c44d-128c-43a6-de9a-85acae07df8d",
    "scrolled": true
   },
   "outputs": [
    {
     "name": "stdout",
     "output_type": "stream",
     "text": [
      "[1, 2, 3, 4, 5, 6, 7, 8, 9, 10]\n",
      "[1, 2, 3, 4, 5, 6, 7, 8, 9, 10]\n"
     ]
    }
   ],
   "source": [
    "print(numbers)\n",
    "eval('print(numbers)')"
   ]
  },
  {
   "cell_type": "markdown",
   "id": "45ca4e16",
   "metadata": {
    "id": "TU1RU4mIIW2v"
   },
   "source": [
    "- map 함수: 어떤 함수나 적용 내용을 요소들에 모두 적용시킬 때 쓰는 함수이다."
   ]
  },
  {
   "cell_type": "code",
   "execution_count": null,
   "id": "031b69d4",
   "metadata": {},
   "outputs": [],
   "source": [
    "for i, item in enumerate(numbers):\n",
    "    item = add_one(item)\n",
    "    numbers[i] = item"
   ]
  },
  {
   "cell_type": "code",
   "execution_count": 53,
   "id": "d6c23320",
   "metadata": {
    "colab": {
     "base_uri": "https://localhost:8080/",
     "height": 34
    },
    "executionInfo": {
     "elapsed": 1090,
     "status": "ok",
     "timestamp": 1601458140237,
     "user": {
      "displayName": "오승환",
      "photoUrl": "https://lh3.googleusercontent.com/a-/AOh14GgBRB1w8bMEGhEpsp7aa7I9MQGz2D37o6hJeKeW=s64",
      "userId": "00933700884551564729"
     },
     "user_tz": -540
    },
    "id": "sgydVn3Bynkb",
    "outputId": "1d5d4147-ca87-4716-d5d5-0887a7ec25b1"
   },
   "outputs": [
    {
     "name": "stdout",
     "output_type": "stream",
     "text": [
      "[2, 3, 4, 5, 6, 7, 8, 9, 10, 11]\n"
     ]
    }
   ],
   "source": [
    "add_one = lambda x: x+1\n",
    "results = map(add_one, numbers)\n",
    "\n",
    "print(list(results))"
   ]
  },
  {
   "cell_type": "markdown",
   "id": "9c413c98",
   "metadata": {
    "id": "CWH69nOiIajT"
   },
   "source": [
    "- filter 함수: map과 비슷하지만 이것은 주어진 값을 추출할 때 쓰는 함수이다."
   ]
  },
  {
   "cell_type": "code",
   "execution_count": 54,
   "id": "b91a9012",
   "metadata": {
    "colab": {
     "base_uri": "https://localhost:8080/",
     "height": 34
    },
    "executionInfo": {
     "elapsed": 1519,
     "status": "ok",
     "timestamp": 1601457685197,
     "user": {
      "displayName": "오승환",
      "photoUrl": "https://lh3.googleusercontent.com/a-/AOh14GgBRB1w8bMEGhEpsp7aa7I9MQGz2D37o6hJeKeW=s64",
      "userId": "00933700884551564729"
     },
     "user_tz": -540
    },
    "id": "J12nSZlqx4qM",
    "outputId": "305603aa-f09a-4159-ff72-d032b873afb5"
   },
   "outputs": [
    {
     "name": "stdout",
     "output_type": "stream",
     "text": [
      "[2, 4, 6, 8, 10]\n"
     ]
    }
   ],
   "source": [
    "even_num = lambda x: x%2==0\n",
    "results = filter(even_num, numbers)\n",
    "\n",
    "print(list(results))"
   ]
  },
  {
   "cell_type": "markdown",
   "id": "64aa14c9",
   "metadata": {
    "id": "rA_H8AECIcjS"
   },
   "source": [
    "- int 함수: 주어진 변수를 정수형 변수로 변경한다."
   ]
  },
  {
   "cell_type": "code",
   "execution_count": null,
   "id": "4f2e6dcf",
   "metadata": {
    "colab": {
     "base_uri": "https://localhost:8080/",
     "height": 34
    },
    "executionInfo": {
     "elapsed": 2148,
     "status": "ok",
     "timestamp": 1601457685841,
     "user": {
      "displayName": "오승환",
      "photoUrl": "https://lh3.googleusercontent.com/a-/AOh14GgBRB1w8bMEGhEpsp7aa7I9MQGz2D37o6hJeKeW=s64",
      "userId": "00933700884551564729"
     },
     "user_tz": -540
    },
    "id": "BY8R3Qekynoe",
    "outputId": "f25562dd-e35b-4292-b0ef-c3c33f6cac1c"
   },
   "outputs": [],
   "source": [
    "int(3.14)"
   ]
  },
  {
   "cell_type": "markdown",
   "id": "0f137b92",
   "metadata": {
    "id": "ZAjuNjDiIe0R"
   },
   "source": [
    "- str 함수: 주어진 값을 문자열로 반환한다."
   ]
  },
  {
   "cell_type": "code",
   "execution_count": null,
   "id": "74731e69",
   "metadata": {
    "colab": {
     "base_uri": "https://localhost:8080/",
     "height": 34
    },
    "executionInfo": {
     "elapsed": 2138,
     "status": "ok",
     "timestamp": 1601457685843,
     "user": {
      "displayName": "오승환",
      "photoUrl": "https://lh3.googleusercontent.com/a-/AOh14GgBRB1w8bMEGhEpsp7aa7I9MQGz2D37o6hJeKeW=s64",
      "userId": "00933700884551564729"
     },
     "user_tz": -540
    },
    "id": "EGD06sCazQ6p",
    "outputId": "37af9283-be62-42a5-b211-c3e254af1da9"
   },
   "outputs": [],
   "source": [
    "str(3.14)"
   ]
  },
  {
   "cell_type": "markdown",
   "id": "c44d8d80",
   "metadata": {
    "id": "SbZeHgUOIip2"
   },
   "source": [
    "- round 함수: 반올림하는 함수"
   ]
  },
  {
   "cell_type": "code",
   "execution_count": null,
   "id": "00e11068",
   "metadata": {
    "colab": {
     "base_uri": "https://localhost:8080/",
     "height": 34
    },
    "executionInfo": {
     "elapsed": 2124,
     "status": "ok",
     "timestamp": 1601457685844,
     "user": {
      "displayName": "오승환",
      "photoUrl": "https://lh3.googleusercontent.com/a-/AOh14GgBRB1w8bMEGhEpsp7aa7I9MQGz2D37o6hJeKeW=s64",
      "userId": "00933700884551564729"
     },
     "user_tz": -540
    },
    "id": "XdbuSnOUzSzE",
    "outputId": "3abdf372-6a61-401c-9399-c353c60c0d6f"
   },
   "outputs": [],
   "source": [
    "round(3.14)"
   ]
  },
  {
   "cell_type": "code",
   "execution_count": null,
   "id": "05a7cb12",
   "metadata": {
    "colab": {
     "base_uri": "https://localhost:8080/",
     "height": 34
    },
    "executionInfo": {
     "elapsed": 2112,
     "status": "ok",
     "timestamp": 1601457685845,
     "user": {
      "displayName": "오승환",
      "photoUrl": "https://lh3.googleusercontent.com/a-/AOh14GgBRB1w8bMEGhEpsp7aa7I9MQGz2D37o6hJeKeW=s64",
      "userId": "00933700884551564729"
     },
     "user_tz": -540
    },
    "id": "eeZG4upLImZC",
    "outputId": "26298429-9f12-4c86-cfc9-eeb79df4d649"
   },
   "outputs": [],
   "source": [
    "round(3.14, 1)"
   ]
  },
  {
   "cell_type": "markdown",
   "id": "b18f31c6",
   "metadata": {
    "id": "mmDOqusCIq9m"
   },
   "source": [
    "- reversed 함수"
   ]
  },
  {
   "cell_type": "code",
   "execution_count": null,
   "id": "ab1ce390",
   "metadata": {
    "colab": {
     "base_uri": "https://localhost:8080/",
     "height": 34
    },
    "executionInfo": {
     "elapsed": 2099,
     "status": "ok",
     "timestamp": 1601457685847,
     "user": {
      "displayName": "오승환",
      "photoUrl": "https://lh3.googleusercontent.com/a-/AOh14GgBRB1w8bMEGhEpsp7aa7I9MQGz2D37o6hJeKeW=s64",
      "userId": "00933700884551564729"
     },
     "user_tz": -540
    },
    "id": "0FSOicGIzYkG",
    "outputId": "1817857f-791c-49f3-b5d7-0c0cc4633dab"
   },
   "outputs": [],
   "source": [
    "numbers_reversed = reversed(numbers)\n",
    "print(list(numbers_reversed))"
   ]
  },
  {
   "cell_type": "markdown",
   "id": "55702c94",
   "metadata": {
    "id": "jGcgk5jOIteD"
   },
   "source": [
    "- sorted 함수: 정렬된 값을 새로운 리스트로 반환함. 이 때 내림차순 정렬을 원하면 인자로 reverse=True라고 입력하면 됨.\n",
    "- sort 함수: 새로운 변수를 받지 않아도 리스트 자체를 변경함."
   ]
  },
  {
   "cell_type": "code",
   "execution_count": null,
   "id": "8d7ce059",
   "metadata": {
    "colab": {
     "base_uri": "https://localhost:8080/",
     "height": 34
    },
    "executionInfo": {
     "elapsed": 2089,
     "status": "ok",
     "timestamp": 1601457685849,
     "user": {
      "displayName": "오승환",
      "photoUrl": "https://lh3.googleusercontent.com/a-/AOh14GgBRB1w8bMEGhEpsp7aa7I9MQGz2D37o6hJeKeW=s64",
      "userId": "00933700884551564729"
     },
     "user_tz": -540
    },
    "id": "CiY6Z49uzesG",
    "outputId": "a4321ccc-f300-4833-c77a-1ac926c6ce6f"
   },
   "outputs": [],
   "source": [
    "sorted([3, 2, 1])"
   ]
  },
  {
   "cell_type": "markdown",
   "id": "dbf8e24e",
   "metadata": {
    "id": "GTKybW86IvcQ"
   },
   "source": [
    "- zip 함수: 서로 다른 변수들을 묶을 때 쓰는 함수이다."
   ]
  },
  {
   "cell_type": "code",
   "execution_count": null,
   "id": "0e25d6ed",
   "metadata": {
    "colab": {
     "base_uri": "https://localhost:8080/",
     "height": 34
    },
    "executionInfo": {
     "elapsed": 2076,
     "status": "ok",
     "timestamp": 1601457685850,
     "user": {
      "displayName": "오승환",
      "photoUrl": "https://lh3.googleusercontent.com/a-/AOh14GgBRB1w8bMEGhEpsp7aa7I9MQGz2D37o6hJeKeW=s64",
      "userId": "00933700884551564729"
     },
     "user_tz": -540
    },
    "id": "uycYZ4Loz3wM",
    "outputId": "11047883-fc60-4a4c-9c35-fcdbf2caa7b0"
   },
   "outputs": [],
   "source": [
    "chars = ['a', 'b', 'c']\n",
    "nums = [1, 2, 3]\n",
    "pairs = zip(chars, nums)\n",
    "\n",
    "print(list(pairs))"
   ]
  },
  {
   "cell_type": "markdown",
   "id": "eb24dfc2",
   "metadata": {},
   "source": [
    "# 클래스 다루기"
   ]
  },
  {
   "cell_type": "markdown",
   "id": "9a954825",
   "metadata": {
    "id": "dKt-2GJ2JaL7"
   },
   "source": [
    "- add 함수 정의 (두 숫자를 더한다)"
   ]
  },
  {
   "cell_type": "code",
   "execution_count": 1,
   "id": "2e151016",
   "metadata": {
    "colab": {
     "base_uri": "https://localhost:8080/",
     "height": 34
    },
    "executionInfo": {
     "elapsed": 1344,
     "status": "ok",
     "timestamp": 1601459104453,
     "user": {
      "displayName": "오승환",
      "photoUrl": "https://lh3.googleusercontent.com/a-/AOh14GgBRB1w8bMEGhEpsp7aa7I9MQGz2D37o6hJeKeW=s64",
      "userId": "00933700884551564729"
     },
     "user_tz": -540
    },
    "id": "oorQEIu0LpZ0",
    "outputId": "72addd72-56ae-478a-b129-0d53697b6a68"
   },
   "outputs": [
    {
     "data": {
      "text/plain": [
       "3"
      ]
     },
     "execution_count": 1,
     "metadata": {},
     "output_type": "execute_result"
    }
   ],
   "source": [
    "def add(num1, num2):\n",
    "    return num1 + num2\n",
    "\n",
    "add(1, 2)"
   ]
  },
  {
   "cell_type": "markdown",
   "id": "d01aba1f",
   "metadata": {
    "id": "cG3x3T28JfHJ"
   },
   "source": [
    "- Calculator 클래스 정의"
   ]
  },
  {
   "cell_type": "code",
   "execution_count": 9,
   "id": "a81f8a5d",
   "metadata": {
    "colab": {
     "base_uri": "https://localhost:8080/",
     "height": 34
    },
    "executionInfo": {
     "elapsed": 1317,
     "status": "ok",
     "timestamp": 1601459104456,
     "user": {
      "displayName": "오승환",
      "photoUrl": "https://lh3.googleusercontent.com/a-/AOh14GgBRB1w8bMEGhEpsp7aa7I9MQGz2D37o6hJeKeW=s64",
      "userId": "00933700884551564729"
     },
     "user_tz": -540
    },
    "id": "o6BJ-xAlOQSP",
    "outputId": "3e0b77d7-88c6-454f-fa1c-7b9d368c15da"
   },
   "outputs": [],
   "source": [
    "class Calculator:\n",
    "    \n",
    "    def __init__(self):\n",
    "        self.num1 = 0\n",
    "        self.num2 = 0\n",
    "        self.result = 0\n",
    "\n",
    "    def add(self, a, b):\n",
    "        self.num1 = a\n",
    "        self.num2 = b\n",
    "        self.result = self.num1 + self.num2    \n",
    "        return self.result  "
   ]
  },
  {
   "cell_type": "code",
   "execution_count": 11,
   "id": "f845c8ec",
   "metadata": {},
   "outputs": [
    {
     "name": "stdout",
     "output_type": "stream",
     "text": [
      "0 0 0\n"
     ]
    }
   ],
   "source": [
    "cal2 = Calculator()\n",
    "print(cal2.num1, cal2.num2, cal2.result)      "
   ]
  },
  {
   "cell_type": "code",
   "execution_count": 12,
   "id": "953dec46",
   "metadata": {},
   "outputs": [
    {
     "name": "stdout",
     "output_type": "stream",
     "text": [
      "3 5 8\n"
     ]
    }
   ],
   "source": [
    "cal2.add(3, 5)\n",
    "print(cal2.num1, cal2.num2, cal2.result)      "
   ]
  },
  {
   "cell_type": "code",
   "execution_count": 3,
   "id": "7c8b9cb8",
   "metadata": {},
   "outputs": [
    {
     "name": "stdout",
     "output_type": "stream",
     "text": [
      "1 2 0\n"
     ]
    }
   ],
   "source": [
    "cal = Calculator(1, 2)\n",
    "print(cal.num1, cal.num2, cal.result)      "
   ]
  },
  {
   "cell_type": "code",
   "execution_count": 4,
   "id": "ec8f178e",
   "metadata": {
    "scrolled": true
   },
   "outputs": [
    {
     "data": {
      "text/plain": [
       "3"
      ]
     },
     "execution_count": 4,
     "metadata": {},
     "output_type": "execute_result"
    }
   ],
   "source": [
    "cal.add()"
   ]
  },
  {
   "cell_type": "code",
   "execution_count": 5,
   "id": "fbc87108",
   "metadata": {},
   "outputs": [
    {
     "name": "stdout",
     "output_type": "stream",
     "text": [
      "1 2 3\n"
     ]
    }
   ],
   "source": [
    "print(cal.num1, cal.num2, cal.result)      "
   ]
  },
  {
   "cell_type": "markdown",
   "id": "3e96f6ff",
   "metadata": {
    "id": "PC6eb_SFJj7O"
   },
   "source": [
    "- add 메소드 활용"
   ]
  },
  {
   "cell_type": "code",
   "execution_count": null,
   "id": "a47b98b8",
   "metadata": {
    "colab": {
     "base_uri": "https://localhost:8080/",
     "height": 34
    },
    "executionInfo": {
     "elapsed": 1292,
     "status": "ok",
     "timestamp": 1601459104458,
     "user": {
      "displayName": "오승환",
      "photoUrl": "https://lh3.googleusercontent.com/a-/AOh14GgBRB1w8bMEGhEpsp7aa7I9MQGz2D37o6hJeKeW=s64",
      "userId": "00933700884551564729"
     },
     "user_tz": -540
    },
    "id": "daCRRo75OQmg",
    "outputId": "fa8f1151-65a7-4cc2-f1a0-530b441dd645"
   },
   "outputs": [],
   "source": [
    "cal.add()"
   ]
  },
  {
   "cell_type": "markdown",
   "id": "97afe8f2",
   "metadata": {
    "id": "0Jq8ct7sJmZp"
   },
   "source": [
    "- result 속성 활용"
   ]
  },
  {
   "cell_type": "code",
   "execution_count": null,
   "id": "9b551307",
   "metadata": {
    "colab": {
     "base_uri": "https://localhost:8080/",
     "height": 34
    },
    "executionInfo": {
     "elapsed": 1266,
     "status": "ok",
     "timestamp": 1601459104459,
     "user": {
      "displayName": "오승환",
      "photoUrl": "https://lh3.googleusercontent.com/a-/AOh14GgBRB1w8bMEGhEpsp7aa7I9MQGz2D37o6hJeKeW=s64",
      "userId": "00933700884551564729"
     },
     "user_tz": -540
    },
    "id": "UGWTC61DRVz5",
    "outputId": "260f3ea4-534b-4fd0-cfbd-3938ab24d9a3"
   },
   "outputs": [],
   "source": [
    "cal.result"
   ]
  },
  {
   "cell_type": "markdown",
   "id": "848a3743",
   "metadata": {
    "id": "48WNGiMtJpy1"
   },
   "source": [
    "- 클래스 정의: 메소드(함수) 추가"
   ]
  },
  {
   "cell_type": "code",
   "execution_count": null,
   "id": "83f02c33",
   "metadata": {
    "colab": {
     "base_uri": "https://localhost:8080/",
     "height": 34
    },
    "executionInfo": {
     "elapsed": 1233,
     "status": "ok",
     "timestamp": 1601459104460,
     "user": {
      "displayName": "오승환",
      "photoUrl": "https://lh3.googleusercontent.com/a-/AOh14GgBRB1w8bMEGhEpsp7aa7I9MQGz2D37o6hJeKeW=s64",
      "userId": "00933700884551564729"
     },
     "user_tz": -540
    },
    "id": "GsDIdBNoRceh",
    "outputId": "582a312f-9c78-436c-eb41-b4bdf1485ce2"
   },
   "outputs": [],
   "source": [
    "class Calculator:\n",
    "    \n",
    "    def __init__(self, num1, num2):\n",
    "        self.num1 = num1\n",
    "        self.num2 = num2\n",
    "        self.result = 0\n",
    "\n",
    "    def add(self):\n",
    "        self.result = self.num1 + self.num2    \n",
    "        return self.result\n",
    "\n",
    "    def subtract(self):\n",
    "        self.result = self.num1 - self.num2    \n",
    "        return self.result\n",
    "\n",
    "    def multiply(self):\n",
    "        self.result = self.num1 * self.num2    \n",
    "        return self.result\n",
    "\n",
    "    def divide(self):\n",
    "        self.result = self.num1 / self.num2    \n",
    "        return self.result\n",
    "\n",
    "    def change(self, num1, num2):\n",
    "        self.num1 = num1\n",
    "        self.num2 = num2\n",
    "        print(\"num1: \", self.num1)\n",
    "        print(\"num2: \", self.num2)    "
   ]
  },
  {
   "cell_type": "code",
   "execution_count": null,
   "id": "bb735aa0",
   "metadata": {},
   "outputs": [],
   "source": [
    "cal2 = Calculator(1, 2)\n",
    "print(cal2.num1, cal2.num2)    "
   ]
  },
  {
   "cell_type": "markdown",
   "id": "d292e301",
   "metadata": {
    "id": "Z2tlEUfJJwVm"
   },
   "source": [
    "- 메소드 활용"
   ]
  },
  {
   "cell_type": "code",
   "execution_count": null,
   "id": "1c923f5c",
   "metadata": {
    "colab": {
     "base_uri": "https://localhost:8080/",
     "height": 87
    },
    "executionInfo": {
     "elapsed": 1206,
     "status": "ok",
     "timestamp": 1601459104462,
     "user": {
      "displayName": "오승환",
      "photoUrl": "https://lh3.googleusercontent.com/a-/AOh14GgBRB1w8bMEGhEpsp7aa7I9MQGz2D37o6hJeKeW=s64",
      "userId": "00933700884551564729"
     },
     "user_tz": -540
    },
    "id": "og9bu2OwRciH",
    "outputId": "b1524264-5c59-43d7-a164-27456adec40b"
   },
   "outputs": [],
   "source": [
    "print(cal2.add())\n",
    "print(cal2.subtract())\n",
    "print(cal2.multiply())\n",
    "print(cal2.divide())"
   ]
  },
  {
   "cell_type": "code",
   "execution_count": null,
   "id": "fe00269d",
   "metadata": {
    "colab": {
     "base_uri": "https://localhost:8080/",
     "height": 52
    },
    "executionInfo": {
     "elapsed": 1176,
     "status": "ok",
     "timestamp": 1601459104463,
     "user": {
      "displayName": "오승환",
      "photoUrl": "https://lh3.googleusercontent.com/a-/AOh14GgBRB1w8bMEGhEpsp7aa7I9MQGz2D37o6hJeKeW=s64",
      "userId": "00933700884551564729"
     },
     "user_tz": -540
    },
    "id": "r_MY_n-PRclG",
    "outputId": "4bab1be7-1c8c-4596-8748-a397fd5b7e95"
   },
   "outputs": [],
   "source": [
    "cal2.change(3, 2)"
   ]
  },
  {
   "cell_type": "code",
   "execution_count": null,
   "id": "e27891ea",
   "metadata": {
    "colab": {
     "base_uri": "https://localhost:8080/",
     "height": 34
    },
    "executionInfo": {
     "elapsed": 1143,
     "status": "ok",
     "timestamp": 1601459104464,
     "user": {
      "displayName": "오승환",
      "photoUrl": "https://lh3.googleusercontent.com/a-/AOh14GgBRB1w8bMEGhEpsp7aa7I9MQGz2D37o6hJeKeW=s64",
      "userId": "00933700884551564729"
     },
     "user_tz": -540
    },
    "id": "Qu2_RVw5Rcoa",
    "outputId": "75704019-9c8c-4f96-ea84-16893b319a0b",
    "scrolled": true
   },
   "outputs": [],
   "source": [
    "cal2.add()"
   ]
  },
  {
   "cell_type": "markdown",
   "id": "3d2eea3e",
   "metadata": {},
   "source": [
    "## 고급 기술 (오버라이딩)"
   ]
  },
  {
   "cell_type": "markdown",
   "id": "666a640f",
   "metadata": {},
   "source": [
    "오버라이딩(overriding)은 원래 있던 클래스를 상속받아 새로운 메소드를 덮어쓰는 기능이다."
   ]
  },
  {
   "cell_type": "code",
   "execution_count": 16,
   "id": "eefaaa61",
   "metadata": {},
   "outputs": [],
   "source": [
    "class Person:\n",
    "    def __init__(self):\n",
    "        self.name = 'Anonymous'\n",
    "        \n",
    "    def greeting(self):\n",
    "        print('안녕하세요.')\n",
    " \n",
    "class Student(Person):\n",
    "    def __init__(self):\n",
    "        self.name = 'Student'\n",
    "        \n",
    "    def greeting(self):\n",
    "        #super().greeting() # 상속받은 클래스의 함수를 호출한다.\n",
    "        print('저는 파이썬 코딩 도장 학생입니다.')"
   ]
  },
  {
   "cell_type": "code",
   "execution_count": 17,
   "id": "a4639c97",
   "metadata": {},
   "outputs": [
    {
     "name": "stdout",
     "output_type": "stream",
     "text": [
      "안녕하세요.\n"
     ]
    }
   ],
   "source": [
    "james = Person()\n",
    "james.greeting()"
   ]
  },
  {
   "cell_type": "code",
   "execution_count": 18,
   "id": "4b472402",
   "metadata": {},
   "outputs": [
    {
     "name": "stdout",
     "output_type": "stream",
     "text": [
      "저는 파이썬 코딩 도장 학생입니다.\n"
     ]
    }
   ],
   "source": [
    "james = Student()\n",
    "james.greeting()"
   ]
  },
  {
   "cell_type": "code",
   "execution_count": null,
   "id": "d12e2e8c",
   "metadata": {},
   "outputs": [],
   "source": [
    "from konlpy.tag import Kkma\n",
    "\n",
    "class newKkma(Kkma):\n",
    "    def greeting(self):\n",
    "        print('사람이 인사는 하고 살아야지~!')"
   ]
  }
 ],
 "metadata": {
  "kernelspec": {
   "display_name": "Python 3 (ipykernel)",
   "language": "python",
   "name": "python3"
  },
  "language_info": {
   "codemirror_mode": {
    "name": "ipython",
    "version": 3
   },
   "file_extension": ".py",
   "mimetype": "text/x-python",
   "name": "python",
   "nbconvert_exporter": "python",
   "pygments_lexer": "ipython3",
   "version": "3.11.5"
  }
 },
 "nbformat": 4,
 "nbformat_minor": 5
}
