{
 "cells": [
  {
   "cell_type": "markdown",
   "id": "fef1370e",
   "metadata": {},
   "source": [
    "# 2장 연습문제"
   ]
  },
  {
   "cell_type": "markdown",
   "id": "c3115c28",
   "metadata": {},
   "source": [
    "### 문제 1. 변수명에 따라서 사람의 이름, 나이, 몸무게를 출력하시오. (몸무게는 소수점 첫째 자리까지)\n",
    "\"당신의 이름은 OOO이고, 나이는 OO, 몸무게는 OO.O kg입니다.\""
   ]
  },
  {
   "cell_type": "code",
   "execution_count": null,
   "id": "3d51b5eb",
   "metadata": {},
   "outputs": [],
   "source": [
    "name = '김철수'\n",
    "age = 14\n",
    "weight = '67.8'"
   ]
  },
  {
   "cell_type": "code",
   "execution_count": null,
   "id": "db60aa22",
   "metadata": {},
   "outputs": [],
   "source": []
  },
  {
   "cell_type": "markdown",
   "id": "9cab5f52",
   "metadata": {},
   "source": [
    "## 문제 2. 우리나라 시도 지역의 이름을 키(key)로, 전화 지역번호를 값(value)으로 하는 딕셔너리를 만들고, 지역명에 맞는 값을 검색하시오."
   ]
  },
  {
   "cell_type": "markdown",
   "id": "6d919d50",
   "metadata": {},
   "source": [
    "|서울|인천|대전|부산|울산|대구|광주|제주|경기|강원|충남|충북|경북|경남|전남|전북|\n",
    "|--|--|--|--|--|--|--|--|--|--|--|--|--|--|--|--|\n",
    "|02|032|042|051|052|053|062|064|031|033|041|043|054|055|061|063|"
   ]
  },
  {
   "cell_type": "code",
   "execution_count": null,
   "id": "8f7cc7e6",
   "metadata": {},
   "outputs": [],
   "source": []
  },
  {
   "cell_type": "markdown",
   "id": "0c96f1b6",
   "metadata": {},
   "source": [
    "## 문제 3. 나이를 변수로 받아 10세 미만은 아동, 20세 미만은 청소년, 60세 미만은 성인, 그 이상은 노인으로 출력하는 명령어를 작성하시오. (if문 활용하기)"
   ]
  },
  {
   "cell_type": "code",
   "execution_count": null,
   "id": "57062354",
   "metadata": {},
   "outputs": [],
   "source": []
  },
  {
   "cell_type": "code",
   "execution_count": null,
   "id": "08ff034a",
   "metadata": {},
   "outputs": [],
   "source": []
  },
  {
   "cell_type": "markdown",
   "id": "d2e387d8",
   "metadata": {},
   "source": [
    "## 문제 4. 어떤 2개의 인자를 입력받아서 다음과 같은 연산($a^2-b^2$)을 수행한 결과를 출력하는 함수를 만드시오."
   ]
  },
  {
   "cell_type": "code",
   "execution_count": null,
   "id": "988ebc3e",
   "metadata": {},
   "outputs": [],
   "source": []
  },
  {
   "cell_type": "markdown",
   "id": "276707f8",
   "metadata": {},
   "source": [
    "## 문제 5. 다음의 리스트를 변수로 입력 받아서 최소값과 최대값을 출력하는 함수를 만드시오."
   ]
  },
  {
   "cell_type": "code",
   "execution_count": null,
   "id": "3180e8d9",
   "metadata": {},
   "outputs": [],
   "source": [
    "lst1 = [90, 70, 64, 32, -5, 100, 104, 102, 48, -46, 74]"
   ]
  },
  {
   "cell_type": "code",
   "execution_count": null,
   "id": "f085b9e0",
   "metadata": {},
   "outputs": [],
   "source": []
  },
  {
   "cell_type": "markdown",
   "id": "12e86091",
   "metadata": {},
   "source": [
    "## 문제 6. 다음 리스트에서 짝수만 골라 합하시오."
   ]
  },
  {
   "cell_type": "code",
   "execution_count": null,
   "id": "f0d8553c",
   "metadata": {},
   "outputs": [],
   "source": [
    "lst2 = list(range(1, 101))"
   ]
  },
  {
   "cell_type": "code",
   "execution_count": null,
   "id": "17d22987",
   "metadata": {},
   "outputs": [],
   "source": []
  },
  {
   "cell_type": "markdown",
   "id": "09b8b291",
   "metadata": {},
   "source": [
    "## 문제 7. Person이라는 클래스를 생성하여, 그 변수로 이름(name), 나이(age), 키(height)를 가지고 있고, 나이를 1살 추가하는 함수(add_one)를 갖도록 하시오."
   ]
  },
  {
   "cell_type": "code",
   "execution_count": null,
   "id": "48dfdd58",
   "metadata": {},
   "outputs": [],
   "source": []
  }
 ],
 "metadata": {
  "kernelspec": {
   "display_name": "Python 3 (ipykernel)",
   "language": "python",
   "name": "python3"
  },
  "language_info": {
   "codemirror_mode": {
    "name": "ipython",
    "version": 3
   },
   "file_extension": ".py",
   "mimetype": "text/x-python",
   "name": "python",
   "nbconvert_exporter": "python",
   "pygments_lexer": "ipython3",
   "version": "3.8.12"
  }
 },
 "nbformat": 4,
 "nbformat_minor": 5
}
