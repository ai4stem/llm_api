{
 "cells": [
  {
   "cell_type": "markdown",
   "id": "29bfe9bf",
   "metadata": {
    "id": "dFWPXOsqs8Zr"
   },
   "source": [
    "# 데이터 입력, 연산, 출력\n",
    "- 숫자 1과 2를 더한다"
   ]
  },
  {
   "cell_type": "code",
   "execution_count": 1,
   "id": "25f819ab",
   "metadata": {
    "colab": {
     "base_uri": "https://localhost:8080/",
     "height": 34
    },
    "executionInfo": {
     "elapsed": 2731,
     "status": "ok",
     "timestamp": 1601298201697,
     "user": {
      "displayName": "오승환",
      "photoUrl": "https://lh3.googleusercontent.com/a-/AOh14GgBRB1w8bMEGhEpsp7aa7I9MQGz2D37o6hJeKeW=s64",
      "userId": "00933700884551564729"
     },
     "user_tz": -540
    },
    "id": "sKUhQpeyuqoH",
    "outputId": "fbdc146e-06fe-4252-de5c-18a3b543f3a6"
   },
   "outputs": [],
   "source": [
    "a = 1+2"
   ]
  },
  {
   "cell_type": "code",
   "execution_count": 2,
   "id": "21057e35",
   "metadata": {},
   "outputs": [
    {
     "name": "stdout",
     "output_type": "stream",
     "text": [
      "3\n"
     ]
    }
   ],
   "source": [
    "print(a)"
   ]
  },
  {
   "cell_type": "code",
   "execution_count": 3,
   "id": "a0641b25",
   "metadata": {
    "scrolled": true
   },
   "outputs": [
    {
     "data": {
      "text/plain": [
       "True"
      ]
     },
     "execution_count": 3,
     "metadata": {},
     "output_type": "execute_result"
    }
   ],
   "source": [
    "a == 1+2"
   ]
  },
  {
   "cell_type": "code",
   "execution_count": 4,
   "id": "a7714a63",
   "metadata": {},
   "outputs": [],
   "source": [
    "b = (a==1+2)"
   ]
  },
  {
   "cell_type": "code",
   "execution_count": 5,
   "id": "4f4d99ad",
   "metadata": {},
   "outputs": [
    {
     "name": "stdout",
     "output_type": "stream",
     "text": [
      "True\n"
     ]
    }
   ],
   "source": [
    "print(b)"
   ]
  },
  {
   "cell_type": "markdown",
   "id": "1a0205e1",
   "metadata": {
    "id": "EPlmB3gYuoI9"
   },
   "source": [
    "- 숫자 5를 변수 var1에 할당(저장)한다"
   ]
  },
  {
   "cell_type": "code",
   "execution_count": 6,
   "id": "b11dfd78",
   "metadata": {
    "executionInfo": {
     "elapsed": 2719,
     "status": "ok",
     "timestamp": 1601298201701,
     "user": {
      "displayName": "오승환",
      "photoUrl": "https://lh3.googleusercontent.com/a-/AOh14GgBRB1w8bMEGhEpsp7aa7I9MQGz2D37o6hJeKeW=s64",
      "userId": "00933700884551564729"
     },
     "user_tz": -540
    },
    "id": "LAl6V3oNl3vc"
   },
   "outputs": [],
   "source": [
    "var1 = 5"
   ]
  },
  {
   "cell_type": "markdown",
   "id": "07dc5b5c",
   "metadata": {
    "id": "NaGPr3m7ut0K"
   },
   "source": [
    "- var1 변수이름을 입력하고 실행한다. "
   ]
  },
  {
   "cell_type": "code",
   "execution_count": 7,
   "id": "4dce7ce1",
   "metadata": {
    "colab": {
     "base_uri": "https://localhost:8080/",
     "height": 34
    },
    "executionInfo": {
     "elapsed": 2682,
     "status": "ok",
     "timestamp": 1601298201704,
     "user": {
      "displayName": "오승환",
      "photoUrl": "https://lh3.googleusercontent.com/a-/AOh14GgBRB1w8bMEGhEpsp7aa7I9MQGz2D37o6hJeKeW=s64",
      "userId": "00933700884551564729"
     },
     "user_tz": -540
    },
    "id": "Be_jAAVkwqyS",
    "outputId": "147993c9-caf9-4d82-e605-2e8e20f1bde7"
   },
   "outputs": [
    {
     "data": {
      "text/plain": [
       "4"
      ]
     },
     "execution_count": 7,
     "metadata": {},
     "output_type": "execute_result"
    }
   ],
   "source": [
    "lst = [1, 2, 4, 8]\n",
    "len(lst)"
   ]
  },
  {
   "cell_type": "code",
   "execution_count": 8,
   "id": "cf01af7e",
   "metadata": {},
   "outputs": [
    {
     "data": {
      "text/plain": [
       "array([[1, 2],\n",
       "       [4, 8]])"
      ]
     },
     "execution_count": 8,
     "metadata": {},
     "output_type": "execute_result"
    }
   ],
   "source": [
    "import numpy as np\n",
    "\n",
    "np.array(lst).reshape(2, 2)"
   ]
  },
  {
   "cell_type": "code",
   "execution_count": 9,
   "id": "5ab8fc35",
   "metadata": {},
   "outputs": [
    {
     "data": {
      "text/plain": [
       "array([[1, 2],\n",
       "       [3, 4]])"
      ]
     },
     "execution_count": 9,
     "metadata": {},
     "output_type": "execute_result"
    }
   ],
   "source": [
    "arr = np.array([1, 2, 3, 4])\n",
    "arr = arr.reshape(2, 2)\n",
    "arr"
   ]
  },
  {
   "cell_type": "markdown",
   "id": "42b39060",
   "metadata": {
    "id": "TbhgFTdvu3ta"
   },
   "source": [
    "- var1 변수에 새로운 값(숫자 10)을 입력한다. "
   ]
  },
  {
   "cell_type": "code",
   "execution_count": 10,
   "id": "df2794fd",
   "metadata": {
    "colab": {
     "base_uri": "https://localhost:8080/",
     "height": 34
    },
    "executionInfo": {
     "elapsed": 1859,
     "status": "ok",
     "timestamp": 1601298219500,
     "user": {
      "displayName": "오승환",
      "photoUrl": "https://lh3.googleusercontent.com/a-/AOh14GgBRB1w8bMEGhEpsp7aa7I9MQGz2D37o6hJeKeW=s64",
      "userId": "00933700884551564729"
     },
     "user_tz": -540
    },
    "id": "stvxBuQexA2u",
    "outputId": "b9953cc1-2463-407c-a412-275d58b59d5c"
   },
   "outputs": [
    {
     "name": "stdout",
     "output_type": "stream",
     "text": [
      "20\n"
     ]
    }
   ],
   "source": [
    "var1 = 5\n",
    "var1 = 20\n",
    "print(var1)"
   ]
  },
  {
   "cell_type": "markdown",
   "id": "49f40196",
   "metadata": {
    "id": "Fq_XOFnFvUf3"
   },
   "source": [
    "- 숫자 20을 var2 변수에 저장한다. \n",
    "- var2 변수이름을 입력하고 실행한다. \n"
   ]
  },
  {
   "cell_type": "code",
   "execution_count": 11,
   "id": "0b7fac04",
   "metadata": {},
   "outputs": [
    {
     "name": "stdout",
     "output_type": "stream",
     "text": [
      "290\n"
     ]
    }
   ],
   "source": [
    "var1 = 150\n",
    "var2 = 140\n",
    "var3 = var1 + var2\n",
    "print(var1+var2)"
   ]
  },
  {
   "cell_type": "code",
   "execution_count": 14,
   "id": "fc791c6e",
   "metadata": {},
   "outputs": [
    {
     "name": "stdout",
     "output_type": "stream",
     "text": [
      "최동우의 연봉은 5000.218만원 입니다.\n"
     ]
    }
   ],
   "source": [
    "name = '최동우'\n",
    "wage = '5000.218'\n",
    "\n",
    "print(f'{name}의 연봉은 {wage}만원 입니다.')"
   ]
  },
  {
   "cell_type": "code",
   "execution_count": 15,
   "id": "f6300bf6",
   "metadata": {},
   "outputs": [
    {
     "name": "stdout",
     "output_type": "stream",
     "text": [
      "최동우 의 연봉은 5000.218 만원 입니다.\n"
     ]
    }
   ],
   "source": [
    "print(name, \"의 연봉은\", wage, \"만원 입니다.\")"
   ]
  },
  {
   "cell_type": "code",
   "execution_count": 16,
   "id": "5129d612",
   "metadata": {},
   "outputs": [
    {
     "name": "stdout",
     "output_type": "stream",
     "text": [
      "최동우의 연봉은 5000.218만원 입니다.\n"
     ]
    }
   ],
   "source": [
    "print(f'{name}의 연봉은 {wage}만원 입니다.')"
   ]
  },
  {
   "cell_type": "markdown",
   "id": "7cef3a30",
   "metadata": {
    "id": "k2Sl9UFDvflr"
   },
   "source": [
    "- var1 변수와 var2 변수를 더하고, 그 결과를 var3 변수에 할당한다. \n",
    "- var3 변수이름을 입력하고 실행한다. "
   ]
  },
  {
   "cell_type": "code",
   "execution_count": 17,
   "id": "7dcb0649",
   "metadata": {
    "colab": {
     "base_uri": "https://localhost:8080/",
     "height": 34
    },
    "executionInfo": {
     "elapsed": 2592,
     "status": "ok",
     "timestamp": 1601298201708,
     "user": {
      "displayName": "오승환",
      "photoUrl": "https://lh3.googleusercontent.com/a-/AOh14GgBRB1w8bMEGhEpsp7aa7I9MQGz2D37o6hJeKeW=s64",
      "userId": "00933700884551564729"
     },
     "user_tz": -540
    },
    "id": "mT8sS9kzvNrp",
    "outputId": "55320949-3b1a-4be1-e923-205d59504d17"
   },
   "outputs": [
    {
     "data": {
      "text/plain": [
       "(150, 140)"
      ]
     },
     "execution_count": 17,
     "metadata": {},
     "output_type": "execute_result"
    }
   ],
   "source": [
    "var1, var2"
   ]
  },
  {
   "cell_type": "markdown",
   "id": "0d7ad3ff",
   "metadata": {
    "id": "rOE2k2dev0zT"
   },
   "source": [
    "- var1 변수를 print 함수로 출력한다. "
   ]
  },
  {
   "cell_type": "code",
   "execution_count": null,
   "id": "60ee3b21",
   "metadata": {
    "colab": {
     "base_uri": "https://localhost:8080/",
     "height": 34
    },
    "executionInfo": {
     "elapsed": 2576,
     "status": "ok",
     "timestamp": 1601298201710,
     "user": {
      "displayName": "오승환",
      "photoUrl": "https://lh3.googleusercontent.com/a-/AOh14GgBRB1w8bMEGhEpsp7aa7I9MQGz2D37o6hJeKeW=s64",
      "userId": "00933700884551564729"
     },
     "user_tz": -540
    },
    "id": "DnPZZhdEtz_w",
    "outputId": "b769dffc-f9ba-46a0-e5ee-6ea90d515dfd"
   },
   "outputs": [],
   "source": []
  },
  {
   "cell_type": "markdown",
   "id": "ad523cea",
   "metadata": {
    "id": "C26I9WMJv7kH"
   },
   "source": [
    "- var1 변수와 var2 변수를 더하는 식을 print 함수에 입력하여 덧셈의 결과를 화면에 출력한다. "
   ]
  },
  {
   "cell_type": "code",
   "execution_count": null,
   "id": "069d78b6",
   "metadata": {
    "colab": {
     "base_uri": "https://localhost:8080/",
     "height": 34
    },
    "executionInfo": {
     "elapsed": 2540,
     "status": "ok",
     "timestamp": 1601298201711,
     "user": {
      "displayName": "오승환",
      "photoUrl": "https://lh3.googleusercontent.com/a-/AOh14GgBRB1w8bMEGhEpsp7aa7I9MQGz2D37o6hJeKeW=s64",
      "userId": "00933700884551564729"
     },
     "user_tz": -540
    },
    "id": "ZcgnytDht6DV",
    "outputId": "519211ad-43b3-425e-d066-87dfddba5151"
   },
   "outputs": [],
   "source": []
  },
  {
   "cell_type": "markdown",
   "id": "e9440173",
   "metadata": {
    "id": "T-UQfrl_wHC9"
   },
   "source": [
    "- var1 변수와 var2 변수를 쉼표(,)로 구분하여 print 함수에 입력한다. "
   ]
  },
  {
   "cell_type": "code",
   "execution_count": null,
   "id": "dbd90a20",
   "metadata": {
    "colab": {
     "base_uri": "https://localhost:8080/",
     "height": 34
    },
    "executionInfo": {
     "elapsed": 2508,
     "status": "ok",
     "timestamp": 1601298201712,
     "user": {
      "displayName": "오승환",
      "photoUrl": "https://lh3.googleusercontent.com/a-/AOh14GgBRB1w8bMEGhEpsp7aa7I9MQGz2D37o6hJeKeW=s64",
      "userId": "00933700884551564729"
     },
     "user_tz": -540
    },
    "id": "Qm9Kmr4It2pW",
    "outputId": "77a93573-9c37-446a-afd6-6e6c892bdf5c",
    "scrolled": true
   },
   "outputs": [],
   "source": []
  },
  {
   "cell_type": "markdown",
   "id": "82ad5529",
   "metadata": {
    "id": "Cy4FZ-b8wa6E"
   },
   "source": [
    "- \"덧셈: \" 문자열 다음에 연산식(var1 + var2)의 결과값이 출력되도록 쉼표(,)로 구분하여 print 함수에 입력한다."
   ]
  },
  {
   "cell_type": "code",
   "execution_count": null,
   "id": "1878bf45",
   "metadata": {
    "colab": {
     "base_uri": "https://localhost:8080/",
     "height": 34
    },
    "executionInfo": {
     "elapsed": 2485,
     "status": "ok",
     "timestamp": 1601298201714,
     "user": {
      "displayName": "오승환",
      "photoUrl": "https://lh3.googleusercontent.com/a-/AOh14GgBRB1w8bMEGhEpsp7aa7I9MQGz2D37o6hJeKeW=s64",
      "userId": "00933700884551564729"
     },
     "user_tz": -540
    },
    "id": "xfVYYGTIv0dX",
    "outputId": "e542430e-f2ea-4ccb-c350-3cb65c79d8d3",
    "scrolled": true
   },
   "outputs": [],
   "source": []
  },
  {
   "cell_type": "markdown",
   "id": "1a88d231",
   "metadata": {
    "id": "66aPxuh5x7sM"
   },
   "source": [
    "- 정수 10을 var1 변수에 입력한다. \n",
    "- var1 변수의 데이터 타입(자료형)을 type 함수로 확인한다."
   ]
  },
  {
   "cell_type": "code",
   "execution_count": 18,
   "id": "a834fb20",
   "metadata": {
    "colab": {
     "base_uri": "https://localhost:8080/",
     "height": 34
    },
    "executionInfo": {
     "elapsed": 2323,
     "status": "ok",
     "timestamp": 1601298959525,
     "user": {
      "displayName": "오승환",
      "photoUrl": "https://lh3.googleusercontent.com/a-/AOh14GgBRB1w8bMEGhEpsp7aa7I9MQGz2D37o6hJeKeW=s64",
      "userId": "00933700884551564729"
     },
     "user_tz": -540
    },
    "id": "GHNPcNlNxG1I",
    "outputId": "11c4f3f6-6f24-4987-b30b-9b0574015fa1"
   },
   "outputs": [
    {
     "name": "stdout",
     "output_type": "stream",
     "text": [
      "<class 'float'>\n",
      "<class 'int'>\n",
      "<class 'float'>\n"
     ]
    }
   ],
   "source": [
    "p = 3.14\n",
    "print(type(p))\n",
    "p2 = 3\n",
    "print(type(p2))\n",
    "p3 = 3.\n",
    "print(type(p3))"
   ]
  },
  {
   "cell_type": "markdown",
   "id": "0782239a",
   "metadata": {
    "id": "Vs9cWReayMtc"
   },
   "source": [
    "- 실수 3.14를 var2 변수에 입력한다. \n",
    "- var2 변수의 데이터 타입(자료형)을 type 함수로 확인한다."
   ]
  },
  {
   "cell_type": "code",
   "execution_count": 19,
   "id": "2e234358",
   "metadata": {
    "colab": {
     "base_uri": "https://localhost:8080/",
     "height": 34
    },
    "executionInfo": {
     "elapsed": 2299,
     "status": "ok",
     "timestamp": 1601298959528,
     "user": {
      "displayName": "오승환",
      "photoUrl": "https://lh3.googleusercontent.com/a-/AOh14GgBRB1w8bMEGhEpsp7aa7I9MQGz2D37o6hJeKeW=s64",
      "userId": "00933700884551564729"
     },
     "user_tz": -540
    },
    "id": "t7TINzxB0LDg",
    "outputId": "e992c957-251d-4ede-d30a-0adc0c430133"
   },
   "outputs": [],
   "source": [
    "p3 = p + p2"
   ]
  },
  {
   "cell_type": "code",
   "execution_count": null,
   "id": "50493c6f",
   "metadata": {},
   "outputs": [],
   "source": []
  },
  {
   "cell_type": "markdown",
   "id": "e35ac59f",
   "metadata": {
    "id": "gE7xkiqlyYjJ"
   },
   "source": [
    "- 정수 1과 2를 더하고, 그 값을 var3 변수에 입력한다.\n",
    "- 정수 3과 실수 0.14를 더하고, 그 값을 var4 변수에 입력한다. \n",
    "- var3 변수의 데이터 타입(자료형)을 type 함수로 확인한다.\n",
    "- var4 변수의 데이터 타입(자료형)을 type 함수로 확인한다."
   ]
  },
  {
   "cell_type": "code",
   "execution_count": null,
   "id": "b8f6779d",
   "metadata": {
    "colab": {
     "base_uri": "https://localhost:8080/",
     "height": 52
    },
    "executionInfo": {
     "elapsed": 2284,
     "status": "ok",
     "timestamp": 1601298959530,
     "user": {
      "displayName": "오승환",
      "photoUrl": "https://lh3.googleusercontent.com/a-/AOh14GgBRB1w8bMEGhEpsp7aa7I9MQGz2D37o6hJeKeW=s64",
      "userId": "00933700884551564729"
     },
     "user_tz": -540
    },
    "id": "V7FOE07wmmXe",
    "outputId": "0f1f20c6-89fa-43b8-a2e6-467b83b977f0",
    "scrolled": true
   },
   "outputs": [],
   "source": []
  },
  {
   "cell_type": "markdown",
   "id": "9d46175f",
   "metadata": {},
   "source": [
    "# 문자열 다루기"
   ]
  },
  {
   "cell_type": "markdown",
   "id": "22c069e6",
   "metadata": {
    "id": "TRJGZ4RCzRco"
   },
   "source": [
    "- \"Easy\" 문자열을 str1 변수에 입력한다.\n",
    "- str1 변수이름을 입력한다."
   ]
  },
  {
   "cell_type": "code",
   "execution_count": 20,
   "id": "072c379a",
   "metadata": {
    "colab": {
     "base_uri": "https://localhost:8080/",
     "height": 34
    },
    "executionInfo": {
     "elapsed": 2793,
     "status": "ok",
     "timestamp": 1601299678757,
     "user": {
      "displayName": "오승환",
      "photoUrl": "https://lh3.googleusercontent.com/a-/AOh14GgBRB1w8bMEGhEpsp7aa7I9MQGz2D37o6hJeKeW=s64",
      "userId": "00933700884551564729"
     },
     "user_tz": -540
    },
    "id": "hofHF1Y0xPTq",
    "outputId": "c03d4254-4583-4903-f7a0-4fb55d7769d3"
   },
   "outputs": [
    {
     "data": {
      "text/plain": [
       "'Easy'"
      ]
     },
     "execution_count": 20,
     "metadata": {},
     "output_type": "execute_result"
    }
   ],
   "source": [
    "str1 = 'Easy'\n",
    "str1"
   ]
  },
  {
   "cell_type": "code",
   "execution_count": 21,
   "id": "50fe1b90",
   "metadata": {},
   "outputs": [
    {
     "data": {
      "text/plain": [
       "'Ea'"
      ]
     },
     "execution_count": 21,
     "metadata": {},
     "output_type": "execute_result"
    }
   ],
   "source": [
    "str1[0:2]"
   ]
  },
  {
   "cell_type": "markdown",
   "id": "85f0c714",
   "metadata": {
    "id": "yhzKthEU2jUT"
   },
   "source": [
    "- str1 변수의 자료형을 확인한다. type 함수의 리턴값을 print 함수로 출력한다. "
   ]
  },
  {
   "cell_type": "code",
   "execution_count": 22,
   "id": "a24d3e99",
   "metadata": {
    "colab": {
     "base_uri": "https://localhost:8080/",
     "height": 34
    },
    "executionInfo": {
     "elapsed": 2753,
     "status": "ok",
     "timestamp": 1601299678763,
     "user": {
      "displayName": "오승환",
      "photoUrl": "https://lh3.googleusercontent.com/a-/AOh14GgBRB1w8bMEGhEpsp7aa7I9MQGz2D37o6hJeKeW=s64",
      "userId": "00933700884551564729"
     },
     "user_tz": -540
    },
    "id": "s1IzJo-_2NNM",
    "outputId": "3cf232d2-bec8-4b4c-c31b-49c134d9ba82"
   },
   "outputs": [
    {
     "name": "stdout",
     "output_type": "stream",
     "text": [
      "<class 'str'>\n"
     ]
    }
   ],
   "source": [
    "print(type(str1))"
   ]
  },
  {
   "cell_type": "markdown",
   "id": "309d6437",
   "metadata": {
    "id": "YetomM2i2SwQ"
   },
   "source": [
    "- \"파이썬 딥러닝\" 문자열을 str2 변수에 입력한다.\n",
    "- str2 변수의 자료형을 확인한다. type 함수의 리턴값을 print 함수로 출력한다. "
   ]
  },
  {
   "cell_type": "code",
   "execution_count": null,
   "id": "b258e5ed",
   "metadata": {
    "colab": {
     "base_uri": "https://localhost:8080/",
     "height": 34
    },
    "executionInfo": {
     "elapsed": 2745,
     "status": "ok",
     "timestamp": 1601299678765,
     "user": {
      "displayName": "오승환",
      "photoUrl": "https://lh3.googleusercontent.com/a-/AOh14GgBRB1w8bMEGhEpsp7aa7I9MQGz2D37o6hJeKeW=s64",
      "userId": "00933700884551564729"
     },
     "user_tz": -540
    },
    "id": "mBDIk0t847-R",
    "outputId": "4702c144-3df4-45ed-aeac-cc0c9b387e7b"
   },
   "outputs": [],
   "source": []
  },
  {
   "cell_type": "markdown",
   "id": "834f66d5",
   "metadata": {
    "id": "jlKQLfTZ5_Qb"
   },
   "source": [
    "- \"ver1.0\" 문자열을 str3 변수에 입력한다.\n",
    "- str3 변수의 자료형을 확인한다. type 함수의 리턴값을 print 함수로 출력한다. "
   ]
  },
  {
   "cell_type": "code",
   "execution_count": null,
   "id": "713a72ea",
   "metadata": {
    "colab": {
     "base_uri": "https://localhost:8080/",
     "height": 34
    },
    "executionInfo": {
     "elapsed": 1050,
     "status": "ok",
     "timestamp": 1601300005995,
     "user": {
      "displayName": "오승환",
      "photoUrl": "https://lh3.googleusercontent.com/a-/AOh14GgBRB1w8bMEGhEpsp7aa7I9MQGz2D37o6hJeKeW=s64",
      "userId": "00933700884551564729"
     },
     "user_tz": -540
    },
    "id": "7xfDhapT2HtH",
    "outputId": "5f14f5c4-f06f-4157-8fa5-36f9dae858cf"
   },
   "outputs": [],
   "source": []
  },
  {
   "cell_type": "markdown",
   "id": "5e206681",
   "metadata": {
    "id": "6w_6KoHbzwhN"
   },
   "source": [
    "- str1 변수가 저장하고 있는 데이터의 크기(길이)를 len 함수로 확인한다."
   ]
  },
  {
   "cell_type": "code",
   "execution_count": 23,
   "id": "e60f7703",
   "metadata": {
    "colab": {
     "base_uri": "https://localhost:8080/",
     "height": 34
    },
    "executionInfo": {
     "elapsed": 1217,
     "status": "ok",
     "timestamp": 1601300007527,
     "user": {
      "displayName": "오승환",
      "photoUrl": "https://lh3.googleusercontent.com/a-/AOh14GgBRB1w8bMEGhEpsp7aa7I9MQGz2D37o6hJeKeW=s64",
      "userId": "00933700884551564729"
     },
     "user_tz": -540
    },
    "id": "lxLcP8m0n-cC",
    "outputId": "3f5c0990-1f1f-4e92-a058-a18654bdc4d6"
   },
   "outputs": [
    {
     "data": {
      "text/plain": [
       "4"
      ]
     },
     "execution_count": 23,
     "metadata": {},
     "output_type": "execute_result"
    }
   ],
   "source": [
    "len(str1)"
   ]
  },
  {
   "cell_type": "markdown",
   "id": "5f6f97bf",
   "metadata": {
    "id": "fb_f23u9z7r-"
   },
   "source": [
    "- str1 변수의 값인 \"Easy\" 문자열의 첫번째 문자를 인덱싱 추출한다."
   ]
  },
  {
   "cell_type": "code",
   "execution_count": 24,
   "id": "acd4a0d2",
   "metadata": {
    "colab": {
     "base_uri": "https://localhost:8080/",
     "height": 34
    },
    "executionInfo": {
     "elapsed": 1207,
     "status": "ok",
     "timestamp": 1601300008307,
     "user": {
      "displayName": "오승환",
      "photoUrl": "https://lh3.googleusercontent.com/a-/AOh14GgBRB1w8bMEGhEpsp7aa7I9MQGz2D37o6hJeKeW=s64",
      "userId": "00933700884551564729"
     },
     "user_tz": -540
    },
    "id": "chbBoqt8ofIa",
    "outputId": "60583689-4c26-4ae5-e0ad-8d0e018cfbe9"
   },
   "outputs": [
    {
     "data": {
      "text/plain": [
       "'E'"
      ]
     },
     "execution_count": 24,
     "metadata": {},
     "output_type": "execute_result"
    }
   ],
   "source": [
    "str1[0]"
   ]
  },
  {
   "cell_type": "markdown",
   "id": "b0e71c44",
   "metadata": {
    "id": "XQBVYVcD0Q9N"
   },
   "source": [
    "- str1 변수의 값인 \"Easy\" 문자열의 4번째 문자를 인덱싱 추출한다."
   ]
  },
  {
   "cell_type": "code",
   "execution_count": 25,
   "id": "9161cabd",
   "metadata": {
    "colab": {
     "base_uri": "https://localhost:8080/",
     "height": 34
    },
    "executionInfo": {
     "elapsed": 1166,
     "status": "ok",
     "timestamp": 1601300008919,
     "user": {
      "displayName": "오승환",
      "photoUrl": "https://lh3.googleusercontent.com/a-/AOh14GgBRB1w8bMEGhEpsp7aa7I9MQGz2D37o6hJeKeW=s64",
      "userId": "00933700884551564729"
     },
     "user_tz": -540
    },
    "id": "SOerUnjIoh9P",
    "outputId": "9215e002-1807-473e-e327-066733afcd3a"
   },
   "outputs": [
    {
     "data": {
      "text/plain": [
       "'y'"
      ]
     },
     "execution_count": 25,
     "metadata": {},
     "output_type": "execute_result"
    }
   ],
   "source": [
    "str1[-1]"
   ]
  },
  {
   "cell_type": "markdown",
   "id": "8861c62c",
   "metadata": {
    "id": "X9oYOBm70Vw_"
   },
   "source": [
    "- str1 변수의 값인 \"Easy\" 문자열의 마지막 문자를 인덱싱 추출한다."
   ]
  },
  {
   "cell_type": "code",
   "execution_count": null,
   "id": "615f0df9",
   "metadata": {
    "colab": {
     "base_uri": "https://localhost:8080/",
     "height": 34
    },
    "executionInfo": {
     "elapsed": 1749,
     "status": "ok",
     "timestamp": 1601300010207,
     "user": {
      "displayName": "오승환",
      "photoUrl": "https://lh3.googleusercontent.com/a-/AOh14GgBRB1w8bMEGhEpsp7aa7I9MQGz2D37o6hJeKeW=s64",
      "userId": "00933700884551564729"
     },
     "user_tz": -540
    },
    "id": "pStXh7Yloj7w",
    "outputId": "ad9255fa-977a-48d2-fb6d-9f43364340b3"
   },
   "outputs": [],
   "source": []
  },
  {
   "cell_type": "markdown",
   "id": "231592d8",
   "metadata": {
    "id": "1nqVqioO0Yeu"
   },
   "source": [
    "- str1 변수의 값인 \"Easy\" 문자열의 뒤에서 3번째 문자를 인덱싱 추출한다."
   ]
  },
  {
   "cell_type": "code",
   "execution_count": null,
   "id": "f635288d",
   "metadata": {},
   "outputs": [],
   "source": []
  },
  {
   "cell_type": "markdown",
   "id": "6551511a",
   "metadata": {
    "id": "4P3AHjq90hL5"
   },
   "source": [
    "- str1 변수의 값인 \"Easy\" 문자열의 1번째 부터 3번째 문자까지 슬라이싱 방법으로 추출한다."
   ]
  },
  {
   "cell_type": "code",
   "execution_count": null,
   "id": "0a85f979",
   "metadata": {
    "colab": {
     "base_uri": "https://localhost:8080/",
     "height": 34
    },
    "executionInfo": {
     "elapsed": 2100,
     "status": "ok",
     "timestamp": 1601300011867,
     "user": {
      "displayName": "오승환",
      "photoUrl": "https://lh3.googleusercontent.com/a-/AOh14GgBRB1w8bMEGhEpsp7aa7I9MQGz2D37o6hJeKeW=s64",
      "userId": "00933700884551564729"
     },
     "user_tz": -540
    },
    "id": "0yH-nUZXooRq",
    "outputId": "aa849aa2-7cd2-4e0b-f55d-ec647138a550"
   },
   "outputs": [],
   "source": []
  },
  {
   "cell_type": "markdown",
   "id": "0f4ed568",
   "metadata": {
    "id": "TgYUJIve0p9e"
   },
   "source": [
    "- str1 변수의 값인 \"Easy\" 문자열의 뒤에서 3번째 부터 1번째 문자까지 슬라이싱 방법으로 추출한다."
   ]
  },
  {
   "cell_type": "code",
   "execution_count": 26,
   "id": "346525b2",
   "metadata": {
    "colab": {
     "base_uri": "https://localhost:8080/",
     "height": 34
    },
    "executionInfo": {
     "elapsed": 1554,
     "status": "ok",
     "timestamp": 1601300011873,
     "user": {
      "displayName": "오승환",
      "photoUrl": "https://lh3.googleusercontent.com/a-/AOh14GgBRB1w8bMEGhEpsp7aa7I9MQGz2D37o6hJeKeW=s64",
      "userId": "00933700884551564729"
     },
     "user_tz": -540
    },
    "id": "JZGO6_SEoxBS",
    "outputId": "d48baa6a-0d83-4d24-dfe8-af2d921a63ae"
   },
   "outputs": [
    {
     "data": {
      "text/plain": [
       "('Easy', 'Easy')"
      ]
     },
     "execution_count": 26,
     "metadata": {},
     "output_type": "execute_result"
    }
   ],
   "source": [
    "str1[0:], str1[:]"
   ]
  },
  {
   "cell_type": "markdown",
   "id": "cb083296",
   "metadata": {
    "id": "xZPKH2L80wnd"
   },
   "source": [
    "- str1 변수의 값인 \"Easy\" 문자열의 뒤에서 3번째 문자부터 끝까지 슬라이싱 방법으로 추출한다."
   ]
  },
  {
   "cell_type": "code",
   "execution_count": null,
   "id": "63db06a9",
   "metadata": {
    "colab": {
     "base_uri": "https://localhost:8080/",
     "height": 34
    },
    "executionInfo": {
     "elapsed": 1660,
     "status": "ok",
     "timestamp": 1601300012603,
     "user": {
      "displayName": "오승환",
      "photoUrl": "https://lh3.googleusercontent.com/a-/AOh14GgBRB1w8bMEGhEpsp7aa7I9MQGz2D37o6hJeKeW=s64",
      "userId": "00933700884551564729"
     },
     "user_tz": -540
    },
    "id": "v257YwPvoy-J",
    "outputId": "6c5a8038-69e2-4ed2-eca1-858ba2d1b384"
   },
   "outputs": [],
   "source": []
  },
  {
   "cell_type": "markdown",
   "id": "d1821e20",
   "metadata": {
    "id": "qQ-ZHrRG0_AL"
   },
   "source": [
    "- %s 문자열 형식(formatting)을 이용하여 \"파이썬 딥러닝\" 문자열 앞에 \"Easy\" 문자열(str1 변수의 데이터)을 삽입한다. str4 변수에 저장한다. \n",
    "- str4 변수 이름을 입력하고 실행한다. "
   ]
  },
  {
   "cell_type": "code",
   "execution_count": 27,
   "id": "b3a1a6a8",
   "metadata": {},
   "outputs": [
    {
     "name": "stdout",
     "output_type": "stream",
     "text": [
      "3\n"
     ]
    }
   ],
   "source": [
    "a = 3.4111488181\n",
    "\n",
    "print('%d' % a)"
   ]
  },
  {
   "cell_type": "markdown",
   "id": "5db89922",
   "metadata": {},
   "source": [
    "\\' : 따옴표 문자<br>\n",
    "\\\" : 쌍따옴표 문자<br>\n",
    "\\ : backslash 문자<br>\n",
    "\\a : bell 문자<br>\n",
    "\\b : backslash 문자<br>\n",
    "\\f : Formfeed 문자<br>\n",
    "\\n : newline 문 \\r : carriage return 문자(\\n와 동일하지 않다.)<br>\n",
    "\\t : tab 문자<br>\n",
    "\\v : vertical tab 문자<br>"
   ]
  },
  {
   "cell_type": "markdown",
   "id": "fb26c2bd",
   "metadata": {},
   "source": [
    "<b>print</b> 함수를 이용한 출력의 방법<br>\n",
    "<b>1) \"%~\" 이용하기<br></b>\n",
    "\"%s ...\" % var: 문자열 출력하기<br>\n",
    "\"%d ...\" % var: 정수 출력하기<br>\n",
    "\"%f ...\" % var: 실수 출력하기<br>\n",
    "ex) %03d: 정수를 3칸에 맞추어 출력하는데 앞의 빈칸은 0으로 채움<br>\n",
    "ex) %6.2f: 실수를 전체 6칸 소수이하 2칸에 맞추어 출력<p>\n",
    "<b>2) \"{}\" 형식 이용하기<br></b>\n",
    "\"{n}\"안에 숫자를 지정하여 출력 대상의 위치를 지정할 수 있다. {0}, {1}, {2}, ...<br>\n",
    "함수의 인자처럼 키워드를 사용해서 나타낼 수 있고, 동일한 데이터를 여러번 출력할 수 있다."
   ]
  },
  {
   "cell_type": "code",
   "execution_count": 28,
   "id": "d8765b7e",
   "metadata": {},
   "outputs": [
    {
     "data": {
      "text/plain": [
       "3.141592653589793"
      ]
     },
     "execution_count": 28,
     "metadata": {},
     "output_type": "execute_result"
    }
   ],
   "source": [
    "import math\n",
    "math.pi"
   ]
  },
  {
   "cell_type": "code",
   "execution_count": 29,
   "id": "ac8ff8c0",
   "metadata": {},
   "outputs": [
    {
     "name": "stdout",
     "output_type": "stream",
     "text": [
      "원주율은\n",
      "003입니다.\n"
     ]
    }
   ],
   "source": [
    "print('원주율은\\n%03d입니다.' % math.pi)"
   ]
  },
  {
   "cell_type": "code",
   "execution_count": 30,
   "id": "3c551d7e",
   "metadata": {},
   "outputs": [
    {
     "name": "stdout",
     "output_type": "stream",
     "text": [
      "원주율은 3.14, 내 키는 180입니다\n"
     ]
    }
   ],
   "source": [
    "print('원주율은 %.2f, 내 키는 %d입니다' % (math.pi, 180))"
   ]
  },
  {
   "cell_type": "code",
   "execution_count": 31,
   "id": "415e7b65",
   "metadata": {},
   "outputs": [
    {
     "name": "stdout",
     "output_type": "stream",
     "text": [
      "원주율은 3.141592653589793, 180, 58.3, 55입니다.\n"
     ]
    }
   ],
   "source": [
    "print('원주율은 {0}, {1}, {2}, {3}입니다.'.format(math.pi, 180, 58.3, 55))"
   ]
  },
  {
   "cell_type": "code",
   "execution_count": 32,
   "id": "8bf530cc",
   "metadata": {},
   "outputs": [
    {
     "name": "stdout",
     "output_type": "stream",
     "text": [
      "3.1416\n"
     ]
    }
   ],
   "source": [
    "# 반올림하기\n",
    "print(round(math.pi, 4))"
   ]
  },
  {
   "cell_type": "code",
   "execution_count": 33,
   "id": "12355daf",
   "metadata": {},
   "outputs": [
    {
     "data": {
      "text/plain": [
       "-1"
      ]
     },
     "execution_count": 33,
     "metadata": {},
     "output_type": "execute_result"
    }
   ],
   "source": [
    "str1 = 'LeBron James'\n",
    "str1.find('Hames')"
   ]
  },
  {
   "cell_type": "code",
   "execution_count": 34,
   "id": "21ab6c44",
   "metadata": {},
   "outputs": [
    {
     "data": {
      "text/plain": [
       "'111'"
      ]
     },
     "execution_count": 34,
     "metadata": {},
     "output_type": "execute_result"
    }
   ],
   "source": [
    "dict1 = {'name':'111', 'height':180}\n",
    "dict1['name']"
   ]
  },
  {
   "cell_type": "code",
   "execution_count": 35,
   "id": "144eea80",
   "metadata": {},
   "outputs": [
    {
     "name": "stdout",
     "output_type": "stream",
     "text": [
      "False\n"
     ]
    }
   ],
   "source": [
    "list1 = ['Jay', 'Kay', 'Lay', 'May']\n",
    "\n",
    "b = False\n",
    "for item in list1:\n",
    "    if (item == 'Qay'):\n",
    "        b = True\n",
    "        print(b)\n",
    "        break\n",
    "\n",
    "if (b == False):\n",
    "    print(b)"
   ]
  },
  {
   "cell_type": "code",
   "execution_count": 36,
   "id": "61b725f1",
   "metadata": {},
   "outputs": [
    {
     "data": {
      "text/plain": [
       "False"
      ]
     },
     "execution_count": 36,
     "metadata": {},
     "output_type": "execute_result"
    }
   ],
   "source": [
    "'Qay' in list1"
   ]
  },
  {
   "cell_type": "code",
   "execution_count": 37,
   "id": "40e2873a",
   "metadata": {},
   "outputs": [
    {
     "name": "stdout",
     "output_type": "stream",
     "text": [
      "나의 이름은 한사람입니다\n",
      "나의 이름은 \"한사람\"입니다. 나이는 33세이고 성별은 남성입니다.\n",
      "나이는 33세이고 성별은 남성입니다. 나의 이름은 \"한사람\"입니다. \n",
      "나이는 033세이고 신장은  56.79입니다. 나의 이름은 \"한사람\"입니다. \n",
      "----------------------------------------\n"
     ]
    }
   ],
   "source": [
    "print('나의 이름은 %s입니다'%('한사람'))\n",
    "print('나의 이름은 \"%s\"입니다. 나이는 %d세이고 성별은 %s입니다.'%('한사람',33,'남성'))\n",
    "print('나이는 %d세이고 성별은 %s입니다. 나의 이름은 \"%s\"입니다. '%(33,'남성','한사람'))\n",
    "print('나이는 %03d세이고 신장은 %6.2f입니다. 나의 이름은 \"%s\"입니다. '%(33,56.789,'한사람'))\n",
    "print('-' * 40)"
   ]
  },
  {
   "cell_type": "code",
   "execution_count": 38,
   "id": "1643b33c",
   "metadata": {},
   "outputs": [
    {
     "name": "stdout",
     "output_type": "stream",
     "text": [
      "나의 이름은 한사람입니다\n",
      "나의 이름은 \"한사람\"입니다. 나이는 33세이고 성별은 남성입니다.\n",
      "나이는 33세이고 성별은 남성입니다. 나의 이름은 \"한사람\"입니다. \n",
      "나이는 33세이고 성별은 남성입니다. 나의 이름은 \"한사람\"입니다. \n",
      "만세삼창 :  만세!!! 만세!!! 만세!!! \n",
      "삼삼칠 박수 :  짝짝짝!!! 짝짝짝!!! 짝짝짝짝짝짝짝!!! \n",
      "----------------------------------------\n"
     ]
    }
   ],
   "source": [
    "# 파이썬(Python) 3 포맷팅 방식\n",
    "print('나의 이름은 {}입니다'.format('한사람'))\n",
    "print('나의 이름은 \"{0}\"입니다. 나이는 {1}세이고 성별은 {2}입니다.'.format('한사람',33,'남성'))\n",
    "print('나이는 {1}세이고 성별은 {2}입니다. 나의 이름은 \"{0}\"입니다. '.format('한사람',33,'남성'))\n",
    "print('나이는 {age}세이고 성별은 {gender}입니다. 나의 이름은 \"{name}\"입니다. '\n",
    "         .format(name='한사람',age=33,gender='남성'))\n",
    "print('만세삼창 :  {0}!!! {0}!!! {0}!!! '.format('만세'))\n",
    "print('삼삼칠 박수 :  {0}!!! {0}!!! {1}!!! '.format('짝'*3,'짝'*7))\n",
    "print('-' * 40)"
   ]
  },
  {
   "cell_type": "markdown",
   "id": "3e99ef5c",
   "metadata": {
    "colab": {
     "base_uri": "https://localhost:8080/",
     "height": 34
    },
    "executionInfo": {
     "elapsed": 1942,
     "status": "ok",
     "timestamp": 1601300013566,
     "user": {
      "displayName": "오승환",
      "photoUrl": "https://lh3.googleusercontent.com/a-/AOh14GgBRB1w8bMEGhEpsp7aa7I9MQGz2D37o6hJeKeW=s64",
      "userId": "00933700884551564729"
     },
     "user_tz": -540
    },
    "id": "tXImSvIlF9S6",
    "outputId": "9c81ca01-7f0c-4fa1-9d2a-00117b45b9c4"
   },
   "source": [
    "# 리스트 다루기"
   ]
  },
  {
   "cell_type": "markdown",
   "id": "5732da5d",
   "metadata": {
    "id": "-VNTS9Ah5mpL"
   },
   "source": [
    "- 숫자 1, 2, 3, 4, 5를 원소로 갖는 리스트를 만들고, list1 변수에 저장한다. \n",
    "- list1 변수의 데이터를 확인한다. (변수이름을 입력하고 실행한다)"
   ]
  },
  {
   "cell_type": "code",
   "execution_count": 39,
   "id": "af1cfd65",
   "metadata": {
    "colab": {
     "base_uri": "https://localhost:8080/",
     "height": 34
    },
    "executionInfo": {
     "elapsed": 1022,
     "status": "ok",
     "timestamp": 1601427408015,
     "user": {
      "displayName": "오승환",
      "photoUrl": "https://lh3.googleusercontent.com/a-/AOh14GgBRB1w8bMEGhEpsp7aa7I9MQGz2D37o6hJeKeW=s64",
      "userId": "00933700884551564729"
     },
     "user_tz": -540
    },
    "id": "-1wCMihZtsT7",
    "outputId": "1d0b8ce8-61a2-4d35-e7f5-c892c44656b2"
   },
   "outputs": [
    {
     "data": {
      "text/plain": [
       "list"
      ]
     },
     "execution_count": 39,
     "metadata": {},
     "output_type": "execute_result"
    }
   ],
   "source": [
    "list1 = [1, 2, 3, 4, 5]\n",
    "type(list1)"
   ]
  },
  {
   "cell_type": "code",
   "execution_count": 40,
   "id": "79022c14",
   "metadata": {},
   "outputs": [
    {
     "data": {
      "text/plain": [
       "[3]"
      ]
     },
     "execution_count": 40,
     "metadata": {},
     "output_type": "execute_result"
    }
   ],
   "source": [
    "list1[2:-2]"
   ]
  },
  {
   "cell_type": "markdown",
   "id": "07c81511",
   "metadata": {
    "id": "7TEF-r-H6El_"
   },
   "source": [
    "- list1 변수의 데이터가 갖는 자료형을 type 함수로 확인한다. "
   ]
  },
  {
   "cell_type": "code",
   "execution_count": 41,
   "id": "a8768788",
   "metadata": {
    "colab": {
     "base_uri": "https://localhost:8080/",
     "height": 34
    },
    "executionInfo": {
     "elapsed": 1477,
     "status": "ok",
     "timestamp": 1601427408556,
     "user": {
      "displayName": "오승환",
      "photoUrl": "https://lh3.googleusercontent.com/a-/AOh14GgBRB1w8bMEGhEpsp7aa7I9MQGz2D37o6hJeKeW=s64",
      "userId": "00933700884551564729"
     },
     "user_tz": -540
    },
    "id": "aG1lTLJ1txqO",
    "outputId": "1b1d3a0b-8eec-4549-e223-8ef0aa393e23"
   },
   "outputs": [
    {
     "data": {
      "text/plain": [
       "True"
      ]
     },
     "execution_count": 41,
     "metadata": {},
     "output_type": "execute_result"
    }
   ],
   "source": [
    "list2 = [10]\n",
    "var2 = 10\n",
    "list2[0] == var2"
   ]
  },
  {
   "cell_type": "markdown",
   "id": "db577f80",
   "metadata": {
    "id": "WIrurBtA6NCB"
   },
   "source": [
    "- 숫자 10을 원소로 갖는 리스트를 만들고, list2 변수에 저장한다. \n",
    "- list2 변수의 값을 print 함수로 출력한다. \n",
    "- list2 변수의 자료형을 type 함수로 확인하고, print 함수로 출력한다. "
   ]
  },
  {
   "cell_type": "code",
   "execution_count": 42,
   "id": "7d15e5ea",
   "metadata": {
    "colab": {
     "base_uri": "https://localhost:8080/",
     "height": 52
    },
    "executionInfo": {
     "elapsed": 1447,
     "status": "ok",
     "timestamp": 1601427408557,
     "user": {
      "displayName": "오승환",
      "photoUrl": "https://lh3.googleusercontent.com/a-/AOh14GgBRB1w8bMEGhEpsp7aa7I9MQGz2D37o6hJeKeW=s64",
      "userId": "00933700884551564729"
     },
     "user_tz": -540
    },
    "id": "-d6CM25C6dOv",
    "outputId": "66e54d10-b4c9-4f5e-89ab-843f57d764ce"
   },
   "outputs": [
    {
     "name": "stdout",
     "output_type": "stream",
     "text": [
      "[]\n"
     ]
    }
   ],
   "source": [
    "list2 = []\n",
    "print(list2)"
   ]
  },
  {
   "cell_type": "markdown",
   "id": "cc150244",
   "metadata": {
    "id": "XYSWeAIE6tAj"
   },
   "source": [
    "- 원소가 0개인 빈 리스트를 만들고, list3 변수에 저장한다. (list 함수 활용)\n",
    "- list3 변수의 값을 print 함수로 출력한다. "
   ]
  },
  {
   "cell_type": "code",
   "execution_count": null,
   "id": "2c2fd404",
   "metadata": {
    "colab": {
     "base_uri": "https://localhost:8080/",
     "height": 34
    },
    "executionInfo": {
     "elapsed": 825,
     "status": "ok",
     "timestamp": 1601427773308,
     "user": {
      "displayName": "오승환",
      "photoUrl": "https://lh3.googleusercontent.com/a-/AOh14GgBRB1w8bMEGhEpsp7aa7I9MQGz2D37o6hJeKeW=s64",
      "userId": "00933700884551564729"
     },
     "user_tz": -540
    },
    "id": "TV0xEWaho1A6",
    "outputId": "20525d12-84e6-41eb-d97c-6d6b24fd34b8"
   },
   "outputs": [],
   "source": []
  },
  {
   "cell_type": "markdown",
   "id": "5912a95a",
   "metadata": {
    "id": "jnXA1pgHgmRL"
   },
   "source": [
    "- 원소가 0개인 빈 리스트를 만들고, list4 변수에 저장한다. (빈 대괄호 활용)\n",
    "- list4 변수의 값을 확인한다."
   ]
  },
  {
   "cell_type": "code",
   "execution_count": null,
   "id": "63882a61",
   "metadata": {
    "colab": {
     "base_uri": "https://localhost:8080/",
     "height": 34
    },
    "executionInfo": {
     "elapsed": 1160,
     "status": "ok",
     "timestamp": 1601427546123,
     "user": {
      "displayName": "오승환",
      "photoUrl": "https://lh3.googleusercontent.com/a-/AOh14GgBRB1w8bMEGhEpsp7aa7I9MQGz2D37o6hJeKeW=s64",
      "userId": "00933700884551564729"
     },
     "user_tz": -540
    },
    "id": "c5UdOp0mgevZ",
    "outputId": "215e7ef6-653b-423c-bf15-77228fe74b80"
   },
   "outputs": [],
   "source": []
  },
  {
   "cell_type": "markdown",
   "id": "fdc22461",
   "metadata": {
    "id": "2XoyvN74_rd6"
   },
   "source": [
    "- 리스트 3개(list1, list2, list3)를 원소로 갖는 리스트를 생성하고 list_of_list라는 변수에 저장한다. \n",
    "- list_of_list 변수이름을 입력하여 데이터를 확인한다. "
   ]
  },
  {
   "cell_type": "code",
   "execution_count": null,
   "id": "bd99a97e",
   "metadata": {
    "colab": {
     "base_uri": "https://localhost:8080/",
     "height": 34
    },
    "executionInfo": {
     "elapsed": 1348,
     "status": "ok",
     "timestamp": 1601427408560,
     "user": {
      "displayName": "오승환",
      "photoUrl": "https://lh3.googleusercontent.com/a-/AOh14GgBRB1w8bMEGhEpsp7aa7I9MQGz2D37o6hJeKeW=s64",
      "userId": "00933700884551564729"
     },
     "user_tz": -540
    },
    "id": "PRU_0hPdpm6J",
    "outputId": "b5713b43-c67c-464f-b24e-679d1c277cfa"
   },
   "outputs": [],
   "source": []
  },
  {
   "cell_type": "markdown",
   "id": "3fd50861",
   "metadata": {
    "id": "oEDFLh64AGmR"
   },
   "source": [
    "- list_of_list 변수의 자료형을 확인한다. (type 함수)"
   ]
  },
  {
   "cell_type": "code",
   "execution_count": null,
   "id": "b903db34",
   "metadata": {
    "colab": {
     "base_uri": "https://localhost:8080/",
     "height": 34
    },
    "executionInfo": {
     "elapsed": 1309,
     "status": "ok",
     "timestamp": 1601427408561,
     "user": {
      "displayName": "오승환",
      "photoUrl": "https://lh3.googleusercontent.com/a-/AOh14GgBRB1w8bMEGhEpsp7aa7I9MQGz2D37o6hJeKeW=s64",
      "userId": "00933700884551564729"
     },
     "user_tz": -540
    },
    "id": "gkIAZ7fhuCO3",
    "outputId": "7eb699df-de32-4469-a9c5-391e71d82862"
   },
   "outputs": [],
   "source": []
  },
  {
   "cell_type": "markdown",
   "id": "e94e99ab",
   "metadata": {
    "id": "tCueAXeDAOVi"
   },
   "source": [
    "- list_of_list 변수의 1번째 원소를 인덱싱 추출한다. "
   ]
  },
  {
   "cell_type": "code",
   "execution_count": null,
   "id": "15ce5bac",
   "metadata": {
    "colab": {
     "base_uri": "https://localhost:8080/",
     "height": 34
    },
    "executionInfo": {
     "elapsed": 1266,
     "status": "ok",
     "timestamp": 1601427408562,
     "user": {
      "displayName": "오승환",
      "photoUrl": "https://lh3.googleusercontent.com/a-/AOh14GgBRB1w8bMEGhEpsp7aa7I9MQGz2D37o6hJeKeW=s64",
      "userId": "00933700884551564729"
     },
     "user_tz": -540
    },
    "id": "XT_Oi-x3pnpH",
    "outputId": "946a9d34-447e-4abf-849f-d792f4f2eb25"
   },
   "outputs": [],
   "source": []
  },
  {
   "cell_type": "markdown",
   "id": "a88becc4",
   "metadata": {
    "id": "E3EoBpJOAT9Q"
   },
   "source": [
    "- list_of_list 변수의 1번째 원소를 추출하고, 추출된 원소(list1)의 2번째 원소를 인덱싱 추출한다. "
   ]
  },
  {
   "cell_type": "code",
   "execution_count": null,
   "id": "82578f19",
   "metadata": {
    "colab": {
     "base_uri": "https://localhost:8080/",
     "height": 34
    },
    "executionInfo": {
     "elapsed": 1243,
     "status": "ok",
     "timestamp": 1601427408563,
     "user": {
      "displayName": "오승환",
      "photoUrl": "https://lh3.googleusercontent.com/a-/AOh14GgBRB1w8bMEGhEpsp7aa7I9MQGz2D37o6hJeKeW=s64",
      "userId": "00933700884551564729"
     },
     "user_tz": -540
    },
    "id": "KumQYTPypuab",
    "outputId": "019f8f20-3f3a-4fbe-e0fb-5d1856d05ff9"
   },
   "outputs": [],
   "source": []
  },
  {
   "cell_type": "markdown",
   "id": "49defba6",
   "metadata": {
    "id": "LhoXTU8GAelz"
   },
   "source": [
    "- list_of_list 변수의 마지막 원소를 인덱싱 추출한다."
   ]
  },
  {
   "cell_type": "code",
   "execution_count": null,
   "id": "a7d8a396",
   "metadata": {
    "colab": {
     "base_uri": "https://localhost:8080/",
     "height": 34
    },
    "executionInfo": {
     "elapsed": 1203,
     "status": "ok",
     "timestamp": 1601427408564,
     "user": {
      "displayName": "오승환",
      "photoUrl": "https://lh3.googleusercontent.com/a-/AOh14GgBRB1w8bMEGhEpsp7aa7I9MQGz2D37o6hJeKeW=s64",
      "userId": "00933700884551564729"
     },
     "user_tz": -540
    },
    "id": "xf0tTrCMpud0",
    "outputId": "8c81f92a-97d5-4cdd-f9e0-3e3d0d1dea46"
   },
   "outputs": [],
   "source": []
  },
  {
   "cell_type": "markdown",
   "id": "fe63c3b4",
   "metadata": {
    "id": "WAFG87UhAng_"
   },
   "source": [
    "- list_of_list 변수의 뒤에서 3번째 원소를 인덱싱 추출한다. "
   ]
  },
  {
   "cell_type": "code",
   "execution_count": null,
   "id": "51529b48",
   "metadata": {
    "colab": {
     "base_uri": "https://localhost:8080/",
     "height": 34
    },
    "executionInfo": {
     "elapsed": 1170,
     "status": "ok",
     "timestamp": 1601427408565,
     "user": {
      "displayName": "오승환",
      "photoUrl": "https://lh3.googleusercontent.com/a-/AOh14GgBRB1w8bMEGhEpsp7aa7I9MQGz2D37o6hJeKeW=s64",
      "userId": "00933700884551564729"
     },
     "user_tz": -540
    },
    "id": "QgfrzQ6ppxv2",
    "outputId": "d417e20c-74ea-4c33-c6fc-726d28d204d7"
   },
   "outputs": [],
   "source": []
  },
  {
   "cell_type": "markdown",
   "id": "ff8385af",
   "metadata": {
    "id": "y-d04rEEAsX5"
   },
   "source": [
    "list_of_list 변수의 0번째부터 1번째 원소를 범위를 지정하여 슬라이싱 추출한다. "
   ]
  },
  {
   "cell_type": "code",
   "execution_count": null,
   "id": "f997b7ef",
   "metadata": {
    "colab": {
     "base_uri": "https://localhost:8080/",
     "height": 34
    },
    "executionInfo": {
     "elapsed": 1133,
     "status": "ok",
     "timestamp": 1601427408567,
     "user": {
      "displayName": "오승환",
      "photoUrl": "https://lh3.googleusercontent.com/a-/AOh14GgBRB1w8bMEGhEpsp7aa7I9MQGz2D37o6hJeKeW=s64",
      "userId": "00933700884551564729"
     },
     "user_tz": -540
    },
    "id": "R5bcPNGrpyNt",
    "outputId": "33aca242-c247-4a42-9efb-45a11ab2a465"
   },
   "outputs": [],
   "source": []
  },
  {
   "cell_type": "markdown",
   "id": "c4f28dbc",
   "metadata": {
    "id": "7NQJvF-SAzJN"
   },
   "source": [
    "- list1 변수는 리스트를 원소로 갖는다. 숫자 100을 새로운 원소로 추가한다. (append 활용)\n",
    "- list1 변수를 출력한다."
   ]
  },
  {
   "cell_type": "code",
   "execution_count": 43,
   "id": "24ad1f3a",
   "metadata": {
    "colab": {
     "base_uri": "https://localhost:8080/",
     "height": 34
    },
    "executionInfo": {
     "elapsed": 1115,
     "status": "ok",
     "timestamp": 1601427408568,
     "user": {
      "displayName": "오승환",
      "photoUrl": "https://lh3.googleusercontent.com/a-/AOh14GgBRB1w8bMEGhEpsp7aa7I9MQGz2D37o6hJeKeW=s64",
      "userId": "00933700884551564729"
     },
     "user_tz": -540
    },
    "id": "5wP6IZIduT9_",
    "outputId": "72858e7d-a430-4282-cfc9-f6f7c947ae08"
   },
   "outputs": [],
   "source": [
    "list1 = ['James', 'Chloe', 'Hart']\n",
    "str1 = ''\n",
    "\n",
    "for item in list1:\n",
    "    #print(item)\n",
    "    str1 = str1 + ' ' + item\n",
    "    str1 = str1.strip()\n",
    "    #print(str1)"
   ]
  },
  {
   "cell_type": "code",
   "execution_count": 44,
   "id": "82e46ecc",
   "metadata": {
    "scrolled": true
   },
   "outputs": [
    {
     "name": "stdout",
     "output_type": "stream",
     "text": [
      "['James', 'Chloe', 'Hart']\n"
     ]
    }
   ],
   "source": [
    "print(list1)"
   ]
  },
  {
   "cell_type": "code",
   "execution_count": 45,
   "id": "436728d0",
   "metadata": {},
   "outputs": [
    {
     "name": "stdout",
     "output_type": "stream",
     "text": [
      "['Hart', 'Chloe', 'James']\n"
     ]
    }
   ],
   "source": [
    "print(list1[::-1])"
   ]
  },
  {
   "cell_type": "code",
   "execution_count": 46,
   "id": "d4c8523c",
   "metadata": {},
   "outputs": [
    {
     "data": {
      "text/plain": [
       "['James', 'Chloe', 'Hart']"
      ]
     },
     "execution_count": 46,
     "metadata": {},
     "output_type": "execute_result"
    }
   ],
   "source": [
    "list1"
   ]
  },
  {
   "cell_type": "markdown",
   "id": "1ce8ac27",
   "metadata": {
    "id": "x7LjvsfpBEuo"
   },
   "source": [
    "- list3 변수는 리스트를 원소로 갖는다. 리스트에 숫자 7, 8, 9를 순서대로 새로운 원소로 추가한다. (append 활용)\n",
    "- list3 변수를 출력한다. "
   ]
  },
  {
   "cell_type": "code",
   "execution_count": 47,
   "id": "53bf5142",
   "metadata": {},
   "outputs": [
    {
     "data": {
      "text/plain": [
       "'James Chloe Hart'"
      ]
     },
     "execution_count": 47,
     "metadata": {},
     "output_type": "execute_result"
    }
   ],
   "source": [
    "\" \".join(list1)"
   ]
  },
  {
   "cell_type": "markdown",
   "id": "590a4844",
   "metadata": {},
   "source": [
    "# 튜플"
   ]
  },
  {
   "cell_type": "markdown",
   "id": "1f76e2ad",
   "metadata": {
    "id": "e6wfoYsDCWxJ"
   },
   "source": [
    "- 숫자 1과 2를 원소로 갖는 투플(tuple)을 만들고, tuple1 이라는 변수에 저장한다.\n",
    "- tuple1 변수를 출력한다. "
   ]
  },
  {
   "cell_type": "code",
   "execution_count": 48,
   "id": "8fb7238c",
   "metadata": {
    "colab": {
     "base_uri": "https://localhost:8080/",
     "height": 34
    },
    "executionInfo": {
     "elapsed": 979,
     "status": "ok",
     "timestamp": 1601428993030,
     "user": {
      "displayName": "오승환",
      "photoUrl": "https://lh3.googleusercontent.com/a-/AOh14GgBRB1w8bMEGhEpsp7aa7I9MQGz2D37o6hJeKeW=s64",
      "userId": "00933700884551564729"
     },
     "user_tz": -540
    },
    "id": "yXr8nzePxUc_",
    "outputId": "62d679ad-6906-4861-92e0-73711fb50b90"
   },
   "outputs": [
    {
     "data": {
      "text/plain": [
       "(1, 2)"
      ]
     },
     "execution_count": 48,
     "metadata": {},
     "output_type": "execute_result"
    }
   ],
   "source": [
    "(1, 2)"
   ]
  },
  {
   "cell_type": "markdown",
   "id": "a40b516d",
   "metadata": {
    "id": "OyOOzWXqCiOb"
   },
   "source": [
    "- tuple1 변수의 자료형을 확인한다. (type 활용)"
   ]
  },
  {
   "cell_type": "code",
   "execution_count": 49,
   "id": "f049944d",
   "metadata": {
    "colab": {
     "base_uri": "https://localhost:8080/",
     "height": 34
    },
    "executionInfo": {
     "elapsed": 939,
     "status": "ok",
     "timestamp": 1601428993041,
     "user": {
      "displayName": "오승환",
      "photoUrl": "https://lh3.googleusercontent.com/a-/AOh14GgBRB1w8bMEGhEpsp7aa7I9MQGz2D37o6hJeKeW=s64",
      "userId": "00933700884551564729"
     },
     "user_tz": -540
    },
    "id": "fsVj5l85xUgR",
    "outputId": "2cd30b58-84db-4fa9-e826-3c92771020f4"
   },
   "outputs": [
    {
     "data": {
      "text/plain": [
       "('a', 22, [1, 2])"
      ]
     },
     "execution_count": 49,
     "metadata": {},
     "output_type": "execute_result"
    }
   ],
   "source": [
    "('a', 22, [1, 2])"
   ]
  },
  {
   "cell_type": "markdown",
   "id": "509b6ad3",
   "metadata": {
    "id": "CJxDIrIDCn98"
   },
   "source": [
    "- 문자열 \"a\", \"b\", 숫자 100을 원소로 갖는 투플(tuple)을 만들고, tuple2 이라는 변수에 저장한다.\n",
    "- tuple2 변수를 출력한다. "
   ]
  },
  {
   "cell_type": "code",
   "execution_count": null,
   "id": "8636ecd3",
   "metadata": {
    "colab": {
     "base_uri": "https://localhost:8080/",
     "height": 34
    },
    "executionInfo": {
     "elapsed": 927,
     "status": "ok",
     "timestamp": 1601428993047,
     "user": {
      "displayName": "오승환",
      "photoUrl": "https://lh3.googleusercontent.com/a-/AOh14GgBRB1w8bMEGhEpsp7aa7I9MQGz2D37o6hJeKeW=s64",
      "userId": "00933700884551564729"
     },
     "user_tz": -540
    },
    "id": "msvZkiSDxUj3",
    "outputId": "e102695b-2dce-4090-ade3-15c3a13ef0d3"
   },
   "outputs": [],
   "source": []
  },
  {
   "cell_type": "markdown",
   "id": "232baf72",
   "metadata": {
    "id": "0tr4Fdg3DBAk"
   },
   "source": [
    "- 원소가 0개인 빈 투플을 만들고, tuple3 변수에 저장한다.(tuple 함수)\n",
    "- 원소가 0개인 빈 투플을 만들고, tuple4 변수에 저장한다. (빈 괄호 사용)\n",
    "- tuple3 변수의 값을 출력한다. (print 함수)\n",
    "- tuple4 변수의 값을 출력한다. (print 함수)"
   ]
  },
  {
   "cell_type": "code",
   "execution_count": null,
   "id": "68a5764d",
   "metadata": {
    "colab": {
     "base_uri": "https://localhost:8080/",
     "height": 52
    },
    "executionInfo": {
     "elapsed": 913,
     "status": "ok",
     "timestamp": 1601428993050,
     "user": {
      "displayName": "오승환",
      "photoUrl": "https://lh3.googleusercontent.com/a-/AOh14GgBRB1w8bMEGhEpsp7aa7I9MQGz2D37o6hJeKeW=s64",
      "userId": "00933700884551564729"
     },
     "user_tz": -540
    },
    "id": "1vI6GkK9DCSj",
    "outputId": "f152decc-7df4-4582-8ae1-40af2bd97067"
   },
   "outputs": [],
   "source": []
  },
  {
   "cell_type": "markdown",
   "id": "ae276b86",
   "metadata": {
    "id": "AHiFqXncDcI3"
   },
   "source": [
    "- tuple2 변수에 저장된 투플의 1번째 원소를 인덱싱 추출한다. "
   ]
  },
  {
   "cell_type": "code",
   "execution_count": null,
   "id": "c2659b27",
   "metadata": {
    "colab": {
     "base_uri": "https://localhost:8080/",
     "height": 34
    },
    "executionInfo": {
     "elapsed": 900,
     "status": "ok",
     "timestamp": 1601428993054,
     "user": {
      "displayName": "오승환",
      "photoUrl": "https://lh3.googleusercontent.com/a-/AOh14GgBRB1w8bMEGhEpsp7aa7I9MQGz2D37o6hJeKeW=s64",
      "userId": "00933700884551564729"
     },
     "user_tz": -540
    },
    "id": "lnvHyCd_xNCW",
    "outputId": "430dd157-e1a0-4cd3-8101-da1d72f3848a"
   },
   "outputs": [],
   "source": []
  },
  {
   "cell_type": "markdown",
   "id": "1c637f15",
   "metadata": {
    "id": "U3wO5GmsDkjJ"
   },
   "source": [
    "- tuple2 변수에 저장된 투플의 2번째 원소부터 마지막 원소까지 범위를 지정하여 슬라이싱 추출한다. "
   ]
  },
  {
   "cell_type": "code",
   "execution_count": null,
   "id": "6416cc5a",
   "metadata": {
    "colab": {
     "base_uri": "https://localhost:8080/",
     "height": 34
    },
    "executionInfo": {
     "elapsed": 888,
     "status": "ok",
     "timestamp": 1601428993058,
     "user": {
      "displayName": "오승환",
      "photoUrl": "https://lh3.googleusercontent.com/a-/AOh14GgBRB1w8bMEGhEpsp7aa7I9MQGz2D37o6hJeKeW=s64",
      "userId": "00933700884551564729"
     },
     "user_tz": -540
    },
    "id": "8GpaXFitxKTF",
    "outputId": "285b4afc-6ccf-4b6b-d1aa-0cb63b1dc708",
    "scrolled": true
   },
   "outputs": [],
   "source": []
  },
  {
   "cell_type": "markdown",
   "id": "096f6c45",
   "metadata": {},
   "source": [
    "# 딕셔너리"
   ]
  },
  {
   "cell_type": "markdown",
   "id": "27acbb1d",
   "metadata": {
    "id": "CVjavc6MEORy"
   },
   "source": [
    "- 딕셔너리를 만들고 dict1 이라는 변수에 저장한다. 'name' 키는 'Jay' 값을 갖고, 'age' 키는 20을 값으로 갖는다. \n",
    "- dict1 변수를 출력한다. "
   ]
  },
  {
   "cell_type": "code",
   "execution_count": 38,
   "id": "4a71d2a1",
   "metadata": {
    "colab": {
     "base_uri": "https://localhost:8080/",
     "height": 34
    },
    "executionInfo": {
     "elapsed": 2598,
     "status": "ok",
     "timestamp": 1601429118954,
     "user": {
      "displayName": "오승환",
      "photoUrl": "https://lh3.googleusercontent.com/a-/AOh14GgBRB1w8bMEGhEpsp7aa7I9MQGz2D37o6hJeKeW=s64",
      "userId": "00933700884551564729"
     },
     "user_tz": -540
    },
    "id": "tU9D0xLfDzp_",
    "outputId": "f5f1714f-fbb7-4175-bf0b-85459814ef2d"
   },
   "outputs": [
    {
     "name": "stdout",
     "output_type": "stream",
     "text": [
      "{'age': 20, 'name': 'Jay'}\n"
     ]
    }
   ],
   "source": [
    "dict1 = {'age':20, 'name':'Jay'}\n",
    "print(dict1)"
   ]
  },
  {
   "cell_type": "markdown",
   "id": "a2af0b4a",
   "metadata": {
    "id": "gluPLI_jEfIJ"
   },
   "source": [
    "- dict1 변수의 자료형을 확인한다. "
   ]
  },
  {
   "cell_type": "code",
   "execution_count": null,
   "id": "d15b3472",
   "metadata": {
    "colab": {
     "base_uri": "https://localhost:8080/",
     "height": 34
    },
    "executionInfo": {
     "elapsed": 2562,
     "status": "ok",
     "timestamp": 1601429118959,
     "user": {
      "displayName": "오승환",
      "photoUrl": "https://lh3.googleusercontent.com/a-/AOh14GgBRB1w8bMEGhEpsp7aa7I9MQGz2D37o6hJeKeW=s64",
      "userId": "00933700884551564729"
     },
     "user_tz": -540
    },
    "id": "hu8doY07EEQf",
    "outputId": "0d0f9e95-2449-4f39-e8cb-e5c72a2e406f"
   },
   "outputs": [],
   "source": [
    "type(dict1)"
   ]
  },
  {
   "cell_type": "markdown",
   "id": "efdd6479",
   "metadata": {
    "id": "N3qTR9q5EkJT"
   },
   "source": [
    "- dict1 딕셔서리의 'name' 키와 매칭되는 값을 추출한다. "
   ]
  },
  {
   "cell_type": "code",
   "execution_count": 39,
   "id": "b06612f8",
   "metadata": {
    "colab": {
     "base_uri": "https://localhost:8080/",
     "height": 34
    },
    "executionInfo": {
     "elapsed": 2533,
     "status": "ok",
     "timestamp": 1601429118961,
     "user": {
      "displayName": "오승환",
      "photoUrl": "https://lh3.googleusercontent.com/a-/AOh14GgBRB1w8bMEGhEpsp7aa7I9MQGz2D37o6hJeKeW=s64",
      "userId": "00933700884551564729"
     },
     "user_tz": -540
    },
    "id": "TCwLD9kYEIuz",
    "outputId": "a5d4577d-f9e4-4bbb-e5db-a750e0974a98"
   },
   "outputs": [
    {
     "data": {
      "text/plain": [
       "20"
      ]
     },
     "execution_count": 39,
     "metadata": {},
     "output_type": "execute_result"
    }
   ],
   "source": [
    "dict1['age']"
   ]
  },
  {
   "cell_type": "markdown",
   "id": "6b899f05",
   "metadata": {
    "id": "mWProq5sEsH_"
   },
   "source": [
    "- dict1 딕셔서리의 'age' 키와 매칭되는 값을 추출한다. "
   ]
  },
  {
   "cell_type": "code",
   "execution_count": null,
   "id": "718134a8",
   "metadata": {
    "colab": {
     "base_uri": "https://localhost:8080/",
     "height": 34
    },
    "executionInfo": {
     "elapsed": 2503,
     "status": "ok",
     "timestamp": 1601429118962,
     "user": {
      "displayName": "오승환",
      "photoUrl": "https://lh3.googleusercontent.com/a-/AOh14GgBRB1w8bMEGhEpsp7aa7I9MQGz2D37o6hJeKeW=s64",
      "userId": "00933700884551564729"
     },
     "user_tz": -540
    },
    "id": "VGVrwJ4dELNe",
    "outputId": "64679328-65d2-4d6f-b0d3-75e2075f628e",
    "scrolled": true
   },
   "outputs": [],
   "source": [
    "dict1 = {'grade':[3.0, 4.0, 3.5, 4.2]}\n",
    "dict1['grade']"
   ]
  },
  {
   "cell_type": "code",
   "execution_count": null,
   "id": "69fcf45c",
   "metadata": {},
   "outputs": [],
   "source": [
    "dict1"
   ]
  },
  {
   "cell_type": "markdown",
   "id": "638381ce",
   "metadata": {
    "id": "qVRV87AwEvCK"
   },
   "source": [
    "- dict1 딕셔서리에 새로운 원소를 추가한다. 'grade' 키에 매칭되는 값으로 리스트([3.0, 4.0, 3.5, 4.2])를 추가한다.  \n",
    "- dict1 변수를 출력한다. "
   ]
  },
  {
   "cell_type": "code",
   "execution_count": null,
   "id": "1bc4d588",
   "metadata": {
    "colab": {
     "base_uri": "https://localhost:8080/",
     "height": 34
    },
    "executionInfo": {
     "elapsed": 2491,
     "status": "ok",
     "timestamp": 1601429118963,
     "user": {
      "displayName": "오승환",
      "photoUrl": "https://lh3.googleusercontent.com/a-/AOh14GgBRB1w8bMEGhEpsp7aa7I9MQGz2D37o6hJeKeW=s64",
      "userId": "00933700884551564729"
     },
     "user_tz": -540
    },
    "id": "fe3fEjOfENbv",
    "outputId": "cd36923c-5881-4c9c-ec63-125afd1a1687"
   },
   "outputs": [],
   "source": [
    "dict1.keys()"
   ]
  },
  {
   "cell_type": "markdown",
   "id": "9dfca721",
   "metadata": {
    "id": "5A85tF0oFIq7"
   },
   "source": [
    "- dict1 변수에 저장된 딕셔너리의 키(key)를 모두 추출한다. (keys 메소드 활용)"
   ]
  },
  {
   "cell_type": "code",
   "execution_count": null,
   "id": "8093cacb",
   "metadata": {
    "colab": {
     "base_uri": "https://localhost:8080/",
     "height": 34
    },
    "executionInfo": {
     "elapsed": 2476,
     "status": "ok",
     "timestamp": 1601429118964,
     "user": {
      "displayName": "오승환",
      "photoUrl": "https://lh3.googleusercontent.com/a-/AOh14GgBRB1w8bMEGhEpsp7aa7I9MQGz2D37o6hJeKeW=s64",
      "userId": "00933700884551564729"
     },
     "user_tz": -540
    },
    "id": "l5vFhNjSEoLq",
    "outputId": "0e9a2101-69f3-4d60-c197-40b90f0e4c9c"
   },
   "outputs": [],
   "source": [
    "dict1.values()"
   ]
  },
  {
   "cell_type": "markdown",
   "id": "9b0894af",
   "metadata": {
    "id": "LSRe3qHIFgyB"
   },
   "source": [
    "- dict1 변수에 저장된 딕셔너리의 값(value)을 모두 추출한다. (values 메소드 활용)"
   ]
  },
  {
   "cell_type": "code",
   "execution_count": null,
   "id": "004698ec",
   "metadata": {
    "colab": {
     "base_uri": "https://localhost:8080/",
     "height": 34
    },
    "executionInfo": {
     "elapsed": 2463,
     "status": "ok",
     "timestamp": 1601429118965,
     "user": {
      "displayName": "오승환",
      "photoUrl": "https://lh3.googleusercontent.com/a-/AOh14GgBRB1w8bMEGhEpsp7aa7I9MQGz2D37o6hJeKeW=s64",
      "userId": "00933700884551564729"
     },
     "user_tz": -540
    },
    "id": "dByivbuQEyut",
    "outputId": "c803ee55-3917-4c1f-884b-24615a8dd7a5"
   },
   "outputs": [],
   "source": []
  },
  {
   "cell_type": "markdown",
   "id": "62fbcf31",
   "metadata": {
    "id": "xNTqruufFtXY"
   },
   "source": [
    "- dict1 변수에 저장된 딕셔너리의 키(key)와 값(value) 쌍을 모두 추출한다. (items 메소드 활용)"
   ]
  },
  {
   "cell_type": "code",
   "execution_count": null,
   "id": "b71b1924",
   "metadata": {
    "colab": {
     "base_uri": "https://localhost:8080/",
     "height": 34
    },
    "executionInfo": {
     "elapsed": 2448,
     "status": "ok",
     "timestamp": 1601429118966,
     "user": {
      "displayName": "오승환",
      "photoUrl": "https://lh3.googleusercontent.com/a-/AOh14GgBRB1w8bMEGhEpsp7aa7I9MQGz2D37o6hJeKeW=s64",
      "userId": "00933700884551564729"
     },
     "user_tz": -540
    },
    "id": "X1VqKKphE3DD",
    "outputId": "a80d760c-6892-4bbc-9892-11e611e3691c"
   },
   "outputs": [],
   "source": [
    "for item in dict1.items():\n",
    "    print(item)"
   ]
  },
  {
   "cell_type": "markdown",
   "id": "52c3d33d",
   "metadata": {},
   "source": [
    "- 딕셔너리로 이런 것들도 가능합니다."
   ]
  },
  {
   "cell_type": "code",
   "execution_count": null,
   "id": "64bcf273",
   "metadata": {},
   "outputs": [],
   "source": [
    "k = [1, 2, 3, 4, 5]\n",
    "v = ['a', 'b', 'c', 'd', 'e']\n",
    "u = dict(zip(k, v))\n",
    "print(u)"
   ]
  },
  {
   "cell_type": "code",
   "execution_count": null,
   "id": "74416c7b",
   "metadata": {},
   "outputs": [],
   "source": [
    "u[6] = 'f'"
   ]
  },
  {
   "cell_type": "code",
   "execution_count": null,
   "id": "dbaa59ce",
   "metadata": {},
   "outputs": [],
   "source": [
    "u"
   ]
  },
  {
   "cell_type": "code",
   "execution_count": null,
   "id": "eb8634ca",
   "metadata": {},
   "outputs": [],
   "source": [
    "# 키와 밸류를 뒤집기\n",
    "u_rev = {i1:i2 for i2, i1 in u.items()}\n",
    "print(u_rev)"
   ]
  },
  {
   "cell_type": "code",
   "execution_count": null,
   "id": "b3570cb4",
   "metadata": {
    "scrolled": true
   },
   "outputs": [],
   "source": [
    "# 지우고 싶다면 del을 활용한다.\n",
    "del u[5]\n",
    "print(u)"
   ]
  },
  {
   "cell_type": "markdown",
   "id": "1cc3abf3",
   "metadata": {},
   "source": [
    "## 리스트, 튜플, 딕셔너리, 배열... 서로 어떤 차이점이 있을까?"
   ]
  },
  {
   "cell_type": "markdown",
   "id": "739c76c9",
   "metadata": {},
   "source": [
    "<b>리스트</b>: 길이나 크기가 정해져 있지 않고, 각 변수를 자유롭게 바꿀 수 있다.<br>\n",
    "<b>튜플</b>: 짝을 이루고 있는 타입이지만 다만 변경이 불가능하다.<br>\n",
    "<b>딕셔너리</b>: 튜플과 비슷하지만 변수를 다양하게 추가하거나 변경할 수 있고 검색이 쉽다.<br>\n",
    "<b>배열</b>: 정해진 크기를 갖고 있으며 행렬 연산이 가능하다.<br>"
   ]
  },
  {
   "cell_type": "markdown",
   "id": "2d09a763",
   "metadata": {},
   "source": [
    "# 숫자 연산 다루기"
   ]
  },
  {
   "cell_type": "markdown",
   "id": "9e4fe13e",
   "metadata": {
    "id": "rw16ZBeVGaYv"
   },
   "source": [
    "- 숫자 1과 2를 더한다."
   ]
  },
  {
   "cell_type": "code",
   "execution_count": null,
   "id": "34c0f831",
   "metadata": {
    "colab": {
     "base_uri": "https://localhost:8080/",
     "height": 34
    },
    "executionInfo": {
     "elapsed": 1057,
     "status": "ok",
     "timestamp": 1601435002001,
     "user": {
      "displayName": "오승환",
      "photoUrl": "https://lh3.googleusercontent.com/a-/AOh14GgBRB1w8bMEGhEpsp7aa7I9MQGz2D37o6hJeKeW=s64",
      "userId": "00933700884551564729"
     },
     "user_tz": -540
    },
    "id": "xBB2REKPBIOB",
    "outputId": "9f27b0a9-d5b7-4485-855a-325469afe01f"
   },
   "outputs": [],
   "source": []
  },
  {
   "cell_type": "markdown",
   "id": "c2de9ae3",
   "metadata": {
    "id": "hSbXM-GeGecc"
   },
   "source": [
    "- 문자열 \"Good\"과 한칸 공백(\" \")과 문자열 \"Morning\"을 이어 붙인다. new_str 변수에 저장한다. ( + 연산자 활용)\n",
    "- new_str 변수를 출련한다. "
   ]
  },
  {
   "cell_type": "code",
   "execution_count": null,
   "id": "9bc07798",
   "metadata": {
    "colab": {
     "base_uri": "https://localhost:8080/",
     "height": 34
    },
    "executionInfo": {
     "elapsed": 1404,
     "status": "ok",
     "timestamp": 1601435002395,
     "user": {
      "displayName": "오승환",
      "photoUrl": "https://lh3.googleusercontent.com/a-/AOh14GgBRB1w8bMEGhEpsp7aa7I9MQGz2D37o6hJeKeW=s64",
      "userId": "00933700884551564729"
     },
     "user_tz": -540
    },
    "id": "CHCTlT4llwZA",
    "outputId": "b5c7e6a8-781e-4ba5-e5a6-08996f1b594b"
   },
   "outputs": [],
   "source": []
  },
  {
   "cell_type": "markdown",
   "id": "80c5c46d",
   "metadata": {
    "id": "y5SrX5mZGw39"
   },
   "source": [
    "- 숫자 2에서 3을 뺀다. "
   ]
  },
  {
   "cell_type": "code",
   "execution_count": null,
   "id": "81ac959b",
   "metadata": {
    "colab": {
     "base_uri": "https://localhost:8080/",
     "height": 34
    },
    "executionInfo": {
     "elapsed": 1384,
     "status": "ok",
     "timestamp": 1601435002398,
     "user": {
      "displayName": "오승환",
      "photoUrl": "https://lh3.googleusercontent.com/a-/AOh14GgBRB1w8bMEGhEpsp7aa7I9MQGz2D37o6hJeKeW=s64",
      "userId": "00933700884551564729"
     },
     "user_tz": -540
    },
    "id": "bhD66hVFusUP",
    "outputId": "a55d7fbd-153b-43b3-8d61-a4182cefe18e"
   },
   "outputs": [],
   "source": []
  },
  {
   "cell_type": "markdown",
   "id": "443b81b9",
   "metadata": {
    "id": "piNIK5qFG0AU"
   },
   "source": [
    "- 숫자 3과 4를 곱한다."
   ]
  },
  {
   "cell_type": "code",
   "execution_count": null,
   "id": "62408d1e",
   "metadata": {
    "colab": {
     "base_uri": "https://localhost:8080/",
     "height": 34
    },
    "executionInfo": {
     "elapsed": 1359,
     "status": "ok",
     "timestamp": 1601435002403,
     "user": {
      "displayName": "오승환",
      "photoUrl": "https://lh3.googleusercontent.com/a-/AOh14GgBRB1w8bMEGhEpsp7aa7I9MQGz2D37o6hJeKeW=s64",
      "userId": "00933700884551564729"
     },
     "user_tz": -540
    },
    "id": "EiY29AU_vGAC",
    "outputId": "0bd32579-532f-4f6f-8197-6c1c03fe3e85"
   },
   "outputs": [],
   "source": []
  },
  {
   "cell_type": "markdown",
   "id": "efec3c32",
   "metadata": {
    "id": "21e8d5fVG240"
   },
   "source": [
    "- 문자열 \"a\"에 3을 곱한다. "
   ]
  },
  {
   "cell_type": "code",
   "execution_count": null,
   "id": "e14f5949",
   "metadata": {
    "colab": {
     "base_uri": "https://localhost:8080/",
     "height": 34
    },
    "executionInfo": {
     "elapsed": 1335,
     "status": "ok",
     "timestamp": 1601435002405,
     "user": {
      "displayName": "오승환",
      "photoUrl": "https://lh3.googleusercontent.com/a-/AOh14GgBRB1w8bMEGhEpsp7aa7I9MQGz2D37o6hJeKeW=s64",
      "userId": "00933700884551564729"
     },
     "user_tz": -540
    },
    "id": "ju7RmDZtBXFJ",
    "outputId": "f2e79467-83de-4c7b-f02e-bbf9b667ab8d"
   },
   "outputs": [],
   "source": []
  },
  {
   "cell_type": "markdown",
   "id": "39492655",
   "metadata": {
    "id": "EPrmQQDDG8Fa"
   },
   "source": [
    "- 숫자 5를 3으로 나눈다."
   ]
  },
  {
   "cell_type": "code",
   "execution_count": null,
   "id": "d7e410e8",
   "metadata": {
    "colab": {
     "base_uri": "https://localhost:8080/",
     "height": 34
    },
    "executionInfo": {
     "elapsed": 1317,
     "status": "ok",
     "timestamp": 1601435002408,
     "user": {
      "displayName": "오승환",
      "photoUrl": "https://lh3.googleusercontent.com/a-/AOh14GgBRB1w8bMEGhEpsp7aa7I9MQGz2D37o6hJeKeW=s64",
      "userId": "00933700884551564729"
     },
     "user_tz": -540
    },
    "id": "67rO7tENvIzh",
    "outputId": "abf2d367-b38d-4ab3-b92c-44c89bc7fd98"
   },
   "outputs": [],
   "source": []
  },
  {
   "cell_type": "markdown",
   "id": "8b21f9e6",
   "metadata": {
    "id": "_rZh1Gw9G-2W"
   },
   "source": [
    "- 숫자 5를 3으로 나눈 몫을 구한다."
   ]
  },
  {
   "cell_type": "code",
   "execution_count": null,
   "id": "3c90c391",
   "metadata": {
    "colab": {
     "base_uri": "https://localhost:8080/",
     "height": 34
    },
    "executionInfo": {
     "elapsed": 1290,
     "status": "ok",
     "timestamp": 1601435002410,
     "user": {
      "displayName": "오승환",
      "photoUrl": "https://lh3.googleusercontent.com/a-/AOh14GgBRB1w8bMEGhEpsp7aa7I9MQGz2D37o6hJeKeW=s64",
      "userId": "00933700884551564729"
     },
     "user_tz": -540
    },
    "id": "wEh5zknmvK9X",
    "outputId": "6c69c6f4-4d03-4868-b94c-e45429be2753"
   },
   "outputs": [],
   "source": []
  },
  {
   "cell_type": "markdown",
   "id": "b146fd37",
   "metadata": {
    "id": "6sW1YnMLHDNr"
   },
   "source": [
    "- 숫자 5를 3으로 나눈 나머지를 구한다."
   ]
  },
  {
   "cell_type": "code",
   "execution_count": null,
   "id": "2d5c8a77",
   "metadata": {
    "colab": {
     "base_uri": "https://localhost:8080/",
     "height": 34
    },
    "executionInfo": {
     "elapsed": 1272,
     "status": "ok",
     "timestamp": 1601435002413,
     "user": {
      "displayName": "오승환",
      "photoUrl": "https://lh3.googleusercontent.com/a-/AOh14GgBRB1w8bMEGhEpsp7aa7I9MQGz2D37o6hJeKeW=s64",
      "userId": "00933700884551564729"
     },
     "user_tz": -540
    },
    "id": "xX5CglRJvMf5",
    "outputId": "37bc37ee-3862-4ab2-d0fd-bbb5f5bb56a5"
   },
   "outputs": [],
   "source": [
    "3**5 # a**b : a의 b제곱"
   ]
  },
  {
   "cell_type": "markdown",
   "id": "8504d79c",
   "metadata": {
    "id": "4g1wvvgdHGsa"
   },
   "source": [
    "- 숫자 3의 거듭제곱을 구한다."
   ]
  },
  {
   "cell_type": "markdown",
   "id": "b04b3f10",
   "metadata": {
    "colab": {
     "base_uri": "https://localhost:8080/",
     "height": 34
    },
    "executionInfo": {
     "elapsed": 1254,
     "status": "ok",
     "timestamp": 1601435002415,
     "user": {
      "displayName": "오승환",
      "photoUrl": "https://lh3.googleusercontent.com/a-/AOh14GgBRB1w8bMEGhEpsp7aa7I9MQGz2D37o6hJeKeW=s64",
      "userId": "00933700884551564729"
     },
     "user_tz": -540
    },
    "id": "D_8RR_hriDaF",
    "outputId": "0f0141f9-e07e-4a44-8594-9a028e73bd90",
    "scrolled": true
   },
   "source": [
    "## T/F 타입"
   ]
  },
  {
   "cell_type": "markdown",
   "id": "3085d16d",
   "metadata": {
    "id": "dV77v88nIMop"
   },
   "source": [
    "- 참을 나타내는 True를 입력한다."
   ]
  },
  {
   "cell_type": "code",
   "execution_count": null,
   "id": "4cca6d8a",
   "metadata": {
    "colab": {
     "base_uri": "https://localhost:8080/",
     "height": 34
    },
    "executionInfo": {
     "elapsed": 2729,
     "status": "ok",
     "timestamp": 1601436173060,
     "user": {
      "displayName": "오승환",
      "photoUrl": "https://lh3.googleusercontent.com/a-/AOh14GgBRB1w8bMEGhEpsp7aa7I9MQGz2D37o6hJeKeW=s64",
      "userId": "00933700884551564729"
     },
     "user_tz": -540
    },
    "id": "xBB2REKPBIOB",
    "outputId": "fe4d936f-4871-4a51-daa5-c055c8f21c8a"
   },
   "outputs": [],
   "source": []
  },
  {
   "cell_type": "markdown",
   "id": "e6b0cc0d",
   "metadata": {
    "id": "4RG14Xt5IWFo"
   },
   "source": [
    "- 참을 나타내는 True를 부정한다. (not 명령)"
   ]
  },
  {
   "cell_type": "code",
   "execution_count": null,
   "id": "74c67496",
   "metadata": {
    "colab": {
     "base_uri": "https://localhost:8080/",
     "height": 34
    },
    "executionInfo": {
     "elapsed": 2673,
     "status": "ok",
     "timestamp": 1601436173065,
     "user": {
      "displayName": "오승환",
      "photoUrl": "https://lh3.googleusercontent.com/a-/AOh14GgBRB1w8bMEGhEpsp7aa7I9MQGz2D37o6hJeKeW=s64",
      "userId": "00933700884551564729"
     },
     "user_tz": -540
    },
    "id": "CHCTlT4llwZA",
    "outputId": "4c0367f4-75ba-4408-e380-ad6f4b9cd0a6"
   },
   "outputs": [],
   "source": []
  },
  {
   "cell_type": "markdown",
   "id": "a80d9a82",
   "metadata": {
    "id": "6SvYLFP6IZ9P"
   },
   "source": [
    "- 거짓을 나타내는 False의 자료형을 확인한다. (type 함수)"
   ]
  },
  {
   "cell_type": "code",
   "execution_count": null,
   "id": "868ab6a8",
   "metadata": {
    "colab": {
     "base_uri": "https://localhost:8080/",
     "height": 34
    },
    "executionInfo": {
     "elapsed": 2637,
     "status": "ok",
     "timestamp": 1601436173067,
     "user": {
      "displayName": "오승환",
      "photoUrl": "https://lh3.googleusercontent.com/a-/AOh14GgBRB1w8bMEGhEpsp7aa7I9MQGz2D37o6hJeKeW=s64",
      "userId": "00933700884551564729"
     },
     "user_tz": -540
    },
    "id": "bhD66hVFusUP",
    "outputId": "7def143b-84a4-47cd-cfce-4e5568cb76d6"
   },
   "outputs": [],
   "source": [
    "a = 5\n",
    "b = 4\n",
    "\n",
    "not a < b"
   ]
  },
  {
   "cell_type": "markdown",
   "id": "12f5f77c",
   "metadata": {
    "id": "PH_jLL9QIez1"
   },
   "source": [
    "- AND 연산(참, 참)의 결과를 print 함수로 출력한다. \n",
    "- AND 연산(참, 거짓)의 결과를 print 함수로 출력한다. \n",
    "- AND 연산(거짓, 거짓)의 결과를 print 함수로 출력한다. "
   ]
  },
  {
   "cell_type": "code",
   "execution_count": null,
   "id": "f0ad9dc3",
   "metadata": {
    "colab": {
     "base_uri": "https://localhost:8080/",
     "height": 70
    },
    "executionInfo": {
     "elapsed": 2620,
     "status": "ok",
     "timestamp": 1601436173069,
     "user": {
      "displayName": "오승환",
      "photoUrl": "https://lh3.googleusercontent.com/a-/AOh14GgBRB1w8bMEGhEpsp7aa7I9MQGz2D37o6hJeKeW=s64",
      "userId": "00933700884551564729"
     },
     "user_tz": -540
    },
    "id": "CnIp7bwqSRRX",
    "outputId": "eb33d890-2da6-40b7-ea0d-9a9cd764edac"
   },
   "outputs": [],
   "source": [
    "if (a == b):\n",
    "    print('ok')\n",
    "else:\n",
    "    print('no')"
   ]
  },
  {
   "cell_type": "markdown",
   "id": "e73d6362",
   "metadata": {
    "id": "XfEEbopFIt1j"
   },
   "source": [
    "- OR 연산(참, 참)의 결과를 print 함수로 출력한다. \n",
    "- OR 연산(참, 거짓)의 결과를 print 함수로 출력한다. \n",
    "- OR 연산(거짓, 거짓)의 결과를 print 함수로 출력한다. "
   ]
  },
  {
   "cell_type": "code",
   "execution_count": null,
   "id": "30b010b4",
   "metadata": {
    "colab": {
     "base_uri": "https://localhost:8080/",
     "height": 70
    },
    "executionInfo": {
     "elapsed": 2605,
     "status": "ok",
     "timestamp": 1601436173072,
     "user": {
      "displayName": "오승환",
      "photoUrl": "https://lh3.googleusercontent.com/a-/AOh14GgBRB1w8bMEGhEpsp7aa7I9MQGz2D37o6hJeKeW=s64",
      "userId": "00933700884551564729"
     },
     "user_tz": -540
    },
    "id": "Y22pd5Y3W7oZ",
    "outputId": "1fcf7507-18c2-4476-f37d-dcf661dd92f6",
    "scrolled": true
   },
   "outputs": [],
   "source": []
  },
  {
   "cell_type": "markdown",
   "id": "21cef240",
   "metadata": {
    "id": "eBtJtNL9KBbl"
   },
   "source": [
    "- \"3과 3이 같다\" 는 명제를 입력한다."
   ]
  },
  {
   "cell_type": "code",
   "execution_count": null,
   "id": "1950181a",
   "metadata": {
    "colab": {
     "base_uri": "https://localhost:8080/",
     "height": 34
    },
    "executionInfo": {
     "elapsed": 1577,
     "status": "ok",
     "timestamp": 1601436228797,
     "user": {
      "displayName": "오승환",
      "photoUrl": "https://lh3.googleusercontent.com/a-/AOh14GgBRB1w8bMEGhEpsp7aa7I9MQGz2D37o6hJeKeW=s64",
      "userId": "00933700884551564729"
     },
     "user_tz": -540
    },
    "id": "hp9w9PjKRml4",
    "outputId": "8726e0db-208a-41bd-a285-559071181a61"
   },
   "outputs": [],
   "source": []
  },
  {
   "cell_type": "markdown",
   "id": "09e15bdc",
   "metadata": {
    "id": "-6ZqsG_pKGc6"
   },
   "source": [
    "- \"3이 3과 다르다\" 는 명제를 입력한다."
   ]
  },
  {
   "cell_type": "code",
   "execution_count": null,
   "id": "030c935f",
   "metadata": {
    "colab": {
     "base_uri": "https://localhost:8080/",
     "height": 34
    },
    "executionInfo": {
     "elapsed": 1528,
     "status": "ok",
     "timestamp": 1601436228800,
     "user": {
      "displayName": "오승환",
      "photoUrl": "https://lh3.googleusercontent.com/a-/AOh14GgBRB1w8bMEGhEpsp7aa7I9MQGz2D37o6hJeKeW=s64",
      "userId": "00933700884551564729"
     },
     "user_tz": -540
    },
    "id": "vIc93fkFR7-W",
    "outputId": "f5ed8a63-c077-4c13-9a2a-e3687ff197be"
   },
   "outputs": [],
   "source": []
  },
  {
   "cell_type": "markdown",
   "id": "32b3704b",
   "metadata": {
    "id": "HnS8DPP9KRk4"
   },
   "source": [
    "- \"문자열 'a'와 'a'가 같다\" 는 명제를 입력한다."
   ]
  },
  {
   "cell_type": "code",
   "execution_count": null,
   "id": "d57b45ab",
   "metadata": {
    "colab": {
     "base_uri": "https://localhost:8080/",
     "height": 34
    },
    "executionInfo": {
     "elapsed": 1494,
     "status": "ok",
     "timestamp": 1601436228801,
     "user": {
      "displayName": "오승환",
      "photoUrl": "https://lh3.googleusercontent.com/a-/AOh14GgBRB1w8bMEGhEpsp7aa7I9MQGz2D37o6hJeKeW=s64",
      "userId": "00933700884551564729"
     },
     "user_tz": -540
    },
    "id": "N0AFbiofRmo4",
    "outputId": "135e30ff-94fe-4866-82ed-e183b1990db1"
   },
   "outputs": [],
   "source": []
  },
  {
   "cell_type": "markdown",
   "id": "5c2f4a0a",
   "metadata": {
    "id": "nHwpOv-bKYvQ"
   },
   "source": [
    "- \"문자열 'a'와 'a'가 다르다\" 는 명제를 입력한다."
   ]
  },
  {
   "cell_type": "code",
   "execution_count": null,
   "id": "8e281e4f",
   "metadata": {
    "colab": {
     "base_uri": "https://localhost:8080/",
     "height": 34
    },
    "executionInfo": {
     "elapsed": 1467,
     "status": "ok",
     "timestamp": 1601436228805,
     "user": {
      "displayName": "오승환",
      "photoUrl": "https://lh3.googleusercontent.com/a-/AOh14GgBRB1w8bMEGhEpsp7aa7I9MQGz2D37o6hJeKeW=s64",
      "userId": "00933700884551564729"
     },
     "user_tz": -540
    },
    "id": "Oh1CDtfhR6Ks",
    "outputId": "5f88c5ce-7466-476b-ac80-6089ec950e2d"
   },
   "outputs": [],
   "source": []
  },
  {
   "cell_type": "markdown",
   "id": "1ff63fea",
   "metadata": {
    "id": "gljcDLkiKbWj"
   },
   "source": [
    "- 문자열 'a'를 var1 변수에 저장한다. \n",
    "- 문자열 'a'를 var1 변수에 저장한다.\n",
    "- \"var1 변수와 var2 변수가 같다\" 는 명제를 입력한다. "
   ]
  },
  {
   "cell_type": "code",
   "execution_count": null,
   "id": "4910fa4a",
   "metadata": {
    "colab": {
     "base_uri": "https://localhost:8080/",
     "height": 34
    },
    "executionInfo": {
     "elapsed": 2515,
     "status": "ok",
     "timestamp": 1601436289142,
     "user": {
      "displayName": "오승환",
      "photoUrl": "https://lh3.googleusercontent.com/a-/AOh14GgBRB1w8bMEGhEpsp7aa7I9MQGz2D37o6hJeKeW=s64",
      "userId": "00933700884551564729"
     },
     "user_tz": -540
    },
    "id": "Fd3HIQasXfOt",
    "outputId": "b44e1a7e-bc70-4c62-c10d-0e404fd88049"
   },
   "outputs": [],
   "source": []
  },
  {
   "cell_type": "markdown",
   "id": "abcd48fb",
   "metadata": {
    "id": "7bXJvPkRKy3t"
   },
   "source": [
    "- \"4가 5보다 작다\" 라는 명제를 print 함수로 출력한다. \n",
    "- \"4가 5보다 작거나 같다\" 라는 명제를 print 함수로 출력한다. \n",
    "- \"4가 5보다 크거나 같다\" 라는 명제를 print 함수로 출력한다. \n",
    "- \"4가 5보다 크다\" 라는 명제를 print 함수로 출력한다. "
   ]
  },
  {
   "cell_type": "code",
   "execution_count": null,
   "id": "12759926",
   "metadata": {
    "colab": {
     "base_uri": "https://localhost:8080/",
     "height": 87
    },
    "executionInfo": {
     "elapsed": 1427,
     "status": "ok",
     "timestamp": 1601436228808,
     "user": {
      "displayName": "오승환",
      "photoUrl": "https://lh3.googleusercontent.com/a-/AOh14GgBRB1w8bMEGhEpsp7aa7I9MQGz2D37o6hJeKeW=s64",
      "userId": "00933700884551564729"
     },
     "user_tz": -540
    },
    "id": "UvvkYV7jRmim",
    "outputId": "d6243c5c-f7ed-4206-ca3a-f1112e1b1cb5"
   },
   "outputs": [],
   "source": []
  },
  {
   "cell_type": "markdown",
   "id": "667015fd",
   "metadata": {
    "id": "CIS8M_Q9LCiy"
   },
   "source": [
    "- \"4가 5보다 작다\" 와 \"4가 5보다 작거나 같다\"를 AND 연산 처리한다."
   ]
  },
  {
   "cell_type": "code",
   "execution_count": null,
   "id": "f730ce4e",
   "metadata": {
    "colab": {
     "base_uri": "https://localhost:8080/",
     "height": 34
    },
    "executionInfo": {
     "elapsed": 1411,
     "status": "ok",
     "timestamp": 1601436228810,
     "user": {
      "displayName": "오승환",
      "photoUrl": "https://lh3.googleusercontent.com/a-/AOh14GgBRB1w8bMEGhEpsp7aa7I9MQGz2D37o6hJeKeW=s64",
      "userId": "00933700884551564729"
     },
     "user_tz": -540
    },
    "id": "CnIp7bwqSRRX",
    "outputId": "9e83a42f-76d8-4f07-db9f-9ea1c541a24e"
   },
   "outputs": [],
   "source": []
  },
  {
   "cell_type": "markdown",
   "id": "057a9fe1",
   "metadata": {
    "id": "0vCSiwzRLOZg"
   },
   "source": [
    "- \"4가 5보다 작다\" 와 \"4가 5보다 크다\"를 OR 연산 처리한다."
   ]
  },
  {
   "cell_type": "code",
   "execution_count": null,
   "id": "01843fc2",
   "metadata": {
    "colab": {
     "base_uri": "https://localhost:8080/",
     "height": 34
    },
    "executionInfo": {
     "elapsed": 1388,
     "status": "ok",
     "timestamp": 1601436228811,
     "user": {
      "displayName": "오승환",
      "photoUrl": "https://lh3.googleusercontent.com/a-/AOh14GgBRB1w8bMEGhEpsp7aa7I9MQGz2D37o6hJeKeW=s64",
      "userId": "00933700884551564729"
     },
     "user_tz": -540
    },
    "id": "mGEVw2KnXZVa",
    "outputId": "50da2d89-9ee3-4faa-82f2-1701f4e8ddfb"
   },
   "outputs": [],
   "source": []
  },
  {
   "cell_type": "markdown",
   "id": "a43e9797",
   "metadata": {
    "id": "mtXkv1H2LTFC"
   },
   "source": [
    "- \"문자열 'a'가 'a'와 다르다\" 라는 명제를 부정한다. (not 명령)"
   ]
  },
  {
   "cell_type": "code",
   "execution_count": null,
   "id": "b6ad7b24",
   "metadata": {
    "colab": {
     "base_uri": "https://localhost:8080/",
     "height": 34
    },
    "executionInfo": {
     "elapsed": 1806,
     "status": "ok",
     "timestamp": 1601436229261,
     "user": {
      "displayName": "오승환",
      "photoUrl": "https://lh3.googleusercontent.com/a-/AOh14GgBRB1w8bMEGhEpsp7aa7I9MQGz2D37o6hJeKeW=s64",
      "userId": "00933700884551564729"
     },
     "user_tz": -540
    },
    "id": "ivXaVstmXcFH",
    "outputId": "63615640-012a-4237-b11a-4094d6bc48ea",
    "scrolled": true
   },
   "outputs": [],
   "source": []
  },
  {
   "cell_type": "code",
   "execution_count": 40,
   "id": "89487426",
   "metadata": {},
   "outputs": [],
   "source": [
    "a = 5\n",
    "b = 3"
   ]
  },
  {
   "cell_type": "code",
   "execution_count": 42,
   "id": "e3bb50ee",
   "metadata": {},
   "outputs": [
    {
     "data": {
      "text/plain": [
       "False"
      ]
     },
     "execution_count": 42,
     "metadata": {},
     "output_type": "execute_result"
    }
   ],
   "source": [
    "a == b"
   ]
  },
  {
   "cell_type": "code",
   "execution_count": null,
   "id": "25742bd4",
   "metadata": {},
   "outputs": [],
   "source": []
  }
 ],
 "metadata": {
  "kernelspec": {
   "display_name": "Python 3 (ipykernel)",
   "language": "python",
   "name": "python3"
  },
  "language_info": {
   "codemirror_mode": {
    "name": "ipython",
    "version": 3
   },
   "file_extension": ".py",
   "mimetype": "text/x-python",
   "name": "python",
   "nbconvert_exporter": "python",
   "pygments_lexer": "ipython3",
   "version": "3.11.5"
  }
 },
 "nbformat": 4,
 "nbformat_minor": 5
}
